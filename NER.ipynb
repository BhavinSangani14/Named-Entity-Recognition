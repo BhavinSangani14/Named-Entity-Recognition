{
  "cells": [
    {
      "cell_type": "markdown",
      "metadata": {
        "id": "_Gb-6QhB16Um"
      },
      "source": [
        "#NER(Named Entity Recognition)"
      ]
    },
    {
      "cell_type": "code",
      "execution_count": null,
      "metadata": {
        "colab": {
          "base_uri": "https://localhost:8080/"
        },
        "id": "DKE_dNJAuxPr",
        "outputId": "a2312ea9-f90f-4748-a66c-6620f925ea77"
      },
      "outputs": [
        {
          "name": "stdout",
          "output_type": "stream",
          "text": [
            "Looking in indexes: https://pypi.org/simple, https://us-python.pkg.dev/colab-wheels/public/simple/\n",
            "Collecting tensorflow==1.15\n",
            "  Downloading tensorflow-1.15.0-cp37-cp37m-manylinux2010_x86_64.whl (412.3 MB)\n",
            "\u001b[K     |████████████████████████████████| 412.3 MB 24 kB/s \n",
            "\u001b[?25hRequirement already satisfied: absl-py>=0.7.0 in /usr/local/lib/python3.7/dist-packages (from tensorflow==1.15) (1.1.0)\n",
            "Requirement already satisfied: numpy<2.0,>=1.16.0 in /usr/local/lib/python3.7/dist-packages (from tensorflow==1.15) (1.21.6)\n",
            "Collecting tensorflow-estimator==1.15.1\n",
            "  Downloading tensorflow_estimator-1.15.1-py2.py3-none-any.whl (503 kB)\n",
            "\u001b[K     |████████████████████████████████| 503 kB 51.5 MB/s \n",
            "\u001b[?25hCollecting keras-applications>=1.0.8\n",
            "  Downloading Keras_Applications-1.0.8-py3-none-any.whl (50 kB)\n",
            "\u001b[K     |████████████████████████████████| 50 kB 7.8 MB/s \n",
            "\u001b[?25hCollecting gast==0.2.2\n",
            "  Downloading gast-0.2.2.tar.gz (10 kB)\n",
            "Requirement already satisfied: protobuf>=3.6.1 in /usr/local/lib/python3.7/dist-packages (from tensorflow==1.15) (3.17.3)\n",
            "Requirement already satisfied: termcolor>=1.1.0 in /usr/local/lib/python3.7/dist-packages (from tensorflow==1.15) (1.1.0)\n",
            "Requirement already satisfied: six>=1.10.0 in /usr/local/lib/python3.7/dist-packages (from tensorflow==1.15) (1.15.0)\n",
            "Requirement already satisfied: astor>=0.6.0 in /usr/local/lib/python3.7/dist-packages (from tensorflow==1.15) (0.8.1)\n",
            "Requirement already satisfied: wrapt>=1.11.1 in /usr/local/lib/python3.7/dist-packages (from tensorflow==1.15) (1.14.1)\n",
            "Requirement already satisfied: wheel>=0.26 in /usr/local/lib/python3.7/dist-packages (from tensorflow==1.15) (0.37.1)\n",
            "Requirement already satisfied: grpcio>=1.8.6 in /usr/local/lib/python3.7/dist-packages (from tensorflow==1.15) (1.46.3)\n",
            "Requirement already satisfied: google-pasta>=0.1.6 in /usr/local/lib/python3.7/dist-packages (from tensorflow==1.15) (0.2.0)\n",
            "Requirement already satisfied: opt-einsum>=2.3.2 in /usr/local/lib/python3.7/dist-packages (from tensorflow==1.15) (3.3.0)\n",
            "Collecting tensorboard<1.16.0,>=1.15.0\n",
            "  Downloading tensorboard-1.15.0-py3-none-any.whl (3.8 MB)\n",
            "\u001b[K     |████████████████████████████████| 3.8 MB 49.7 MB/s \n",
            "\u001b[?25hRequirement already satisfied: keras-preprocessing>=1.0.5 in /usr/local/lib/python3.7/dist-packages (from tensorflow==1.15) (1.1.2)\n",
            "Requirement already satisfied: h5py in /usr/local/lib/python3.7/dist-packages (from keras-applications>=1.0.8->tensorflow==1.15) (3.1.0)\n",
            "Requirement already satisfied: werkzeug>=0.11.15 in /usr/local/lib/python3.7/dist-packages (from tensorboard<1.16.0,>=1.15.0->tensorflow==1.15) (1.0.1)\n",
            "Requirement already satisfied: markdown>=2.6.8 in /usr/local/lib/python3.7/dist-packages (from tensorboard<1.16.0,>=1.15.0->tensorflow==1.15) (3.3.7)\n",
            "Requirement already satisfied: setuptools>=41.0.0 in /usr/local/lib/python3.7/dist-packages (from tensorboard<1.16.0,>=1.15.0->tensorflow==1.15) (57.4.0)\n",
            "Requirement already satisfied: importlib-metadata>=4.4 in /usr/local/lib/python3.7/dist-packages (from markdown>=2.6.8->tensorboard<1.16.0,>=1.15.0->tensorflow==1.15) (4.11.4)\n",
            "Requirement already satisfied: typing-extensions>=3.6.4 in /usr/local/lib/python3.7/dist-packages (from importlib-metadata>=4.4->markdown>=2.6.8->tensorboard<1.16.0,>=1.15.0->tensorflow==1.15) (4.1.1)\n",
            "Requirement already satisfied: zipp>=0.5 in /usr/local/lib/python3.7/dist-packages (from importlib-metadata>=4.4->markdown>=2.6.8->tensorboard<1.16.0,>=1.15.0->tensorflow==1.15) (3.8.0)\n",
            "Requirement already satisfied: cached-property in /usr/local/lib/python3.7/dist-packages (from h5py->keras-applications>=1.0.8->tensorflow==1.15) (1.5.2)\n",
            "Building wheels for collected packages: gast\n",
            "  Building wheel for gast (setup.py) ... \u001b[?25l\u001b[?25hdone\n",
            "  Created wheel for gast: filename=gast-0.2.2-py3-none-any.whl size=7554 sha256=42e100a66b8b938085e21ae04df35cd4d5864852d7554e69e6f7d75684f0c9ea\n",
            "  Stored in directory: /root/.cache/pip/wheels/21/7f/02/420f32a803f7d0967b48dd823da3f558c5166991bfd204eef3\n",
            "Successfully built gast\n",
            "Installing collected packages: tensorflow-estimator, tensorboard, keras-applications, gast, tensorflow\n",
            "  Attempting uninstall: tensorflow-estimator\n",
            "    Found existing installation: tensorflow-estimator 2.8.0\n",
            "    Uninstalling tensorflow-estimator-2.8.0:\n",
            "      Successfully uninstalled tensorflow-estimator-2.8.0\n",
            "  Attempting uninstall: tensorboard\n",
            "    Found existing installation: tensorboard 2.8.0\n",
            "    Uninstalling tensorboard-2.8.0:\n",
            "      Successfully uninstalled tensorboard-2.8.0\n",
            "  Attempting uninstall: gast\n",
            "    Found existing installation: gast 0.5.3\n",
            "    Uninstalling gast-0.5.3:\n",
            "      Successfully uninstalled gast-0.5.3\n",
            "  Attempting uninstall: tensorflow\n",
            "    Found existing installation: tensorflow 2.8.2+zzzcolab20220527125636\n",
            "    Uninstalling tensorflow-2.8.2+zzzcolab20220527125636:\n",
            "      Successfully uninstalled tensorflow-2.8.2+zzzcolab20220527125636\n",
            "\u001b[31mERROR: pip's dependency resolver does not currently take into account all the packages that are installed. This behaviour is the source of the following dependency conflicts.\n",
            "tensorflow-probability 0.16.0 requires gast>=0.3.2, but you have gast 0.2.2 which is incompatible.\n",
            "kapre 0.3.7 requires tensorflow>=2.0.0, but you have tensorflow 1.15.0 which is incompatible.\u001b[0m\n",
            "Successfully installed gast-0.2.2 keras-applications-1.0.8 tensorboard-1.15.0 tensorflow-1.15.0 tensorflow-estimator-1.15.1\n",
            "Looking in indexes: https://pypi.org/simple, https://us-python.pkg.dev/colab-wheels/public/simple/\n",
            "Requirement already satisfied: tensorflow_hub>=0.6.0 in /usr/local/lib/python3.7/dist-packages (0.12.0)\n",
            "Requirement already satisfied: protobuf>=3.8.0 in /usr/local/lib/python3.7/dist-packages (from tensorflow_hub>=0.6.0) (3.17.3)\n",
            "Requirement already satisfied: numpy>=1.12.0 in /usr/local/lib/python3.7/dist-packages (from tensorflow_hub>=0.6.0) (1.21.6)\n",
            "Requirement already satisfied: six>=1.9 in /usr/local/lib/python3.7/dist-packages (from protobuf>=3.8.0->tensorflow_hub>=0.6.0) (1.15.0)\n",
            "Looking in indexes: https://pypi.org/simple, https://us-python.pkg.dev/colab-wheels/public/simple/\n",
            "Collecting tensorflow_text==1.15\n",
            "  Downloading tensorflow_text-1.15.0-cp37-cp37m-manylinux1_x86_64.whl (9.1 MB)\n",
            "\u001b[K     |████████████████████████████████| 9.1 MB 5.3 MB/s \n",
            "\u001b[?25hRequirement already satisfied: tensorflow<1.16,>=1.15.0 in /usr/local/lib/python3.7/dist-packages (from tensorflow_text==1.15) (1.15.0)\n",
            "Requirement already satisfied: keras-applications>=1.0.8 in /usr/local/lib/python3.7/dist-packages (from tensorflow<1.16,>=1.15.0->tensorflow_text==1.15) (1.0.8)\n",
            "Requirement already satisfied: keras-preprocessing>=1.0.5 in /usr/local/lib/python3.7/dist-packages (from tensorflow<1.16,>=1.15.0->tensorflow_text==1.15) (1.1.2)\n",
            "Requirement already satisfied: tensorflow-estimator==1.15.1 in /usr/local/lib/python3.7/dist-packages (from tensorflow<1.16,>=1.15.0->tensorflow_text==1.15) (1.15.1)\n",
            "Requirement already satisfied: numpy<2.0,>=1.16.0 in /usr/local/lib/python3.7/dist-packages (from tensorflow<1.16,>=1.15.0->tensorflow_text==1.15) (1.21.6)\n",
            "Requirement already satisfied: astor>=0.6.0 in /usr/local/lib/python3.7/dist-packages (from tensorflow<1.16,>=1.15.0->tensorflow_text==1.15) (0.8.1)\n",
            "Requirement already satisfied: gast==0.2.2 in /usr/local/lib/python3.7/dist-packages (from tensorflow<1.16,>=1.15.0->tensorflow_text==1.15) (0.2.2)\n",
            "Requirement already satisfied: absl-py>=0.7.0 in /usr/local/lib/python3.7/dist-packages (from tensorflow<1.16,>=1.15.0->tensorflow_text==1.15) (1.1.0)\n",
            "Requirement already satisfied: protobuf>=3.6.1 in /usr/local/lib/python3.7/dist-packages (from tensorflow<1.16,>=1.15.0->tensorflow_text==1.15) (3.17.3)\n",
            "Requirement already satisfied: wheel>=0.26 in /usr/local/lib/python3.7/dist-packages (from tensorflow<1.16,>=1.15.0->tensorflow_text==1.15) (0.37.1)\n",
            "Requirement already satisfied: grpcio>=1.8.6 in /usr/local/lib/python3.7/dist-packages (from tensorflow<1.16,>=1.15.0->tensorflow_text==1.15) (1.46.3)\n",
            "Requirement already satisfied: google-pasta>=0.1.6 in /usr/local/lib/python3.7/dist-packages (from tensorflow<1.16,>=1.15.0->tensorflow_text==1.15) (0.2.0)\n",
            "Requirement already satisfied: tensorboard<1.16.0,>=1.15.0 in /usr/local/lib/python3.7/dist-packages (from tensorflow<1.16,>=1.15.0->tensorflow_text==1.15) (1.15.0)\n",
            "Requirement already satisfied: opt-einsum>=2.3.2 in /usr/local/lib/python3.7/dist-packages (from tensorflow<1.16,>=1.15.0->tensorflow_text==1.15) (3.3.0)\n",
            "Requirement already satisfied: six>=1.10.0 in /usr/local/lib/python3.7/dist-packages (from tensorflow<1.16,>=1.15.0->tensorflow_text==1.15) (1.15.0)\n",
            "Requirement already satisfied: wrapt>=1.11.1 in /usr/local/lib/python3.7/dist-packages (from tensorflow<1.16,>=1.15.0->tensorflow_text==1.15) (1.14.1)\n",
            "Requirement already satisfied: termcolor>=1.1.0 in /usr/local/lib/python3.7/dist-packages (from tensorflow<1.16,>=1.15.0->tensorflow_text==1.15) (1.1.0)\n",
            "Requirement already satisfied: h5py in /usr/local/lib/python3.7/dist-packages (from keras-applications>=1.0.8->tensorflow<1.16,>=1.15.0->tensorflow_text==1.15) (3.1.0)\n",
            "Requirement already satisfied: markdown>=2.6.8 in /usr/local/lib/python3.7/dist-packages (from tensorboard<1.16.0,>=1.15.0->tensorflow<1.16,>=1.15.0->tensorflow_text==1.15) (3.3.7)\n",
            "Requirement already satisfied: werkzeug>=0.11.15 in /usr/local/lib/python3.7/dist-packages (from tensorboard<1.16.0,>=1.15.0->tensorflow<1.16,>=1.15.0->tensorflow_text==1.15) (1.0.1)\n",
            "Requirement already satisfied: setuptools>=41.0.0 in /usr/local/lib/python3.7/dist-packages (from tensorboard<1.16.0,>=1.15.0->tensorflow<1.16,>=1.15.0->tensorflow_text==1.15) (57.4.0)\n",
            "Requirement already satisfied: importlib-metadata>=4.4 in /usr/local/lib/python3.7/dist-packages (from markdown>=2.6.8->tensorboard<1.16.0,>=1.15.0->tensorflow<1.16,>=1.15.0->tensorflow_text==1.15) (4.11.4)\n",
            "Requirement already satisfied: typing-extensions>=3.6.4 in /usr/local/lib/python3.7/dist-packages (from importlib-metadata>=4.4->markdown>=2.6.8->tensorboard<1.16.0,>=1.15.0->tensorflow<1.16,>=1.15.0->tensorflow_text==1.15) (4.1.1)\n",
            "Requirement already satisfied: zipp>=0.5 in /usr/local/lib/python3.7/dist-packages (from importlib-metadata>=4.4->markdown>=2.6.8->tensorboard<1.16.0,>=1.15.0->tensorflow<1.16,>=1.15.0->tensorflow_text==1.15) (3.8.0)\n",
            "Requirement already satisfied: cached-property in /usr/local/lib/python3.7/dist-packages (from h5py->keras-applications>=1.0.8->tensorflow<1.16,>=1.15.0->tensorflow_text==1.15) (1.5.2)\n",
            "Installing collected packages: tensorflow-text\n",
            "Successfully installed tensorflow-text-1.15.0\n"
          ]
        }
      ],
      "source": [
        "!pip install tensorflow==1.15\n",
        "!pip install \"tensorflow_hub>=0.6.0\"\n",
        "!pip3 install tensorflow_text==1.15\n"
      ]
    },
    {
      "cell_type": "code",
      "execution_count": null,
      "metadata": {
        "colab": {
          "base_uri": "https://localhost:8080/",
          "height": 464
        },
        "id": "f8BiI6FXVbCQ",
        "outputId": "a7dc3bda-4e9b-47b7-dfed-0287dbe24f31"
      },
      "outputs": [
        {
          "name": "stdout",
          "output_type": "stream",
          "text": [
            "Looking in indexes: https://pypi.org/simple, https://us-python.pkg.dev/colab-wheels/public/simple/\n",
            "Collecting numpy==1.18.5\n",
            "  Downloading numpy-1.18.5-cp37-cp37m-manylinux1_x86_64.whl (20.1 MB)\n",
            "\u001b[K     |████████████████████████████████| 20.1 MB 4.6 MB/s \n",
            "\u001b[?25hInstalling collected packages: numpy\n",
            "  Attempting uninstall: numpy\n",
            "    Found existing installation: numpy 1.21.6\n",
            "    Uninstalling numpy-1.21.6:\n",
            "      Successfully uninstalled numpy-1.21.6\n",
            "\u001b[31mERROR: pip's dependency resolver does not currently take into account all the packages that are installed. This behaviour is the source of the following dependency conflicts.\n",
            "xarray-einstats 0.2.2 requires numpy>=1.21, but you have numpy 1.18.5 which is incompatible.\n",
            "tensorflow-probability 0.16.0 requires gast>=0.3.2, but you have gast 0.2.2 which is incompatible.\n",
            "tables 3.7.0 requires numpy>=1.19.0, but you have numpy 1.18.5 which is incompatible.\n",
            "kapre 0.3.7 requires tensorflow>=2.0.0, but you have tensorflow 1.15.0 which is incompatible.\n",
            "jaxlib 0.3.7+cuda11.cudnn805 requires numpy>=1.19, but you have numpy 1.18.5 which is incompatible.\n",
            "jax 0.3.8 requires numpy>=1.19, but you have numpy 1.18.5 which is incompatible.\n",
            "datascience 0.10.6 requires folium==0.2.1, but you have folium 0.8.3 which is incompatible.\n",
            "albumentations 0.1.12 requires imgaug<0.2.7,>=0.2.5, but you have imgaug 0.2.9 which is incompatible.\u001b[0m\n",
            "Successfully installed numpy-1.18.5\n"
          ]
        },
        {
          "data": {
            "application/vnd.colab-display-data+json": {
              "pip_warning": {
                "packages": [
                  "numpy"
                ]
              }
            }
          },
          "metadata": {},
          "output_type": "display_data"
        }
      ],
      "source": [
        "pip install numpy==1.18.5"
      ]
    },
    {
      "cell_type": "code",
      "execution_count": null,
      "metadata": {
        "colab": {
          "base_uri": "https://localhost:8080/"
        },
        "id": "Enrq526j36E9",
        "outputId": "5ed18ff1-aca9-4c80-8919-4f5b76287f16"
      },
      "outputs": [
        {
          "name": "stdout",
          "output_type": "stream",
          "text": [
            "Found existing installation: h5py 3.1.0\n",
            "Uninstalling h5py-3.1.0:\n",
            "  Would remove:\n",
            "    /usr/local/lib/python3.7/dist-packages/h5py-3.1.0.dist-info/*\n",
            "    /usr/local/lib/python3.7/dist-packages/h5py.libs/libaec-9c9e97eb.so.0.0.10\n",
            "    /usr/local/lib/python3.7/dist-packages/h5py.libs/libhdf5-00e8fae8.so.200.0.0\n",
            "    /usr/local/lib/python3.7/dist-packages/h5py.libs/libhdf5_hl-383c339f.so.200.0.0\n",
            "    /usr/local/lib/python3.7/dist-packages/h5py.libs/libsz-e7aa62f5.so.2.0.1\n",
            "    /usr/local/lib/python3.7/dist-packages/h5py.libs/libz-eb09ad1d.so.1.2.3\n",
            "    /usr/local/lib/python3.7/dist-packages/h5py/*\n",
            "Proceed (y/n)? y\n",
            "  Successfully uninstalled h5py-3.1.0\n",
            "Looking in indexes: https://pypi.org/simple, https://us-python.pkg.dev/colab-wheels/public/simple/\n",
            "Collecting h5py==2.10.0\n",
            "  Downloading h5py-2.10.0-cp37-cp37m-manylinux1_x86_64.whl (2.9 MB)\n",
            "\u001b[K     |████████████████████████████████| 2.9 MB 5.4 MB/s \n",
            "\u001b[?25hRequirement already satisfied: six in /usr/local/lib/python3.7/dist-packages (from h5py==2.10.0) (1.15.0)\n",
            "Requirement already satisfied: numpy>=1.7 in /usr/local/lib/python3.7/dist-packages (from h5py==2.10.0) (1.18.5)\n",
            "Installing collected packages: h5py\n",
            "Successfully installed h5py-2.10.0\n"
          ]
        }
      ],
      "source": [
        "!pip uninstall h5py\n",
        "!pip install h5py==2.10.0"
      ]
    },
    {
      "cell_type": "code",
      "execution_count": 1,
      "metadata": {
        "id": "kXg5e4Lxp-UM"
      },
      "outputs": [],
      "source": [
        "#Import the necessary libraries\n",
        "\n",
        "import requests\n",
        "import re\n",
        "import os\n",
        "import zipfile\n",
        "import collections\n",
        "import numpy as np\n",
        "import pandas as pd\n",
        "import urllib.request\n",
        "import operator\n",
        "import matplotlib.pyplot as plt\n",
        "from collections import defaultdict\n",
        "%matplotlib inline\n",
        "from IPython.core.display import HTML\n",
        "\n",
        "import tensorflow as tf\n",
        "from tensorflow import keras\n",
        "from tensorflow.python.keras import backend as K\n",
        "from tensorflow.keras.models import Model\n",
        "from collections import defaultdict\n",
        "from sklearn.model_selection import train_test_split\n",
        "import tensorflow_hub as hub\n",
        "from tensorflow.keras.layers import Dense,SimpleRNN,LSTM,Bidirectional,add\n",
        "import tensorflow.keras.backend as K\n",
        "from sklearn.metrics import classification_report, f1_score, accuracy_score\n",
        "from tensorflow.keras import layers"
      ]
    },
    {
      "cell_type": "code",
      "execution_count": 2,
      "metadata": {
        "id": "ScoVWZWLq87b"
      },
      "outputs": [],
      "source": [
        "#Read the dataset as pandas dataframe\n",
        "df=pd.read_json(\"/content/drive/MyDrive/WIESP2022-NER-TRAINING.jsonl\",lines=True)"
      ]
    },
    {
      "cell_type": "code",
      "execution_count": 3,
      "metadata": {
        "colab": {
          "base_uri": "https://localhost:8080/",
          "height": 424
        },
        "id": "EQTi4RIxrPZc",
        "outputId": "f675a952-7fad-4a92-e18f-a794ab7d480a"
      },
      "outputs": [
        {
          "data": {
            "text/html": [
              "\n",
              "  <div id=\"df-8705baed-eca5-4a4a-a682-c0cbedaf48dd\">\n",
              "    <div class=\"colab-df-container\">\n",
              "      <div>\n",
              "<style scoped>\n",
              "    .dataframe tbody tr th:only-of-type {\n",
              "        vertical-align: middle;\n",
              "    }\n",
              "\n",
              "    .dataframe tbody tr th {\n",
              "        vertical-align: top;\n",
              "    }\n",
              "\n",
              "    .dataframe thead th {\n",
              "        text-align: right;\n",
              "    }\n",
              "</style>\n",
              "<table border=\"1\" class=\"dataframe\">\n",
              "  <thead>\n",
              "    <tr style=\"text-align: right;\">\n",
              "      <th></th>\n",
              "      <th>bibcode</th>\n",
              "      <th>label_studio_id</th>\n",
              "      <th>ner_ids</th>\n",
              "      <th>ner_tags</th>\n",
              "      <th>section</th>\n",
              "      <th>tokens</th>\n",
              "      <th>unique_id</th>\n",
              "    </tr>\n",
              "  </thead>\n",
              "  <tbody>\n",
              "    <tr>\n",
              "      <th>0</th>\n",
              "      <td>2019MNRAS.486.5558S</td>\n",
              "      <td>487</td>\n",
              "      <td>[62, 62, 62, 62, 62, 62, 62, 15, 62, 62, 62, 6...</td>\n",
              "      <td>[O, O, O, O, O, O, O, B-Instrument, O, O, O, O...</td>\n",
              "      <td>fulltext</td>\n",
              "      <td>[Whilst, a, reasonable, harmonic, fit, to, the...</td>\n",
              "      <td>fulltext_487_2019MNRAS.486.5558S</td>\n",
              "    </tr>\n",
              "    <tr>\n",
              "      <th>1</th>\n",
              "      <td>2018MNRAS.478.5533F</td>\n",
              "      <td>1129</td>\n",
              "      <td>[62, 62, 62, 62, 62, 62, 62, 62, 62, 62, 62, 6...</td>\n",
              "      <td>[O, O, O, O, O, O, O, O, O, O, O, O, O, O, O, ...</td>\n",
              "      <td>fulltext</td>\n",
              "      <td>[comparison, once, the, angular, positions, of...</td>\n",
              "      <td>fulltext_1129_2018MNRAS.478.5533F</td>\n",
              "    </tr>\n",
              "    <tr>\n",
              "      <th>2</th>\n",
              "      <td>2018MNRAS.480.3062L</td>\n",
              "      <td>1086</td>\n",
              "      <td>[62, 62, 62, 62, 62, 62, 62, 62, 62, 62, 62, 6...</td>\n",
              "      <td>[O, O, O, O, O, O, O, O, O, O, O, O, O, O, O, ...</td>\n",
              "      <td>acknowledgments</td>\n",
              "      <td>[ACKNOWLEDGEMENTS, The, authors, thank, an, an...</td>\n",
              "      <td>acknowledgments_1086_2018MNRAS.480.3062L</td>\n",
              "    </tr>\n",
              "    <tr>\n",
              "      <th>3</th>\n",
              "      <td>2016MNRAS.457.1786M</td>\n",
              "      <td>1135</td>\n",
              "      <td>[22, 62, 62, 62, 62, 21, 13, 44, 44, 21, 62, 1...</td>\n",
              "      <td>[B-Person, O, O, O, O, B-Organization, B-Grant...</td>\n",
              "      <td>acknowledgments</td>\n",
              "      <td>[BDM, gratefully, acknowledges, support, from,...</td>\n",
              "      <td>acknowledgments_1135_2016MNRAS.457.1786M</td>\n",
              "    </tr>\n",
              "    <tr>\n",
              "      <th>4</th>\n",
              "      <td>2019MNRAS.482L...9B</td>\n",
              "      <td>559</td>\n",
              "      <td>[62, 62, 62, 22, 53, 22, 53, 22, 53, 22, 53, 2...</td>\n",
              "      <td>[O, O, O, B-Person, I-Person, B-Person, I-Pers...</td>\n",
              "      <td>acknowledgments</td>\n",
              "      <td>[ACKNOWLEDGEMENTS, We, thank, Dougal, Mackey,,...</td>\n",
              "      <td>acknowledgments_559_2019MNRAS.482L...9B</td>\n",
              "    </tr>\n",
              "  </tbody>\n",
              "</table>\n",
              "</div>\n",
              "      <button class=\"colab-df-convert\" onclick=\"convertToInteractive('df-8705baed-eca5-4a4a-a682-c0cbedaf48dd')\"\n",
              "              title=\"Convert this dataframe to an interactive table.\"\n",
              "              style=\"display:none;\">\n",
              "        \n",
              "  <svg xmlns=\"http://www.w3.org/2000/svg\" height=\"24px\"viewBox=\"0 0 24 24\"\n",
              "       width=\"24px\">\n",
              "    <path d=\"M0 0h24v24H0V0z\" fill=\"none\"/>\n",
              "    <path d=\"M18.56 5.44l.94 2.06.94-2.06 2.06-.94-2.06-.94-.94-2.06-.94 2.06-2.06.94zm-11 1L8.5 8.5l.94-2.06 2.06-.94-2.06-.94L8.5 2.5l-.94 2.06-2.06.94zm10 10l.94 2.06.94-2.06 2.06-.94-2.06-.94-.94-2.06-.94 2.06-2.06.94z\"/><path d=\"M17.41 7.96l-1.37-1.37c-.4-.4-.92-.59-1.43-.59-.52 0-1.04.2-1.43.59L10.3 9.45l-7.72 7.72c-.78.78-.78 2.05 0 2.83L4 21.41c.39.39.9.59 1.41.59.51 0 1.02-.2 1.41-.59l7.78-7.78 2.81-2.81c.8-.78.8-2.07 0-2.86zM5.41 20L4 18.59l7.72-7.72 1.47 1.35L5.41 20z\"/>\n",
              "  </svg>\n",
              "      </button>\n",
              "      \n",
              "  <style>\n",
              "    .colab-df-container {\n",
              "      display:flex;\n",
              "      flex-wrap:wrap;\n",
              "      gap: 12px;\n",
              "    }\n",
              "\n",
              "    .colab-df-convert {\n",
              "      background-color: #E8F0FE;\n",
              "      border: none;\n",
              "      border-radius: 50%;\n",
              "      cursor: pointer;\n",
              "      display: none;\n",
              "      fill: #1967D2;\n",
              "      height: 32px;\n",
              "      padding: 0 0 0 0;\n",
              "      width: 32px;\n",
              "    }\n",
              "\n",
              "    .colab-df-convert:hover {\n",
              "      background-color: #E2EBFA;\n",
              "      box-shadow: 0px 1px 2px rgba(60, 64, 67, 0.3), 0px 1px 3px 1px rgba(60, 64, 67, 0.15);\n",
              "      fill: #174EA6;\n",
              "    }\n",
              "\n",
              "    [theme=dark] .colab-df-convert {\n",
              "      background-color: #3B4455;\n",
              "      fill: #D2E3FC;\n",
              "    }\n",
              "\n",
              "    [theme=dark] .colab-df-convert:hover {\n",
              "      background-color: #434B5C;\n",
              "      box-shadow: 0px 1px 3px 1px rgba(0, 0, 0, 0.15);\n",
              "      filter: drop-shadow(0px 1px 2px rgba(0, 0, 0, 0.3));\n",
              "      fill: #FFFFFF;\n",
              "    }\n",
              "  </style>\n",
              "\n",
              "      <script>\n",
              "        const buttonEl =\n",
              "          document.querySelector('#df-8705baed-eca5-4a4a-a682-c0cbedaf48dd button.colab-df-convert');\n",
              "        buttonEl.style.display =\n",
              "          google.colab.kernel.accessAllowed ? 'block' : 'none';\n",
              "\n",
              "        async function convertToInteractive(key) {\n",
              "          const element = document.querySelector('#df-8705baed-eca5-4a4a-a682-c0cbedaf48dd');\n",
              "          const dataTable =\n",
              "            await google.colab.kernel.invokeFunction('convertToInteractive',\n",
              "                                                     [key], {});\n",
              "          if (!dataTable) return;\n",
              "\n",
              "          const docLinkHtml = 'Like what you see? Visit the ' +\n",
              "            '<a target=\"_blank\" href=https://colab.research.google.com/notebooks/data_table.ipynb>data table notebook</a>'\n",
              "            + ' to learn more about interactive tables.';\n",
              "          element.innerHTML = '';\n",
              "          dataTable['output_type'] = 'display_data';\n",
              "          await google.colab.output.renderOutput(dataTable, element);\n",
              "          const docLink = document.createElement('div');\n",
              "          docLink.innerHTML = docLinkHtml;\n",
              "          element.appendChild(docLink);\n",
              "        }\n",
              "      </script>\n",
              "    </div>\n",
              "  </div>\n",
              "  "
            ],
            "text/plain": [
              "               bibcode  label_studio_id  \\\n",
              "0  2019MNRAS.486.5558S              487   \n",
              "1  2018MNRAS.478.5533F             1129   \n",
              "2  2018MNRAS.480.3062L             1086   \n",
              "3  2016MNRAS.457.1786M             1135   \n",
              "4  2019MNRAS.482L...9B              559   \n",
              "\n",
              "                                             ner_ids  \\\n",
              "0  [62, 62, 62, 62, 62, 62, 62, 15, 62, 62, 62, 6...   \n",
              "1  [62, 62, 62, 62, 62, 62, 62, 62, 62, 62, 62, 6...   \n",
              "2  [62, 62, 62, 62, 62, 62, 62, 62, 62, 62, 62, 6...   \n",
              "3  [22, 62, 62, 62, 62, 21, 13, 44, 44, 21, 62, 1...   \n",
              "4  [62, 62, 62, 22, 53, 22, 53, 22, 53, 22, 53, 2...   \n",
              "\n",
              "                                            ner_tags          section  \\\n",
              "0  [O, O, O, O, O, O, O, B-Instrument, O, O, O, O...         fulltext   \n",
              "1  [O, O, O, O, O, O, O, O, O, O, O, O, O, O, O, ...         fulltext   \n",
              "2  [O, O, O, O, O, O, O, O, O, O, O, O, O, O, O, ...  acknowledgments   \n",
              "3  [B-Person, O, O, O, O, B-Organization, B-Grant...  acknowledgments   \n",
              "4  [O, O, O, B-Person, I-Person, B-Person, I-Pers...  acknowledgments   \n",
              "\n",
              "                                              tokens  \\\n",
              "0  [Whilst, a, reasonable, harmonic, fit, to, the...   \n",
              "1  [comparison, once, the, angular, positions, of...   \n",
              "2  [ACKNOWLEDGEMENTS, The, authors, thank, an, an...   \n",
              "3  [BDM, gratefully, acknowledges, support, from,...   \n",
              "4  [ACKNOWLEDGEMENTS, We, thank, Dougal, Mackey,,...   \n",
              "\n",
              "                                  unique_id  \n",
              "0          fulltext_487_2019MNRAS.486.5558S  \n",
              "1         fulltext_1129_2018MNRAS.478.5533F  \n",
              "2  acknowledgments_1086_2018MNRAS.480.3062L  \n",
              "3  acknowledgments_1135_2016MNRAS.457.1786M  \n",
              "4   acknowledgments_559_2019MNRAS.482L...9B  "
            ]
          },
          "execution_count": 3,
          "metadata": {},
          "output_type": "execute_result"
        }
      ],
      "source": [
        "#quick look of the dataset\n",
        "df.head()"
      ]
    },
    {
      "cell_type": "code",
      "execution_count": 4,
      "metadata": {
        "colab": {
          "base_uri": "https://localhost:8080/"
        },
        "id": "gIXa9z5nlNQy",
        "outputId": "e3ae6ad3-60e3-46c6-9aa2-20d823cc0cfb"
      },
      "outputs": [
        {
          "name": "stdout",
          "output_type": "stream",
          "text": [
            "The shape of the dataset is (1753, 7)\n"
          ]
        }
      ],
      "source": [
        "shape=df.shape\n",
        "print(f\"The shape of the dataset is {shape}\")"
      ]
    },
    {
      "cell_type": "code",
      "execution_count": 5,
      "metadata": {
        "colab": {
          "base_uri": "https://localhost:8080/"
        },
        "id": "eBOV0b2rrQUr",
        "outputId": "aaf16c77-8584-485c-df67-3afccae2f66e"
      },
      "outputs": [
        {
          "name": "stdout",
          "output_type": "stream",
          "text": [
            "There are 63 unique NER tags in the dataset.\n",
            "\n",
            "O\n",
            "B-Instrument\n",
            "B-Mission\n",
            "B-Citation\n",
            "I-Citation\n",
            "B-Telescope\n",
            "B-Wavelength\n",
            "I-Wavelength\n",
            "B-Model\n",
            "I-Model\n",
            "B-Software\n",
            "I-Software\n",
            "B-Formula\n",
            "I-Formula\n",
            "B-Person\n",
            "B-Organization\n",
            "I-Organization\n",
            "B-Fellowship\n",
            "I-Fellowship\n",
            "B-Grant\n",
            "I-Grant\n",
            "I-Person\n",
            "B-Location\n",
            "I-Location\n",
            "B-Event\n",
            "I-Event\n",
            "B-URL\n",
            "B-Collaboration\n",
            "I-Collaboration\n",
            "B-CelestialObject\n",
            "I-CelestialObject\n",
            "B-Dataset\n",
            "I-Dataset\n",
            "B-CelestialObjectRegion\n",
            "I-CelestialObjectRegion\n",
            "B-TextGarbage\n",
            "I-TextGarbage\n",
            "B-Survey\n",
            "B-ObservationalTechniques\n",
            "I-ObservationalTechniques\n",
            "B-ComputingFacility\n",
            "I-ComputingFacility\n",
            "I-Survey\n",
            "I-Telescope\n",
            "B-Observatory\n",
            "B-CelestialRegion\n",
            "I-CelestialRegion\n",
            "B-Archive\n",
            "I-Archive\n",
            "B-Proposal\n",
            "I-Observatory\n",
            "B-Database\n",
            "I-Database\n",
            "B-Tag\n",
            "B-Identifier\n",
            "I-Identifier\n",
            "I-Mission\n",
            "I-URL\n",
            "I-Tag\n",
            "I-Proposal\n",
            "I-Instrument\n",
            "B-EntityOfFutureInterest\n",
            "I-EntityOfFutureInterest\n"
          ]
        }
      ],
      "source": [
        "# unique NER tags in the dataset \n",
        "unique_tags=[]\n",
        "for i in df.ner_tags:\n",
        "  for j in i:\n",
        "    if j not in unique_tags:\n",
        "      unique_tags.append(j)\n",
        "\n",
        "num_tags=len(unique_tags)\n",
        "print(f\"There are {num_tags} unique NER tags in the dataset.\\n\")\n",
        "\n",
        "for tag in unique_tags:\n",
        "  print(tag)"
      ]
    },
    {
      "cell_type": "code",
      "execution_count": 6,
      "metadata": {
        "colab": {
          "base_uri": "https://localhost:8080/"
        },
        "id": "aIx_B0vgmP_A",
        "outputId": "e2c88a34-59a5-4cba-ab36-2b430f5acb8e"
      },
      "outputs": [
        {
          "name": "stdout",
          "output_type": "stream",
          "text": [
            "{'O': 62, 'B-Instrument': 15, 'B-Mission': 17, 'B-Citation': 4, 'I-Citation': 35, 'B-Telescope': 27, 'B-Wavelength': 30, 'I-Wavelength': 61, 'B-Model': 18, 'I-Model': 49, 'B-Software': 24, 'I-Software': 55, 'B-Formula': 12, 'I-Formula': 43, 'B-Person': 22, 'B-Organization': 21, 'I-Organization': 52, 'B-Fellowship': 11, 'I-Fellowship': 42, 'B-Grant': 13, 'I-Grant': 44, 'I-Person': 53, 'B-Location': 16, 'I-Location': 47, 'B-Event': 10, 'I-Event': 41, 'B-URL': 29, 'B-Collaboration': 5, 'I-Collaboration': 36, 'B-CelestialObject': 1, 'I-CelestialObject': 32, 'B-Dataset': 8, 'I-Dataset': 39, 'B-CelestialObjectRegion': 2, 'I-CelestialObjectRegion': 33, 'B-TextGarbage': 28, 'I-TextGarbage': 59, 'B-Survey': 25, 'B-ObservationalTechniques': 19, 'I-ObservationalTechniques': 50, 'B-ComputingFacility': 6, 'I-ComputingFacility': 37, 'I-Survey': 56, 'I-Telescope': 58, 'B-Observatory': 20, 'B-CelestialRegion': 3, 'I-CelestialRegion': 34, 'B-Archive': 0, 'I-Archive': 31, 'B-Proposal': 23, 'I-Observatory': 51, 'B-Database': 7, 'I-Database': 38, 'B-Tag': 26, 'B-Identifier': 14, 'I-Identifier': 45, 'I-Mission': 48, 'I-URL': 60, 'I-Tag': 57, 'I-Proposal': 54, 'I-Instrument': 46, 'B-EntityOfFutureInterest': 9, 'I-EntityOfFutureInterest': 40}\n"
          ]
        }
      ],
      "source": [
        "# creating a dictionary to map tags to ids\n",
        "tag_to_id={}\n",
        "\n",
        "for i in range(len(df)):\n",
        "  for idx,j in enumerate(df.ner_tags[i]):\n",
        "    if j not in tag_to_id.keys():\n",
        "      tag_to_id[j]=df.ner_ids[i][idx]\n",
        "\n",
        "print(tag_to_id)"
      ]
    },
    {
      "cell_type": "code",
      "execution_count": 7,
      "metadata": {
        "colab": {
          "base_uri": "https://localhost:8080/"
        },
        "id": "3bptcVMToOsG",
        "outputId": "877e8636-bf9d-47e6-bdfd-c5e98b179a36"
      },
      "outputs": [
        {
          "name": "stdout",
          "output_type": "stream",
          "text": [
            "{62: 'O', 15: 'B-Instrument', 17: 'B-Mission', 4: 'B-Citation', 35: 'I-Citation', 27: 'B-Telescope', 30: 'B-Wavelength', 61: 'I-Wavelength', 18: 'B-Model', 49: 'I-Model', 24: 'B-Software', 55: 'I-Software', 12: 'B-Formula', 43: 'I-Formula', 22: 'B-Person', 21: 'B-Organization', 52: 'I-Organization', 11: 'B-Fellowship', 42: 'I-Fellowship', 13: 'B-Grant', 44: 'I-Grant', 53: 'I-Person', 16: 'B-Location', 47: 'I-Location', 10: 'B-Event', 41: 'I-Event', 29: 'B-URL', 5: 'B-Collaboration', 36: 'I-Collaboration', 1: 'B-CelestialObject', 32: 'I-CelestialObject', 8: 'B-Dataset', 39: 'I-Dataset', 2: 'B-CelestialObjectRegion', 33: 'I-CelestialObjectRegion', 28: 'B-TextGarbage', 59: 'I-TextGarbage', 25: 'B-Survey', 19: 'B-ObservationalTechniques', 50: 'I-ObservationalTechniques', 6: 'B-ComputingFacility', 37: 'I-ComputingFacility', 56: 'I-Survey', 58: 'I-Telescope', 20: 'B-Observatory', 3: 'B-CelestialRegion', 34: 'I-CelestialRegion', 0: 'B-Archive', 31: 'I-Archive', 23: 'B-Proposal', 51: 'I-Observatory', 7: 'B-Database', 38: 'I-Database', 26: 'B-Tag', 14: 'B-Identifier', 45: 'I-Identifier', 48: 'I-Mission', 60: 'I-URL', 57: 'I-Tag', 54: 'I-Proposal', 46: 'I-Instrument', 9: 'B-EntityOfFutureInterest', 40: 'I-EntityOfFutureInterest'}\n"
          ]
        }
      ],
      "source": [
        "#creating a dictionary to map ids to tags\n",
        "\n",
        "id_to_tag = {value : key for key, value in tag_to_id.items()}\n",
        "\n",
        "print(id_to_tag)"
      ]
    },
    {
      "cell_type": "code",
      "execution_count": 8,
      "metadata": {
        "id": "h3glij2i0PZh"
      },
      "outputs": [],
      "source": [
        "#creating a function to clean the dataset\n",
        "\n",
        "def clean_data(data,tags):\n",
        "  d = []\n",
        "  t = []\n",
        "  for i in range(len(data)):\n",
        "    tok_list = ['<s>']\n",
        "    tag_list = [\"O\"]\n",
        "    for j in range(len(data[i])):\n",
        "      x = re.sub(r'[^a-zA-Z0\\s]', '', data[i][j])\n",
        "      x = x.lower()\n",
        "      if len(x)!=0:\n",
        "        tok_list.append(x)\n",
        "        tag_list.append(tags[i][j])\n",
        "    tok_list.append(\"</s>\")\n",
        "    tag_list.append(\"O\")\n",
        "    d.append(tok_list)\n",
        "    t.append(tag_list)\n",
        "  \n",
        "  return d , t\n",
        "\n",
        "\n",
        "def clean_tokens(data, tokenizer):\n",
        "  d=[]\n",
        "  for i in range(len(data)):\n",
        "    tok_list=[]\n",
        "    for j in range(len(data[i])):\n",
        "      x = re.sub(r'[^a-zA-Z0\\s]', '', data[i][j])\n",
        "      x = x.lower()\n",
        "      if len(x)!=0:\n",
        "        tok_list.append(x)\n",
        "    d.append(tok_list)\n",
        "\n",
        "  tokens = tokenizer.texts_to_sequences(d)\n",
        "  return tokens"
      ]
    },
    {
      "cell_type": "code",
      "execution_count": 9,
      "metadata": {
        "id": "NsEN4heZ7lKF"
      },
      "outputs": [],
      "source": [
        "# cleaning the data\n",
        "tokens,tags=clean_data(df.tokens.values,df.ner_tags.values)"
      ]
    },
    {
      "cell_type": "code",
      "execution_count": 10,
      "metadata": {
        "id": "uxchMmbK9KqE"
      },
      "outputs": [],
      "source": [
        "#converting tags into numbers\n",
        "def tag_to_num(tags):\n",
        "  for i in range(len(tags)):\n",
        "    for j in range(len(tags[i])):\n",
        "      tags[i][j] = tag_to_id[tags[i][j]]\n",
        "\n",
        "  return tags"
      ]
    },
    {
      "cell_type": "code",
      "execution_count": 11,
      "metadata": {
        "id": "_OQhc8JE-6rp"
      },
      "outputs": [],
      "source": [
        "labels = tag_to_num(tags)"
      ]
    },
    {
      "cell_type": "code",
      "execution_count": null,
      "metadata": {
        "id": "yoSNsezZoF8W"
      },
      "outputs": [],
      "source": [
        "#word to number\n",
        "tokenizer = tf.keras.preprocessing.text.Tokenizer(num_words=None,\n",
        "                                                  filters='!\"#$%&()*+,-./:;<=>?@[\\\\]^_`{|}~\\t\\n',\n",
        "                                                  lower=True,\n",
        "                                                  oov_token = \"UNK\")\n",
        "\n",
        "tokenizer.fit_on_texts(tokens)\n",
        "\n",
        "data = tokenizer.texts_to_sequences(tokens)"
      ]
    },
    {
      "cell_type": "code",
      "execution_count": null,
      "metadata": {
        "id": "pAcW1J2HuiK1"
      },
      "outputs": [],
      "source": [
        "#split the data into train and validation sets\n",
        "\n",
        "train_sentences, val_sentences, train_tags, val_tags = train_test_split(data, labels, train_size = 0.85, random_state = 34)"
      ]
    },
    {
      "cell_type": "code",
      "execution_count": null,
      "metadata": {
        "id": "yuToRmTltdU6"
      },
      "outputs": [],
      "source": [
        "#padding the sequences\n",
        "\n",
        "train_data = tf.keras.preprocessing.sequence.pad_sequences(train_sentences, padding=\"post\")\n",
        "\n",
        "train_label = tf.keras.preprocessing.sequence.pad_sequences(train_tags, padding=\"post\")\n",
        "\n",
        "val_data = tf.keras.preprocessing.sequence.pad_sequences(val_sentences, padding=\"post\")\n",
        "\n",
        "val_label = tf.keras.preprocessing.sequence.pad_sequences(val_tags, padding=\"post\")"
      ]
    },
    {
      "cell_type": "markdown",
      "metadata": {
        "id": "mT0wNiP6vR-k"
      },
      "source": [
        "###RNN"
      ]
    },
    {
      "cell_type": "code",
      "execution_count": null,
      "metadata": {
        "id": "0Vt4NrWNwSN5"
      },
      "outputs": [],
      "source": [
        "#defining the vocabulary size\n",
        "vocab_size=len(tokenizer.word_counts)"
      ]
    },
    {
      "cell_type": "code",
      "execution_count": null,
      "metadata": {
        "id": "NKOHH19YvUkm"
      },
      "outputs": [],
      "source": [
        "#RNN model architecture\n",
        "input = tf.keras.Input(shape=[None])\n",
        "\n",
        "emb = tf.keras.layers.Embedding(input_dim = vocab_size+1, output_dim = 300, mask_zero = True)(input)\n",
        "l1= tf.keras.layers.SimpleRNN(128, return_sequences = True, name = \"RNN_layer_1\")(emb)\n",
        "l2 = tf.keras.layers.SimpleRNN(128, return_sequences = True, name = \"RNN_layer_2\")(l1)\n",
        "l3 = tf.keras.layers.Dense(512, activation = \"relu\", name = \"Dense_layer_1\")(l2)\n",
        "l4 = tf.keras.layers.Dropout(0.2, name = \"Dropout_layer\")(l3)\n",
        "l5 = tf.keras.layers.Dense(256, activation = \"relu\", name = \"Dense_layer_2\")(l4)\n",
        "output = tf.keras.layers.Dense(num_tags, activation = 'softmax', name = \"output_layer\")(l5)\n",
        "\n",
        "model_rnn = tf.keras.Model(input, output)"
      ]
    },
    {
      "cell_type": "code",
      "execution_count": null,
      "metadata": {
        "colab": {
          "base_uri": "https://localhost:8080/"
        },
        "id": "4E326Y-_xcuL",
        "outputId": "66ae4906-d6d7-4111-b417-cf652661f915"
      },
      "outputs": [
        {
          "name": "stdout",
          "output_type": "stream",
          "text": [
            "Model: \"model_1\"\n",
            "_________________________________________________________________\n",
            " Layer (type)                Output Shape              Param #   \n",
            "=================================================================\n",
            " input_2 (InputLayer)        [(None, None)]            0         \n",
            "                                                                 \n",
            " embedding_1 (Embedding)     (None, None, 300)         7466700   \n",
            "                                                                 \n",
            " RNN_layer_1 (SimpleRNN)     (None, None, 128)         54912     \n",
            "                                                                 \n",
            " RNN_layer_2 (SimpleRNN)     (None, None, 128)         32896     \n",
            "                                                                 \n",
            " Dense_layer_1 (Dense)       (None, None, 512)         66048     \n",
            "                                                                 \n",
            " Dropout_layer (Dropout)     (None, None, 512)         0         \n",
            "                                                                 \n",
            " Dense_layer_2 (Dense)       (None, None, 256)         131328    \n",
            "                                                                 \n",
            " output_layer (Dense)        (None, None, 63)          16191     \n",
            "                                                                 \n",
            "=================================================================\n",
            "Total params: 7,768,075\n",
            "Trainable params: 7,768,075\n",
            "Non-trainable params: 0\n",
            "_________________________________________________________________\n"
          ]
        }
      ],
      "source": [
        "#Look at the summary of the model\n",
        "model_rnn.summary()"
      ]
    },
    {
      "cell_type": "code",
      "execution_count": null,
      "metadata": {
        "colab": {
          "base_uri": "https://localhost:8080/"
        },
        "id": "rqMLpD9hxgbQ",
        "outputId": "66c8476c-8d29-4f90-a07e-6fe49b307f4b"
      },
      "outputs": [
        {
          "name": "stdout",
          "output_type": "stream",
          "text": [
            "Epoch 1/20\n",
            "47/47 [==============================] - 52s 1s/step - loss: 0.4812 - accuracy: 0.8181 - val_loss: 0.4394 - val_accuracy: 0.8291\n",
            "Epoch 2/20\n",
            "47/47 [==============================] - 49s 1s/step - loss: 0.2856 - accuracy: 0.8545 - val_loss: 0.2951 - val_accuracy: 0.8744\n",
            "Epoch 3/20\n",
            "47/47 [==============================] - 50s 1s/step - loss: 0.1988 - accuracy: 0.8872 - val_loss: 0.2337 - val_accuracy: 0.8901\n",
            "Epoch 4/20\n",
            "47/47 [==============================] - 51s 1s/step - loss: 0.1540 - accuracy: 0.9058 - val_loss: 0.1951 - val_accuracy: 0.9053\n",
            "Epoch 5/20\n",
            "47/47 [==============================] - 50s 1s/step - loss: 0.1237 - accuracy: 0.9265 - val_loss: 0.1727 - val_accuracy: 0.9150\n",
            "Epoch 6/20\n",
            "47/47 [==============================] - 49s 1s/step - loss: 0.1017 - accuracy: 0.9393 - val_loss: 0.1569 - val_accuracy: 0.9230\n",
            "Epoch 7/20\n",
            "47/47 [==============================] - 50s 1s/step - loss: 0.0843 - accuracy: 0.9483 - val_loss: 0.1460 - val_accuracy: 0.9273\n",
            "Epoch 8/20\n",
            "47/47 [==============================] - 52s 1s/step - loss: 0.0722 - accuracy: 0.9548 - val_loss: 0.1412 - val_accuracy: 0.9297\n",
            "Epoch 9/20\n",
            "47/47 [==============================] - 50s 1s/step - loss: 0.0629 - accuracy: 0.9602 - val_loss: 0.1407 - val_accuracy: 0.9310\n",
            "Epoch 10/20\n",
            "47/47 [==============================] - 49s 1s/step - loss: 0.0552 - accuracy: 0.9647 - val_loss: 0.1359 - val_accuracy: 0.9320\n",
            "Epoch 11/20\n",
            "47/47 [==============================] - 50s 1s/step - loss: 0.0487 - accuracy: 0.9684 - val_loss: 0.1363 - val_accuracy: 0.9319\n",
            "Epoch 12/20\n",
            "47/47 [==============================] - 52s 1s/step - loss: 0.0438 - accuracy: 0.9713 - val_loss: 0.1360 - val_accuracy: 0.9318\n",
            "Epoch 13/20\n",
            "47/47 [==============================] - 49s 1s/step - loss: 0.0396 - accuracy: 0.9740 - val_loss: 0.1374 - val_accuracy: 0.9325\n",
            "Epoch 14/20\n",
            "47/47 [==============================] - 49s 1s/step - loss: 0.0355 - accuracy: 0.9768 - val_loss: 0.1407 - val_accuracy: 0.9330\n",
            "Epoch 15/20\n",
            "47/47 [==============================] - 50s 1s/step - loss: 0.0316 - accuracy: 0.9794 - val_loss: 0.1425 - val_accuracy: 0.9314\n",
            "Epoch 16/20\n",
            "47/47 [==============================] - 51s 1s/step - loss: 0.0288 - accuracy: 0.9812 - val_loss: 0.1446 - val_accuracy: 0.9318\n",
            "Epoch 17/20\n",
            "47/47 [==============================] - 49s 1s/step - loss: 0.0258 - accuracy: 0.9832 - val_loss: 0.1485 - val_accuracy: 0.9316\n",
            "Epoch 18/20\n",
            "47/47 [==============================] - 49s 1s/step - loss: 0.0235 - accuracy: 0.9850 - val_loss: 0.1514 - val_accuracy: 0.9305\n",
            "Epoch 19/20\n",
            "47/47 [==============================] - 49s 1s/step - loss: 0.0216 - accuracy: 0.9860 - val_loss: 0.1557 - val_accuracy: 0.9303\n",
            "Epoch 20/20\n",
            "47/47 [==============================] - 51s 1s/step - loss: 0.0197 - accuracy: 0.9873 - val_loss: 0.1599 - val_accuracy: 0.9303\n"
          ]
        }
      ],
      "source": [
        "#compile and fitting the model\n",
        "model_rnn.compile(loss = tf.keras.losses.sparse_categorical_crossentropy,\n",
        "                  optimizer = 'adam',\n",
        "                  metrics=[\"accuracy\"])\n",
        "\n",
        "history1 = model_rnn.fit(train_data, train_label, validation_data = (val_data, val_label), epochs = 20, batch_size = 32)"
      ]
    },
    {
      "cell_type": "code",
      "execution_count": null,
      "metadata": {
        "colab": {
          "base_uri": "https://localhost:8080/",
          "height": 369
        },
        "id": "_hEoGzB2NQyB",
        "outputId": "0e16bf19-27c1-4659-b730-ee1906fdaf8a"
      },
      "outputs": [
        {
          "data": {
            "image/png": "[encoded data removed]",
            "text/plain": [
              "<Figure size 720x360 with 2 Axes>"
            ]
          },
          "metadata": {
            "needs_background": "light"
          },
          "output_type": "display_data"
        }
      ],
      "source": [
        "#Plotting the accuracy and loss curve\n",
        "fig , ax = plt.subplots(1,2,figsize=(10,5))\n",
        "ax[0].plot(range(1,21), history1.history[\"loss\"], label=\"Training_loss\")\n",
        "ax[0].plot(range(1,21), history1.history[\"val_loss\"], label=\"Validation_loss\")\n",
        "ax[0].set_xlabel(\"Epochs\")\n",
        "ax[0].set_ylabel(\"Loss\")\n",
        "ax[0].set_title(\"Loss curve\")\n",
        "ax[0].legend()\n",
        "\n",
        "\n",
        "ax[1].plot(range(1,21), history1.history[\"accuracy\"], label=\"Training_accuracy\")\n",
        "ax[1].plot(range(1,21), history1.history[\"val_accuracy\"], label=\"Validation_accuracy\")\n",
        "ax[1].set_xlabel(\"Epochs\")\n",
        "ax[1].set_ylabel(\"Accuracy\")\n",
        "ax[1].set_title(\"Accuracy curve\")\n",
        "ax[1].legend()\n",
        "\n",
        "fig.tight_layout()\n",
        "plt.show()"
      ]
    },
    {
      "cell_type": "markdown",
      "metadata": {
        "id": "tIUznrl_zx5w"
      },
      "source": [
        "Since most of the words in sentences are tagged as \"O\", the accuracy metric is very misleading for model evaluation. Therefore, our main metric to evaluate our models will be F1 score because we need a balance between precision and recall. "
      ]
    },
    {
      "cell_type": "code",
      "execution_count": null,
      "metadata": {
        "id": "c8qMTtpgpigf"
      },
      "outputs": [],
      "source": [
        "# Prediction on validation set\n",
        "pred=[]\n",
        "for sent in val_sentences:\n",
        "  p = model_rnn.predict(np.array(sent).reshape(-1,1))\n",
        "  pred.append(np.argmax(p,axis=2))"
      ]
    },
    {
      "cell_type": "code",
      "execution_count": null,
      "metadata": {
        "colab": {
          "base_uri": "https://localhost:8080/"
        },
        "id": "VtT_u3wDqQ6-",
        "outputId": "60f76a8a-ab62-4dd4-9253-f57e96192265"
      },
      "outputs": [
        {
          "name": "stdout",
          "output_type": "stream",
          "text": [
            "81829 81829\n"
          ]
        }
      ],
      "source": [
        "#Flatten the array of true validation tags and pred validation tags to calculate the f1_score\n",
        "val_pred = []\n",
        "val_true = []\n",
        "for i in range(len(pred)):\n",
        "  for j, p in enumerate(pred[i]):\n",
        "    val_pred.append(p)\n",
        "    val_true.append(val_tags[i][j])\n",
        "\n",
        "print(len(val_pred), len(val_true))"
      ]
    },
    {
      "cell_type": "code",
      "execution_count": null,
      "metadata": {
        "id": "i-DZqvMTzOSg"
      },
      "outputs": [],
      "source": [
        "#Calculate the f1_score on validation set\n",
        "f1_score_rnn = f1_score(val_true, val_pred, average = \"weighted\")\n",
        "\n",
        "#calculate the accuracy on validation set\n",
        "accuracy_rnn = accuracy_score(val_true, val_pred)"
      ]
    },
    {
      "cell_type": "code",
      "execution_count": null,
      "metadata": {
        "colab": {
          "base_uri": "https://localhost:8080/"
        },
        "id": "-GSpXKhr0oUe",
        "outputId": "314ebc00-9c10-47ad-ae80-1e22e4be8b94"
      },
      "outputs": [
        {
          "name": "stdout",
          "output_type": "stream",
          "text": [
            "The f1_score of SimpleRNN model on validation set is 84.14%\n",
            "The accuracy of SimpleRNN model on validation set is 82.09%\n"
          ]
        }
      ],
      "source": [
        "print(f\"The f1_score of SimpleRNN model on validation set is {np.round(f1_score_rnn*100,2)}%\")\n",
        "print(f\"The accuracy of SimpleRNN model on validation set is {np.round(accuracy_rnn*100,2)}%\")\n"
      ]
    },
    {
      "cell_type": "markdown",
      "metadata": {
        "id": "FvSW947pHDWq"
      },
      "source": [
        "Since we are only predicting for the words which are in the validation sentence excluding padding words so, the accuracy score we are getting here will be different from the one which is showing in the training of the model."
      ]
    },
    {
      "cell_type": "markdown",
      "metadata": {
        "id": "uiGIn6CPzhbq"
      },
      "source": [
        "###LSTM"
      ]
    },
    {
      "cell_type": "code",
      "execution_count": null,
      "metadata": {
        "id": "4rJCt4a5zir5"
      },
      "outputs": [],
      "source": [
        "#LSTM model architecture\n",
        "input = tf.keras.Input(shape=[None])\n",
        "\n",
        "emb = tf.keras.layers.Embedding(input_dim = vocab_size+1, output_dim = 300, mask_zero = True)(input)\n",
        "l1= tf.keras.layers.LSTM(128, return_sequences = True, name = \"LSTM_layer_1\")(emb)\n",
        "l2 = tf.keras.layers.LSTM(128, return_sequences = True, name = \"LSTM_layer_2\")(l1)\n",
        "l3 = tf.keras.layers.Dense(512, activation = \"relu\", name = \"Dense_layer_1\")(l2)\n",
        "l4 = tf.keras.layers.Dropout(0.2, name = \"Dropout_layer\")(l3)\n",
        "l5 = tf.keras.layers.Dense(256, activation = \"relu\", name = \"Dense_layer_2\")(l4)\n",
        "output = tf.keras.layers.Dense(num_tags, activation = 'softmax', name = \"output_layer\")(l5)\n",
        "\n",
        "model_lstm = tf.keras.Model(input, output)"
      ]
    },
    {
      "cell_type": "code",
      "execution_count": null,
      "metadata": {
        "colab": {
          "base_uri": "https://localhost:8080/",
          "height": 865
        },
        "id": "gh7M6z581Llw",
        "outputId": "ca069923-1a9d-49ab-dd7f-4424c5be8b5a"
      },
      "outputs": [
        {
          "data": {
            "image/png": "[encoded data removed]",
            "text/plain": [
              "<IPython.core.display.Image object>"
            ]
          },
          "execution_count": 31,
          "metadata": {},
          "output_type": "execute_result"
        }
      ],
      "source": [
        "#Plotting the model\n",
        "tf.keras.utils.plot_model(model_lstm, show_shapes = True)"
      ]
    },
    {
      "cell_type": "code",
      "execution_count": null,
      "metadata": {
        "colab": {
          "base_uri": "https://localhost:8080/"
        },
        "id": "qtjNR_JzzwRG",
        "outputId": "f4573198-1b3f-4685-a304-78ee38634660"
      },
      "outputs": [
        {
          "name": "stdout",
          "output_type": "stream",
          "text": [
            "Epoch 1/20\n",
            "47/47 [==============================] - 16s 127ms/step - loss: 0.5944 - accuracy: 0.8192 - val_loss: 0.4618 - val_accuracy: 0.8291\n",
            "Epoch 2/20\n",
            "47/47 [==============================] - 3s 73ms/step - loss: 0.3403 - accuracy: 0.8348 - val_loss: 0.3808 - val_accuracy: 0.8294\n",
            "Epoch 3/20\n",
            "47/47 [==============================] - 3s 72ms/step - loss: 0.2750 - accuracy: 0.8388 - val_loss: 0.3146 - val_accuracy: 0.8439\n",
            "Epoch 4/20\n",
            "47/47 [==============================] - 3s 73ms/step - loss: 0.2225 - accuracy: 0.8575 - val_loss: 0.2765 - val_accuracy: 0.8588\n",
            "Epoch 5/20\n",
            "47/47 [==============================] - 3s 72ms/step - loss: 0.1852 - accuracy: 0.8785 - val_loss: 0.2399 - val_accuracy: 0.8770\n",
            "Epoch 6/20\n",
            "47/47 [==============================] - 3s 73ms/step - loss: 0.1551 - accuracy: 0.8968 - val_loss: 0.2221 - val_accuracy: 0.8897\n",
            "Epoch 7/20\n",
            "47/47 [==============================] - 3s 73ms/step - loss: 0.1372 - accuracy: 0.9072 - val_loss: 0.2043 - val_accuracy: 0.8964\n",
            "Epoch 8/20\n",
            "47/47 [==============================] - 4s 78ms/step - loss: 0.1174 - accuracy: 0.9185 - val_loss: 0.1984 - val_accuracy: 0.9023\n",
            "Epoch 9/20\n",
            "47/47 [==============================] - 3s 73ms/step - loss: 0.1032 - accuracy: 0.9266 - val_loss: 0.1915 - val_accuracy: 0.9070\n",
            "Epoch 10/20\n",
            "47/47 [==============================] - 3s 73ms/step - loss: 0.0904 - accuracy: 0.9355 - val_loss: 0.1866 - val_accuracy: 0.9090\n",
            "Epoch 11/20\n",
            "47/47 [==============================] - 3s 73ms/step - loss: 0.0828 - accuracy: 0.9406 - val_loss: 0.1824 - val_accuracy: 0.9140\n",
            "Epoch 12/20\n",
            "47/47 [==============================] - 3s 73ms/step - loss: 0.0723 - accuracy: 0.9483 - val_loss: 0.1789 - val_accuracy: 0.9149\n",
            "Epoch 13/20\n",
            "47/47 [==============================] - 4s 76ms/step - loss: 0.0633 - accuracy: 0.9541 - val_loss: 0.1829 - val_accuracy: 0.9139\n",
            "Epoch 14/20\n",
            "47/47 [==============================] - 4s 78ms/step - loss: 0.0586 - accuracy: 0.9568 - val_loss: 0.1811 - val_accuracy: 0.9188\n",
            "Epoch 15/20\n",
            "47/47 [==============================] - 3s 73ms/step - loss: 0.0506 - accuracy: 0.9628 - val_loss: 0.1861 - val_accuracy: 0.9172\n",
            "Epoch 16/20\n",
            "47/47 [==============================] - 3s 73ms/step - loss: 0.0448 - accuracy: 0.9668 - val_loss: 0.1931 - val_accuracy: 0.9165\n",
            "Epoch 17/20\n",
            "47/47 [==============================] - 3s 74ms/step - loss: 0.0392 - accuracy: 0.9711 - val_loss: 0.1994 - val_accuracy: 0.9177\n",
            "Epoch 18/20\n",
            "47/47 [==============================] - 3s 73ms/step - loss: 0.0344 - accuracy: 0.9746 - val_loss: 0.2092 - val_accuracy: 0.9127\n",
            "Epoch 19/20\n",
            "47/47 [==============================] - 3s 74ms/step - loss: 0.0305 - accuracy: 0.9770 - val_loss: 0.2269 - val_accuracy: 0.9181\n",
            "Epoch 20/20\n",
            "47/47 [==============================] - 4s 83ms/step - loss: 0.0268 - accuracy: 0.9801 - val_loss: 0.2364 - val_accuracy: 0.9177\n"
          ]
        }
      ],
      "source": [
        "#Compile and fiiting the model\n",
        "model_lstm.compile(loss = tf.keras.losses.sparse_categorical_crossentropy,\n",
        "                   optimizer = \"adam\",\n",
        "                   metrics = [\"accuracy\"])\n",
        "\n",
        "history2 = model_lstm.fit(train_data, train_label, validation_data = (val_data, val_label), epochs = 20, batch_size = 32)"
      ]
    },
    {
      "cell_type": "code",
      "execution_count": null,
      "metadata": {
        "colab": {
          "base_uri": "https://localhost:8080/",
          "height": 369
        },
        "id": "rkOhaj1Z8SKd",
        "outputId": "6a3c050f-d05e-453b-ca22-fd34809f9184"
      },
      "outputs": [
        {
          "data": {
            "image/png": "[encoded data removed]",
            "text/plain": [
              "<Figure size 720x360 with 2 Axes>"
            ]
          },
          "metadata": {
            "needs_background": "light"
          },
          "output_type": "display_data"
        }
      ],
      "source": [
        "#Plotting the accuracy and loss curve\n",
        "fig , ax = plt.subplots(1,2,figsize=(10,5))\n",
        "ax[0].plot(range(1,21), history2.history[\"loss\"], label=\"Training_loss\")\n",
        "ax[0].plot(range(1,21), history2.history[\"val_loss\"], label=\"Validation_loss\")\n",
        "ax[0].set_xlabel(\"Epochs\")\n",
        "ax[0].set_ylabel(\"Loss\")\n",
        "ax[0].set_title(\"Loss curve\")\n",
        "ax[0].legend()\n",
        "\n",
        "\n",
        "ax[1].plot(range(1,21), history2.history[\"accuracy\"], label=\"Training_accuracy\")\n",
        "ax[1].plot(range(1,21), history2.history[\"val_accuracy\"], label=\"Validation_accuracy\")\n",
        "ax[1].set_xlabel(\"Epochs\")\n",
        "ax[1].set_ylabel(\"Accuracy\")\n",
        "ax[1].set_title(\"Accuracy curve\")\n",
        "ax[1].legend()\n",
        "\n",
        "fig.tight_layout()\n",
        "plt.show()"
      ]
    },
    {
      "cell_type": "code",
      "execution_count": null,
      "metadata": {
        "id": "tiZO50XQ6zzk"
      },
      "outputs": [],
      "source": [
        "# Prediction on validation set\n",
        "pred=[]\n",
        "for sent in val_sentences:\n",
        "  p = model_lstm.predict(np.array(sent).reshape(-1,1))\n",
        "  pred.append(np.argmax(p,axis=2))"
      ]
    },
    {
      "cell_type": "code",
      "execution_count": null,
      "metadata": {
        "colab": {
          "base_uri": "https://localhost:8080/"
        },
        "id": "sln8t01N69al",
        "outputId": "3488b6c1-0149-4222-f705-eba81d6b9779"
      },
      "outputs": [
        {
          "name": "stdout",
          "output_type": "stream",
          "text": [
            "81829 81829\n"
          ]
        }
      ],
      "source": [
        "#Flatten the array of true validation tags and pred validation tags to calculate the f1_score\n",
        "val_pred = []\n",
        "val_true = []\n",
        "for i in range(len(pred)):\n",
        "  for j, p in enumerate(pred[i]):\n",
        "    val_pred.append(p)\n",
        "    val_true.append(val_tags[i][j])\n",
        "\n",
        "print(len(val_pred), len(val_true))"
      ]
    },
    {
      "cell_type": "code",
      "execution_count": null,
      "metadata": {
        "id": "cRgSjXY67EmD"
      },
      "outputs": [],
      "source": [
        "#Calculate the f1_score on validation set\n",
        "f1_score_lstm = f1_score(val_true, val_pred, average = \"weighted\")\n",
        "\n",
        "#calculate the accuracy on validation set\n",
        "accuracy_lstm = accuracy_score(val_true, val_pred)"
      ]
    },
    {
      "cell_type": "code",
      "execution_count": null,
      "metadata": {
        "colab": {
          "base_uri": "https://localhost:8080/"
        },
        "id": "poiSnaGX7KRO",
        "outputId": "de0aa874-8098-4c94-cd64-7b2515d9f6b2"
      },
      "outputs": [
        {
          "name": "stdout",
          "output_type": "stream",
          "text": [
            "The f1_score of LSTM model on validation set is 82.74%\n",
            "The accuracy of LSTM model on validation set is 86.4%\n"
          ]
        }
      ],
      "source": [
        "print(f\"The f1_score of LSTM model on validation set is {np.round(f1_score_lstm*100,2)}%\")\n",
        "print(f\"The accuracy of LSTM model on validation set is {np.round(accuracy_lstm*100,2)}%\")"
      ]
    },
    {
      "cell_type": "markdown",
      "metadata": {
        "id": "leCr2HY6_JUF"
      },
      "source": [
        "###GRU"
      ]
    },
    {
      "cell_type": "code",
      "execution_count": null,
      "metadata": {
        "id": "cWXz6Lvh_LDq"
      },
      "outputs": [],
      "source": [
        "#GRU model architecture\n",
        "input = tf.keras.Input(shape=[None])\n",
        "\n",
        "emb = tf.keras.layers.Embedding(input_dim = vocab_size+1, output_dim = 300, mask_zero = True)(input)\n",
        "l1= tf.keras.layers.GRU(128, return_sequences = True, name = \"GRU_layer_1\")(emb)\n",
        "l2= tf.keras.layers.GRU(128, return_sequences = True, name = \"GRU_layer_2\")(l1)\n",
        "l3 = tf.keras.layers.Dense(512, activation = \"relu\", name = \"Dense_layer_1\")(l2)\n",
        "l4 = tf.keras.layers.Dropout(0.2, name = \"Dropout_layer\")(l3)\n",
        "l5 = tf.keras.layers.Dense(256, activation = \"relu\", name = \"Dense_layer_2\")(l4)\n",
        "output = tf.keras.layers.Dense(num_tags, activation = 'softmax', name = \"output_layer\")(l5)\n",
        "\n",
        "model_gru = tf.keras.Model(input, output)"
      ]
    },
    {
      "cell_type": "code",
      "execution_count": null,
      "metadata": {
        "colab": {
          "base_uri": "https://localhost:8080/"
        },
        "id": "1JinMWC1_QL1",
        "outputId": "0109c2ba-b4e7-4622-d799-0c5d4b7e5f80"
      },
      "outputs": [
        {
          "name": "stdout",
          "output_type": "stream",
          "text": [
            "Model: \"model_5\"\n",
            "_________________________________________________________________\n",
            " Layer (type)                Output Shape              Param #   \n",
            "=================================================================\n",
            " input_6 (InputLayer)        [(None, None)]            0         \n",
            "                                                                 \n",
            " embedding_5 (Embedding)     (None, None, 300)         7466700   \n",
            "                                                                 \n",
            " GRU_layer_1 (GRU)           (None, None, 128)         165120    \n",
            "                                                                 \n",
            " GRU_layer_2 (GRU)           (None, None, 128)         99072     \n",
            "                                                                 \n",
            " Dense_layer_1 (Dense)       (None, None, 512)         66048     \n",
            "                                                                 \n",
            " Dropout_layer (Dropout)     (None, None, 512)         0         \n",
            "                                                                 \n",
            " Dense_layer_2 (Dense)       (None, None, 256)         131328    \n",
            "                                                                 \n",
            " output_layer (Dense)        (None, None, 63)          16191     \n",
            "                                                                 \n",
            "=================================================================\n",
            "Total params: 7,944,459\n",
            "Trainable params: 7,944,459\n",
            "Non-trainable params: 0\n",
            "_________________________________________________________________\n"
          ]
        }
      ],
      "source": [
        "#Look at the summary of the model\n",
        "model_gru.summary()"
      ]
    },
    {
      "cell_type": "code",
      "execution_count": null,
      "metadata": {
        "colab": {
          "base_uri": "https://localhost:8080/"
        },
        "id": "RLNPXXvt_VP8",
        "outputId": "dfb2233e-7b08-4abf-e603-9b84c7a1761f"
      },
      "outputs": [
        {
          "name": "stdout",
          "output_type": "stream",
          "text": [
            "Epoch 1/20\n",
            "47/47 [==============================] - 13s 127ms/step - loss: 0.5774 - accuracy: 0.8152 - val_loss: 0.3908 - val_accuracy: 0.8291\n",
            "Epoch 2/20\n",
            "47/47 [==============================] - 3s 73ms/step - loss: 0.2804 - accuracy: 0.8354 - val_loss: 0.3247 - val_accuracy: 0.8361\n",
            "Epoch 3/20\n",
            "47/47 [==============================] - 3s 73ms/step - loss: 0.2047 - accuracy: 0.8770 - val_loss: 0.2359 - val_accuracy: 0.8846\n",
            "Epoch 4/20\n",
            "47/47 [==============================] - 3s 72ms/step - loss: 0.1431 - accuracy: 0.9049 - val_loss: 0.1947 - val_accuracy: 0.9023\n",
            "Epoch 5/20\n",
            "47/47 [==============================] - 3s 73ms/step - loss: 0.1091 - accuracy: 0.9230 - val_loss: 0.1768 - val_accuracy: 0.9102\n",
            "Epoch 6/20\n",
            "47/47 [==============================] - 3s 72ms/step - loss: 0.0899 - accuracy: 0.9352 - val_loss: 0.1741 - val_accuracy: 0.9159\n",
            "Epoch 7/20\n",
            "47/47 [==============================] - 3s 73ms/step - loss: 0.0768 - accuracy: 0.9443 - val_loss: 0.1689 - val_accuracy: 0.9176\n",
            "Epoch 8/20\n",
            "47/47 [==============================] - 3s 73ms/step - loss: 0.0670 - accuracy: 0.9510 - val_loss: 0.1714 - val_accuracy: 0.9221\n",
            "Epoch 9/20\n",
            "47/47 [==============================] - 3s 72ms/step - loss: 0.0596 - accuracy: 0.9564 - val_loss: 0.1735 - val_accuracy: 0.9228\n",
            "Epoch 10/20\n",
            "47/47 [==============================] - 3s 74ms/step - loss: 0.0528 - accuracy: 0.9607 - val_loss: 0.1787 - val_accuracy: 0.9232\n",
            "Epoch 11/20\n",
            "47/47 [==============================] - 3s 72ms/step - loss: 0.0478 - accuracy: 0.9644 - val_loss: 0.1813 - val_accuracy: 0.9223\n",
            "Epoch 12/20\n",
            "47/47 [==============================] - 3s 73ms/step - loss: 0.0428 - accuracy: 0.9678 - val_loss: 0.1867 - val_accuracy: 0.9219\n",
            "Epoch 13/20\n",
            "47/47 [==============================] - 3s 73ms/step - loss: 0.0379 - accuracy: 0.9712 - val_loss: 0.1900 - val_accuracy: 0.9218\n",
            "Epoch 14/20\n",
            "47/47 [==============================] - 3s 73ms/step - loss: 0.0344 - accuracy: 0.9739 - val_loss: 0.1991 - val_accuracy: 0.9211\n",
            "Epoch 15/20\n",
            "47/47 [==============================] - 3s 73ms/step - loss: 0.0310 - accuracy: 0.9763 - val_loss: 0.2109 - val_accuracy: 0.9233\n",
            "Epoch 16/20\n",
            "47/47 [==============================] - 3s 73ms/step - loss: 0.0279 - accuracy: 0.9785 - val_loss: 0.2106 - val_accuracy: 0.9200\n",
            "Epoch 17/20\n",
            "47/47 [==============================] - 3s 73ms/step - loss: 0.0253 - accuracy: 0.9805 - val_loss: 0.2278 - val_accuracy: 0.9198\n",
            "Epoch 18/20\n",
            "47/47 [==============================] - 3s 73ms/step - loss: 0.0224 - accuracy: 0.9830 - val_loss: 0.2381 - val_accuracy: 0.9214\n",
            "Epoch 19/20\n",
            "47/47 [==============================] - 3s 73ms/step - loss: 0.0203 - accuracy: 0.9844 - val_loss: 0.2395 - val_accuracy: 0.9206\n",
            "Epoch 20/20\n",
            "47/47 [==============================] - 3s 73ms/step - loss: 0.0191 - accuracy: 0.9852 - val_loss: 0.2533 - val_accuracy: 0.9210\n"
          ]
        }
      ],
      "source": [
        "#Compile and fiiting the model\n",
        "model_gru.compile(loss = tf.keras.losses.sparse_categorical_crossentropy,\n",
        "                   optimizer = \"adam\",\n",
        "                   metrics = [\"accuracy\"])\n",
        "\n",
        "history3 = model_gru.fit(train_data, train_label, validation_data = (val_data, val_label), epochs = 20, batch_size = 32)"
      ]
    },
    {
      "cell_type": "code",
      "execution_count": null,
      "metadata": {
        "colab": {
          "base_uri": "https://localhost:8080/",
          "height": 369
        },
        "id": "l5vLXc0C_kIY",
        "outputId": "f31686e6-df4d-4a85-d3eb-ed2fe47a496b"
      },
      "outputs": [
        {
          "data": {
            "image/png": "[encoded data removed]",
            "text/plain": [
              "<Figure size 720x360 with 2 Axes>"
            ]
          },
          "metadata": {
            "needs_background": "light"
          },
          "output_type": "display_data"
        }
      ],
      "source": [
        "#Plotting the accuracy and loss curve\n",
        "fig , ax = plt.subplots(1,2,figsize=(10,5))\n",
        "ax[0].plot(range(1,21), history3.history[\"loss\"], label=\"Training_loss\")\n",
        "ax[0].plot(range(1,21), history3.history[\"val_loss\"], label=\"Validation_loss\")\n",
        "ax[0].set_xlabel(\"Epochs\")\n",
        "ax[0].set_ylabel(\"Loss\")\n",
        "ax[0].set_title(\"Loss curve\")\n",
        "ax[0].legend()\n",
        "\n",
        "\n",
        "ax[1].plot(range(1,21), history3.history[\"accuracy\"], label=\"Training_accuracy\")\n",
        "ax[1].plot(range(1,21), history3.history[\"val_accuracy\"], label=\"Validation_accuracy\")\n",
        "ax[1].set_xlabel(\"Epochs\")\n",
        "ax[1].set_ylabel(\"Accuracy\")\n",
        "ax[1].set_title(\"Accuracy curve\")\n",
        "ax[1].legend()\n",
        "\n",
        "fig.tight_layout()\n",
        "plt.show()"
      ]
    },
    {
      "cell_type": "code",
      "execution_count": null,
      "metadata": {
        "id": "wWmUWwf-_sZs"
      },
      "outputs": [],
      "source": [
        "# Prediction on validation set\n",
        "pred=[]\n",
        "for sent in val_sentences:\n",
        "  p = model_gru.predict(np.array(sent).reshape(-1,1))\n",
        "  pred.append(np.argmax(p,axis=2))"
      ]
    },
    {
      "cell_type": "code",
      "execution_count": null,
      "metadata": {
        "colab": {
          "base_uri": "https://localhost:8080/"
        },
        "id": "Xt2Hv3qg_yQT",
        "outputId": "d0317a64-d3d7-442b-c54a-ea39aa28d284"
      },
      "outputs": [
        {
          "name": "stdout",
          "output_type": "stream",
          "text": [
            "81829 81829\n"
          ]
        }
      ],
      "source": [
        "#Flatten the array of true validation tags and pred validation tags to calculate the f1_score\n",
        "val_pred = []\n",
        "val_true = []\n",
        "for i in range(len(pred)):\n",
        "  for j, p in enumerate(pred[i]):\n",
        "    val_pred.append(p)\n",
        "    val_true.append(val_tags[i][j])\n",
        "\n",
        "print(len(val_pred), len(val_true))"
      ]
    },
    {
      "cell_type": "code",
      "execution_count": null,
      "metadata": {
        "id": "zbwDCpln_3hI"
      },
      "outputs": [],
      "source": [
        "#Calculate the f1_score on validation set\n",
        "f1_score_gru = f1_score(val_true, val_pred, average = \"weighted\")\n",
        "\n",
        "#calculate the accuracy on validation set\n",
        "accuracy_gru = accuracy_score(val_true, val_pred)"
      ]
    },
    {
      "cell_type": "code",
      "execution_count": null,
      "metadata": {
        "colab": {
          "base_uri": "https://localhost:8080/"
        },
        "id": "MXb_5fpI_9af",
        "outputId": "8eb9f596-46f2-4efb-bc53-81815434d6e7"
      },
      "outputs": [
        {
          "name": "stdout",
          "output_type": "stream",
          "text": [
            "The f1_score of GRU model on validation set is 83.41%\n",
            "The accuracy of GRU model on validation set is 84.08%\n"
          ]
        }
      ],
      "source": [
        "print(f\"The f1_score of GRU model on validation set is {np.round(f1_score_gru*100,2)}%\")\n",
        "print(f\"The accuracy of GRU model on validation set is {np.round(accuracy_gru*100,2)}%\")"
      ]
    },
    {
      "cell_type": "code",
      "execution_count": null,
      "metadata": {
        "colab": {
          "base_uri": "https://localhost:8080/",
          "height": 404
        },
        "id": "_G1DJY_pQdT9",
        "outputId": "4328c358-c9b7-4daf-a598-b59241e40fc9"
      },
      "outputs": [
        {
          "data": {
            "image/png": "[encoded data removed]",
            "text/plain": [
              "<Figure size 1080x432 with 2 Axes>"
            ]
          },
          "metadata": {
            "needs_background": "light"
          },
          "output_type": "display_data"
        }
      ],
      "source": [
        "model_names = [\"RNN\", \"LSTM\", \"GRU\"]\n",
        "f1_scores = [f1_score_rnn, f1_score_lstm, f1_score_gru]\n",
        "accuracy_list = [accuracy_rnn, accuracy_lstm, accuracy_gru]\n",
        "\n",
        "fig, ax = plt.subplots(1,2,figsize=(15,6))\n",
        "ax[0].bar(model_names, f1_scores, color = \"darkred\")\n",
        "for i, v in enumerate(f1_scores):\n",
        "    ax[0].text(i-0.1 , v + 0.01, str(np.round(f1_scores[i],3)),\n",
        "            color = 'k', fontweight = 'bold')\n",
        "    \n",
        "ax[0].set_title(\"F1_score comparisons\",fontweight = \"bold\")\n",
        "ax[0].set_xlabel(\"Models\",fontweight = \"bold\")\n",
        "ax[0].set_ylabel(\"F1 score\",fontweight = \"bold\")\n",
        "\n",
        "ax[1].bar(model_names, accuracy_list, color = \"g\")\n",
        "for i, v in enumerate(accuracy_list):\n",
        "    ax[1].text(i-0.1 , v + 0.01, str(np.round(accuracy_list[i],3)),\n",
        "            color = 'k', fontweight = 'bold')\n",
        "    \n",
        "ax[1].set_title(\"Accuracy comparisons\",fontweight = \"bold\")\n",
        "ax[1].set_xlabel(\"Models\",fontweight = \"bold\")\n",
        "ax[1].set_ylabel(\"Accuracy\",fontweight = \"bold\")\n",
        "\n",
        "plt.show()"
      ]
    },
    {
      "cell_type": "markdown",
      "metadata": {
        "id": "He_N5hjNhFSg"
      },
      "source": [
        "#Pretrained ELMo embedding"
      ]
    },
    {
      "cell_type": "markdown",
      "metadata": {
        "id": "G7Mtr-gG2Ud-"
      },
      "source": [
        "###RNN"
      ]
    },
    {
      "cell_type": "code",
      "execution_count": null,
      "metadata": {
        "id": "AD6wP-jf4HjE"
      },
      "outputs": [],
      "source": [
        "# splitting the data into train and validation\n",
        "train_tokens_elmo = tokens[:46*32]\n",
        "val_tokens_elmo = tokens[46*32:54*32]\n",
        "train_tags_elmo = labels[:46*32]\n",
        "val_tags_elmo = labels[46*32:54*32]"
      ]
    },
    {
      "cell_type": "code",
      "execution_count": null,
      "metadata": {
        "id": "ACKxSdsN75uM"
      },
      "outputs": [],
      "source": [
        "# padding the sequences\n",
        "\n",
        "train_label_elmo = tf.keras.preprocessing.sequence.pad_sequences(train_tags_elmo, padding=\"post\", value = tag_to_id[\"O\"])\n",
        "\n",
        "val_label_elmo = tf.keras.preprocessing.sequence.pad_sequences(val_tags_elmo, padding=\"post\", value = tag_to_id[\"O\"],maxlen = 794)"
      ]
    },
    {
      "cell_type": "code",
      "execution_count": null,
      "metadata": {
        "id": "hhwxrTSxMrqN"
      },
      "outputs": [],
      "source": [
        "# post padding the input sequences with \"padword\"\n",
        "train_data_elmo = []\n",
        "val_data_elmo = []\n",
        "for i in range(len(train_tokens_elmo)):\n",
        "  ele = 794-len(train_tokens_elmo[i])\n",
        "  tok = train_tokens_elmo[i]\n",
        "  if ele > 0 :\n",
        "    for j in range(ele):\n",
        "      tok.append(\"padword\")\n",
        "  train_data_elmo.append(tok)\n",
        "\n",
        "for i in range(len(val_tokens_elmo)):\n",
        "  ele = 794-len(val_tokens_elmo[i])\n",
        "  tok = val_tokens_elmo[i]\n",
        "  if ele > 0 :\n",
        "    for j in range(ele):\n",
        "      tok.append(\"padword\")\n",
        "  val_data_elmo.append(tok)\n",
        "\n",
        "\n",
        "train_data_elmo = np.array(train_data_elmo)\n",
        "val_data_elmo = np.array(val_data_elmo)"
      ]
    },
    {
      "cell_type": "code",
      "execution_count": null,
      "metadata": {
        "id": "Btqm81H89OOk"
      },
      "outputs": [],
      "source": [
        "# define max_length and batch_size\n",
        "max_len = 794\n",
        "batch_size = 32"
      ]
    },
    {
      "cell_type": "code",
      "execution_count": null,
      "metadata": {
        "colab": {
          "base_uri": "https://localhost:8080/"
        },
        "id": "2EDBsQkDeh_l",
        "outputId": "40ad3cd9-d749-4042-fdde-6eddfbd37413"
      },
      "outputs": [
        {
          "data": {
            "text/plain": [
              "((1472, 794), (1472, 794), (256, 794), (256, 794))"
            ]
          },
          "execution_count": 16,
          "metadata": {},
          "output_type": "execute_result"
        }
      ],
      "source": [
        "train_data_elmo.shape,train_label_elmo.shape,val_data_elmo.shape,val_label_elmo.shape"
      ]
    },
    {
      "cell_type": "code",
      "execution_count": null,
      "metadata": {
        "id": "4tFPY49_baS7"
      },
      "outputs": [],
      "source": [
        "# Reshape the train and validation labels\n",
        "train_label_elmo = train_label_elmo.reshape(train_label_elmo.shape[0],train_label_elmo.shape[1],1)\n",
        "val_label_elmo = val_label_elmo.reshape(val_label_elmo.shape[0],val_label_elmo.shape[1],1)"
      ]
    },
    {
      "cell_type": "code",
      "execution_count": null,
      "metadata": {
        "id": "Ww1AlpkU-C_z"
      },
      "outputs": [],
      "source": [
        "#Import pretrained ELMo model\n",
        "elmo_model = hub.Module(\"https://tfhub.dev/google/elmo/3\", trainable=True)\n"
      ]
    },
    {
      "cell_type": "code",
      "execution_count": null,
      "metadata": {
        "id": "equawu_k97il"
      },
      "outputs": [],
      "source": [
        "#Creating a Elmoembedding function to use it as a layer \n",
        "def Elmoembedding(x):\n",
        "  return elmo_model(inputs = {\n",
        "                              \"tokens\" : tf.squeeze(tf.cast(x, dtype = tf.string)),\n",
        "                              \"sequence_len\" : batch_size*[max_len]\n",
        "                             },\n",
        "                    signature = \"tokens\",\n",
        "                    as_dict = True)[\"elmo\"]"
      ]
    },
    {
      "cell_type": "code",
      "execution_count": null,
      "metadata": {
        "colab": {
          "base_uri": "https://localhost:8080/"
        },
        "id": "pTq1ARjP_UHM",
        "outputId": "a248ac8f-7759-4307-d1da-641e01fdab68"
      },
      "outputs": [
        {
          "name": "stdout",
          "output_type": "stream",
          "text": [
            "INFO:tensorflow:Saver not created because there are no variables in the graph to restore\n"
          ]
        },
        {
          "name": "stderr",
          "output_type": "stream",
          "text": [
            "INFO:tensorflow:Saver not created because there are no variables in the graph to restore\n"
          ]
        },
        {
          "name": "stdout",
          "output_type": "stream",
          "text": [
            "WARNING:tensorflow:From /usr/local/lib/python3.7/dist-packages/tensorflow_core/python/ops/resource_variable_ops.py:1630: calling BaseResourceVariable.__init__ (from tensorflow.python.ops.resource_variable_ops) with constraint is deprecated and will be removed in a future version.\n",
            "Instructions for updating:\n",
            "If using Keras pass *_constraint arguments to layers.\n"
          ]
        },
        {
          "name": "stderr",
          "output_type": "stream",
          "text": [
            "WARNING:tensorflow:From /usr/local/lib/python3.7/dist-packages/tensorflow_core/python/ops/resource_variable_ops.py:1630: calling BaseResourceVariable.__init__ (from tensorflow.python.ops.resource_variable_ops) with constraint is deprecated and will be removed in a future version.\n",
            "Instructions for updating:\n",
            "If using Keras pass *_constraint arguments to layers.\n"
          ]
        }
      ],
      "source": [
        "#RNN model architecture with ELMo embeddings\n",
        "input = tf.keras.Input(shape = [None] , dtype = tf.string)\n",
        "\n",
        "emb = tf.keras.layers.Lambda(Elmoembedding, output_shape = (1024,))(input)\n",
        "l1= tf.keras.layers.SimpleRNN(128, return_sequences = True, name = \"RNN_layer_1\")(emb)\n",
        "l2 = tf.keras.layers.SimpleRNN(128, return_sequences = True, name = \"RNN_layer_2\")(l1)\n",
        "l3 = tf.keras.layers.Dense(512, activation = \"relu\", name = \"Dense_layer_1\")(l2)\n",
        "l4 = tf.keras.layers.Dropout(0.2, name = \"Dropout_layer\")(l3)\n",
        "l5 = tf.keras.layers.Dense(256, activation = \"relu\", name = \"Dense_layer_2\")(l4)\n",
        "output = tf.keras.layers.Dense(num_tags, activation = 'softmax', name = \"output_layer\")(l5)\n",
        "\n",
        "\n",
        "model_rnn_2 = tf.keras.Model(input, output)"
      ]
    },
    {
      "cell_type": "code",
      "execution_count": null,
      "metadata": {
        "colab": {
          "base_uri": "https://localhost:8080/"
        },
        "id": "bIT58bB0I2PU",
        "outputId": "3d734e2f-242e-400f-8452-b30d529b60bd"
      },
      "outputs": [
        {
          "name": "stdout",
          "output_type": "stream",
          "text": [
            "Model: \"model\"\n",
            "_________________________________________________________________\n",
            "Layer (type)                 Output Shape              Param #   \n",
            "=================================================================\n",
            "input_1 (InputLayer)         [(None, None)]            0         \n",
            "_________________________________________________________________\n",
            "lambda (Lambda)              (32, None, 1024)          0         \n",
            "_________________________________________________________________\n",
            "RNN_layer_1 (SimpleRNN)      (32, None, 128)           147584    \n",
            "_________________________________________________________________\n",
            "RNN_layer_2 (SimpleRNN)      (32, None, 128)           32896     \n",
            "_________________________________________________________________\n",
            "Dense_layer_1 (Dense)        (32, None, 512)           66048     \n",
            "_________________________________________________________________\n",
            "Dropout_layer (Dropout)      (32, None, 512)           0         \n",
            "_________________________________________________________________\n",
            "Dense_layer_2 (Dense)        (32, None, 256)           131328    \n",
            "_________________________________________________________________\n",
            "output_layer (Dense)         (32, None, 63)            16191     \n",
            "=================================================================\n",
            "Total params: 394,047\n",
            "Trainable params: 394,047\n",
            "Non-trainable params: 0\n",
            "_________________________________________________________________\n"
          ]
        }
      ],
      "source": [
        "#Model summary\n",
        "model_rnn_2.summary()"
      ]
    },
    {
      "cell_type": "code",
      "execution_count": null,
      "metadata": {
        "colab": {
          "base_uri": "https://localhost:8080/"
        },
        "id": "RV1QUu4RJAQY",
        "outputId": "0540d92c-e69f-4fce-facf-6ebb4d82e1ed"
      },
      "outputs": [
        {
          "name": "stdout",
          "output_type": "stream",
          "text": [
            "WARNING:tensorflow:From /usr/local/lib/python3.7/dist-packages/tensorflow_core/python/ops/math_grad.py:1424: where (from tensorflow.python.ops.array_ops) is deprecated and will be removed in a future version.\n",
            "Instructions for updating:\n",
            "Use tf.where in 2.0, which has the same broadcast rule as np.where\n"
          ]
        },
        {
          "name": "stderr",
          "output_type": "stream",
          "text": [
            "WARNING:tensorflow:From /usr/local/lib/python3.7/dist-packages/tensorflow_core/python/ops/math_grad.py:1424: where (from tensorflow.python.ops.array_ops) is deprecated and will be removed in a future version.\n",
            "Instructions for updating:\n",
            "Use tf.where in 2.0, which has the same broadcast rule as np.where\n"
          ]
        },
        {
          "name": "stdout",
          "output_type": "stream",
          "text": [
            "Train on 1472 samples, validate on 256 samples\n",
            "Epoch 1/5\n",
            "1472/1472 [==============================] - 203s 138ms/sample - loss: 0.6012 - acc: 0.8973 - val_loss: 0.2958 - val_acc: 0.9407\n",
            "Epoch 2/5\n",
            "1472/1472 [==============================] - 200s 136ms/sample - loss: 0.2577 - acc: 0.9479 - val_loss: 0.2231 - val_acc: 0.9534\n",
            "Epoch 3/5\n",
            "1472/1472 [==============================] - 201s 136ms/sample - loss: 0.2097 - acc: 0.9552 - val_loss: 0.1910 - val_acc: 0.9588\n",
            "Epoch 4/5\n",
            "1472/1472 [==============================] - 200s 136ms/sample - loss: 0.1836 - acc: 0.9601 - val_loss: 0.1705 - val_acc: 0.9621\n",
            "Epoch 5/5\n",
            "1472/1472 [==============================] - 200s 136ms/sample - loss: 0.1665 - acc: 0.9629 - val_loss: 0.1564 - val_acc: 0.9640\n"
          ]
        }
      ],
      "source": [
        "#Compile and fitting the model\n",
        "\n",
        "model_rnn_2.compile(loss = tf.keras.losses.sparse_categorical_crossentropy,\n",
        "                    optimizer=\"adam\",\n",
        "                    metrics = [\"accuracy\"])\n",
        "\n",
        "with tf.Session() as session:\n",
        "  K.set_session(session)\n",
        "  session.run(tf.global_variables_initializer())\n",
        "  session.run(tf.tables_initializer())\n",
        "  history4 = model_rnn_2.fit(train_data_elmo, train_label_elmo, validation_data = (val_data_elmo, val_label_elmo), epochs= 5, batch_size = 32)\n",
        "  model_rnn_2.save_weights(\"Elmo_rnn.h5\")"
      ]
    },
    {
      "cell_type": "code",
      "execution_count": null,
      "metadata": {
        "id": "qkhKUAXepPLX"
      },
      "outputs": [],
      "source": [
        "#prediction on validation set\n",
        "with tf.Session() as session:\n",
        "  K.set_session(session)\n",
        "  session.run(tf.global_variables_initializer())\n",
        "  session.run(tf.tables_initializer())\n",
        "  model_rnn_2.load_weights(\"/content/Elmo_rnn.h5\")\n",
        "  pred = model_rnn_2.predict(val_data_elmo)\n",
        "  "
      ]
    },
    {
      "cell_type": "code",
      "execution_count": null,
      "metadata": {
        "colab": {
          "base_uri": "https://localhost:8080/"
        },
        "id": "7h2A6vOdqdmL",
        "outputId": "f1a1be3b-9bb3-4ae6-cf2f-c0cc1eff4662"
      },
      "outputs": [
        {
          "data": {
            "text/plain": [
              "(256, 794)"
            ]
          },
          "execution_count": 32,
          "metadata": {},
          "output_type": "execute_result"
        }
      ],
      "source": [
        "pred = pred.argmax(axis = 2)\n",
        "pred.shape"
      ]
    },
    {
      "cell_type": "code",
      "execution_count": null,
      "metadata": {
        "colab": {
          "base_uri": "https://localhost:8080/"
        },
        "id": "7XqpKgZAqy3u",
        "outputId": "91beb070-4185-41fd-de68-4aae29bc15b0"
      },
      "outputs": [
        {
          "name": "stdout",
          "output_type": "stream",
          "text": [
            "203264 203264\n"
          ]
        }
      ],
      "source": [
        "#Flatten the array of true validation tags and pred validation tags to calculate the f1_score\n",
        "val_pred = []\n",
        "val_true = []\n",
        "for i in range(len(pred)):\n",
        "  for j, p in enumerate(pred[i]):\n",
        "    val_pred.append(p)\n",
        "    val_true.append(val_label_elmo[i][j])\n",
        "\n",
        "print(len(val_pred), len(val_true))"
      ]
    },
    {
      "cell_type": "code",
      "execution_count": null,
      "metadata": {
        "id": "uGTG-8_QrXsA"
      },
      "outputs": [],
      "source": [
        "#Calculate the f1_score on validation set\n",
        "f1_score_elmo_rnn = f1_score(val_true, val_pred, average = \"weighted\")\n",
        "\n",
        "#calculate the accuracy on validation set\n",
        "accuracy_elmo_rnn = accuracy_score(val_true, val_pred)"
      ]
    },
    {
      "cell_type": "code",
      "execution_count": null,
      "metadata": {
        "colab": {
          "base_uri": "https://localhost:8080/"
        },
        "id": "cuMZURzErfjZ",
        "outputId": "43f93b3a-46e1-48d4-8c21-14ab47c1a3cc"
      },
      "outputs": [
        {
          "name": "stdout",
          "output_type": "stream",
          "text": [
            "The f1_score of ELMo RNN model on validation set is 95.42%\n",
            "The accuracy of ELMo RNN model on validation set is 96.52%\n"
          ]
        }
      ],
      "source": [
        "print(f\"The f1_score of ELMo RNN model on validation set is {np.round(f1_score_elmo_rnn*100,2)}%\")\n",
        "print(f\"The accuracy of ELMo RNN model on validation set is {np.round(accuracy_elmo_rnn*100,2)}%\")"
      ]
    },
    {
      "cell_type": "markdown",
      "metadata": {
        "id": "fOZoSv2W8KRt"
      },
      "source": [
        "###LSTM"
      ]
    },
    {
      "cell_type": "code",
      "execution_count": null,
      "metadata": {
        "colab": {
          "base_uri": "https://localhost:8080/"
        },
        "id": "H7NZSJU08MeI",
        "outputId": "2aee19b3-f61b-4324-a6b3-cf21c105d7ae"
      },
      "outputs": [
        {
          "name": "stdout",
          "output_type": "stream",
          "text": [
            "INFO:tensorflow:Saver not created because there are no variables in the graph to restore\n"
          ]
        },
        {
          "name": "stderr",
          "output_type": "stream",
          "text": [
            "INFO:tensorflow:Saver not created because there are no variables in the graph to restore\n"
          ]
        }
      ],
      "source": [
        "#LSTM model architecture with ELMo embeddings\n",
        "input = tf.keras.Input(shape = [None] , dtype = tf.string)\n",
        "\n",
        "emb = tf.keras.layers.Lambda(Elmoembedding, output_shape = (1024,))(input)\n",
        "\n",
        "l1= tf.keras.layers.LSTM(128, return_sequences = True, name = \"LSTM_layer_1\")(emb)\n",
        "l2= tf.keras.layers.LSTM(128, return_sequences = True, name = \"LSTM_layer_2\")(l1)\n",
        "l3 = tf.keras.layers.Dense(512, activation = \"relu\", name = \"Dense_layer_1\")(l2)\n",
        "l4 = tf.keras.layers.Dropout(0.2, name = \"Dropout_layer\")(l3)\n",
        "l5 = tf.keras.layers.Dense(256, activation = \"relu\", name = \"Dense_layer_2\")(l4)\n",
        "output = tf.keras.layers.Dense(num_tags, activation = 'softmax', name = \"output_layer\")(l5)\n",
        "model_lstm_2 = tf.keras.Model(input, output)"
      ]
    },
    {
      "cell_type": "code",
      "execution_count": null,
      "metadata": {
        "colab": {
          "base_uri": "https://localhost:8080/"
        },
        "id": "zxYjBpg88sEd",
        "outputId": "d801d368-66bf-46a8-ef64-7be6581916c8"
      },
      "outputs": [
        {
          "name": "stdout",
          "output_type": "stream",
          "text": [
            "Model: \"model_1\"\n",
            "_________________________________________________________________\n",
            "Layer (type)                 Output Shape              Param #   \n",
            "=================================================================\n",
            "input_2 (InputLayer)         [(None, None)]            0         \n",
            "_________________________________________________________________\n",
            "lambda_1 (Lambda)            (32, None, 1024)          0         \n",
            "_________________________________________________________________\n",
            "LSTM_layer_1 (LSTM)          (32, None, 128)           590336    \n",
            "_________________________________________________________________\n",
            "LSTM_layer_2 (LSTM)          (32, None, 128)           131584    \n",
            "_________________________________________________________________\n",
            "Dense_layer_1 (Dense)        (32, None, 512)           66048     \n",
            "_________________________________________________________________\n",
            "Dropout_layer (Dropout)      (32, None, 512)           0         \n",
            "_________________________________________________________________\n",
            "Dense_layer_2 (Dense)        (32, None, 256)           131328    \n",
            "_________________________________________________________________\n",
            "output_layer (Dense)         (32, None, 63)            16191     \n",
            "=================================================================\n",
            "Total params: 935,487\n",
            "Trainable params: 935,487\n",
            "Non-trainable params: 0\n",
            "_________________________________________________________________\n"
          ]
        }
      ],
      "source": [
        "#Model summary\n",
        "model_lstm_2.summary()"
      ]
    },
    {
      "cell_type": "code",
      "execution_count": null,
      "metadata": {
        "colab": {
          "base_uri": "https://localhost:8080/"
        },
        "id": "lIoxiXUB8xkq",
        "outputId": "5e214f16-15cc-4968-98f8-f150e8f6cc92"
      },
      "outputs": [
        {
          "name": "stdout",
          "output_type": "stream",
          "text": [
            "Train on 1472 samples, validate on 256 samples\n",
            "Epoch 1/5\n",
            "1472/1472 [==============================] - 269s 183ms/sample - loss: 0.6551 - acc: 0.9153 - val_loss: 0.3708 - val_acc: 0.9370\n",
            "Epoch 2/5\n",
            "1472/1472 [==============================] - 247s 168ms/sample - loss: 0.3151 - acc: 0.9360 - val_loss: 0.2606 - val_acc: 0.9444\n",
            "Epoch 3/5\n",
            "1472/1472 [==============================] - 246s 167ms/sample - loss: 0.2388 - acc: 0.9502 - val_loss: 0.2133 - val_acc: 0.9535\n",
            "Epoch 4/5\n",
            "1472/1472 [==============================] - 246s 167ms/sample - loss: 0.2037 - acc: 0.9543 - val_loss: 0.1886 - val_acc: 0.9568\n",
            "Epoch 5/5\n",
            "1472/1472 [==============================] - 247s 168ms/sample - loss: 0.1832 - acc: 0.9586 - val_loss: 0.1714 - val_acc: 0.9608\n"
          ]
        }
      ],
      "source": [
        "#Compile and fitting the model\n",
        "\n",
        "model_lstm_2.compile(loss = tf.keras.losses.sparse_categorical_crossentropy,\n",
        "                    optimizer=\"adam\",\n",
        "                    metrics = [\"accuracy\"])\n",
        "\n",
        "with tf.Session() as session:\n",
        "  K.set_session(session)\n",
        "  session.run(tf.global_variables_initializer())\n",
        "  session.run(tf.tables_initializer())\n",
        "  history5 = model_lstm_2.fit(train_data_elmo, train_label_elmo, validation_data = (val_data_elmo, val_label_elmo), epochs= 5, batch_size = 32)\n",
        "  model_lstm_2.save_weights(\"Elmo_lstm.h5\")"
      ]
    },
    {
      "cell_type": "code",
      "execution_count": null,
      "metadata": {
        "id": "3KGg0dNp9hkh"
      },
      "outputs": [],
      "source": [
        "#prediction on validation set\n",
        "with tf.Session() as session:\n",
        "  K.set_session(session)\n",
        "  session.run(tf.global_variables_initializer())\n",
        "  session.run(tf.tables_initializer())\n",
        "  model_lstm_2.load_weights(\"/content/Elmo_lstm.h5\")\n",
        "  pred = model_lstm_2.predict(val_data_elmo)\n",
        "  "
      ]
    },
    {
      "cell_type": "code",
      "execution_count": null,
      "metadata": {
        "colab": {
          "base_uri": "https://localhost:8080/"
        },
        "id": "P4Acr6D99tPn",
        "outputId": "bfc8f447-2e88-4045-a434-5b4640f2b5b2"
      },
      "outputs": [
        {
          "name": "stdout",
          "output_type": "stream",
          "text": [
            "203264 203264\n"
          ]
        }
      ],
      "source": [
        "pred = pred.argmax(axis = 2)\n",
        "pred.shape\n",
        "\n",
        "#Flatten the array of true validation tags and pred validation tags to calculate the f1_score\n",
        "val_pred = []\n",
        "val_true = []\n",
        "for i in range(len(pred)):\n",
        "  for j, p in enumerate(pred[i]):\n",
        "    val_pred.append(p)\n",
        "    val_true.append(val_label_elmo[i][j])\n",
        "\n",
        "print(len(val_pred), len(val_true))"
      ]
    },
    {
      "cell_type": "code",
      "execution_count": null,
      "metadata": {
        "id": "mgds3goP90Ri"
      },
      "outputs": [],
      "source": [
        "#Calculate the f1_score on validation set\n",
        "f1_score_elmo_lstm = f1_score(val_true, val_pred, average = \"weighted\")\n",
        "\n",
        "#calculate the accuracy on validation set\n",
        "accuracy_elmo_lstm = accuracy_score(val_true, val_pred)"
      ]
    },
    {
      "cell_type": "code",
      "execution_count": null,
      "metadata": {
        "colab": {
          "base_uri": "https://localhost:8080/"
        },
        "id": "YyvmuyFW94Sa",
        "outputId": "706a729b-9670-4cab-c1e2-2735da12a936"
      },
      "outputs": [
        {
          "name": "stdout",
          "output_type": "stream",
          "text": [
            "The f1_score of ELMo LSTM model on validation set is 94.76%\n",
            "The accuracy of ELMo LSTM model on validation set is 96.08%\n"
          ]
        }
      ],
      "source": [
        "print(f\"The f1_score of ELMo LSTM model on validation set is {np.round(f1_score_elmo_lstm*100,2)}%\")\n",
        "print(f\"The accuracy of ELMo LSTM model on validation set is {np.round(accuracy_elmo_lstm*100,2)}%\")"
      ]
    },
    {
      "cell_type": "markdown",
      "metadata": {
        "id": "tMgV-e-EDcxb"
      },
      "source": [
        "###GRU"
      ]
    },
    {
      "cell_type": "code",
      "execution_count": null,
      "metadata": {
        "colab": {
          "base_uri": "https://localhost:8080/"
        },
        "id": "Xzfji2-7Dea6",
        "outputId": "e5ff3b2b-16ba-49dd-c4c0-bee1a20bc7f3"
      },
      "outputs": [
        {
          "name": "stdout",
          "output_type": "stream",
          "text": [
            "INFO:tensorflow:Saver not created because there are no variables in the graph to restore\n"
          ]
        },
        {
          "name": "stderr",
          "output_type": "stream",
          "text": [
            "INFO:tensorflow:Saver not created because there are no variables in the graph to restore\n"
          ]
        }
      ],
      "source": [
        "#GRU model architecture with ELMo embeddings\n",
        "input = tf.keras.Input(shape = [None] , dtype = tf.string)\n",
        "\n",
        "emb = tf.keras.layers.Lambda(Elmoembedding, output_shape = (1024,))(input)\n",
        "\n",
        "l1= tf.keras.layers.GRU(128, return_sequences = True, name = \"GRU_layer_1\")(emb)\n",
        "l2= tf.keras.layers.GRU(128, return_sequences = True, name = \"GRU_layer_2\")(l1)\n",
        "l3 = tf.keras.layers.Dense(512, activation = \"relu\", name = \"Dense_layer_1\")(l2)\n",
        "l4 = tf.keras.layers.Dropout(0.2, name = \"Dropout_layer\")(l3)\n",
        "l5 = tf.keras.layers.Dense(256, activation = \"relu\", name = \"Dense_layer_2\")(l4)\n",
        "output = tf.keras.layers.Dense(num_tags, activation = 'softmax', name = \"output_layer\")(l5)\n",
        "\n",
        "model_gru_2 = tf.keras.Model(input, output)"
      ]
    },
    {
      "cell_type": "code",
      "execution_count": null,
      "metadata": {
        "colab": {
          "base_uri": "https://localhost:8080/"
        },
        "id": "dYaGvJfxDoDx",
        "outputId": "c39e8488-a328-4c48-fa2f-8f9af86aa7fe"
      },
      "outputs": [
        {
          "name": "stdout",
          "output_type": "stream",
          "text": [
            "Model: \"model_2\"\n",
            "_________________________________________________________________\n",
            "Layer (type)                 Output Shape              Param #   \n",
            "=================================================================\n",
            "input_5 (InputLayer)         [(None, None)]            0         \n",
            "_________________________________________________________________\n",
            "lambda_3 (Lambda)            (32, None, 1024)          0         \n",
            "_________________________________________________________________\n",
            "GRU_layer_1 (GRU)            (32, None, 128)           442752    \n",
            "_________________________________________________________________\n",
            "GRU_layer_2 (GRU)            (32, None, 128)           98688     \n",
            "_________________________________________________________________\n",
            "output_layer (Dense)         (32, None, 63)            8127      \n",
            "=================================================================\n",
            "Total params: 549,567\n",
            "Trainable params: 549,567\n",
            "Non-trainable params: 0\n",
            "_________________________________________________________________\n"
          ]
        }
      ],
      "source": [
        "#Model summary\n",
        "model_gru_2.summary()"
      ]
    },
    {
      "cell_type": "code",
      "execution_count": null,
      "metadata": {
        "colab": {
          "base_uri": "https://localhost:8080/"
        },
        "id": "qlMt2PQWDrcR",
        "outputId": "181231ef-7cba-4a02-f4a5-d00ab0eefbc8"
      },
      "outputs": [
        {
          "name": "stdout",
          "output_type": "stream",
          "text": [
            "Train on 1472 samples, validate on 256 samples\n",
            "Epoch 1/5\n",
            "1472/1472 [==============================] - 237s 161ms/sample - loss: 0.5894 - acc: 0.9107 - val_loss: 0.2866 - val_acc: 0.9460\n",
            "Epoch 2/5\n",
            "1472/1472 [==============================] - 235s 160ms/sample - loss: 0.2430 - acc: 0.9499 - val_loss: 0.2078 - val_acc: 0.9534\n",
            "Epoch 3/5\n",
            "1472/1472 [==============================] - 235s 160ms/sample - loss: 0.1931 - acc: 0.9566 - val_loss: 0.1755 - val_acc: 0.9609\n",
            "Epoch 4/5\n",
            "1472/1472 [==============================] - 235s 159ms/sample - loss: 0.1667 - acc: 0.9624 - val_loss: 0.1540 - val_acc: 0.9645\n",
            "Epoch 5/5\n",
            "1472/1472 [==============================] - 234s 159ms/sample - loss: 0.1483 - acc: 0.9652 - val_loss: 0.1383 - val_acc: 0.9666\n"
          ]
        }
      ],
      "source": [
        "#Compile and fitting the model\n",
        "\n",
        "model_gru_2.compile(loss = tf.keras.losses.sparse_categorical_crossentropy,\n",
        "                    optimizer=\"adam\",\n",
        "                    metrics = [\"accuracy\"])\n",
        "\n",
        "with tf.Session() as session:\n",
        "  K.set_session(session)\n",
        "  session.run(tf.global_variables_initializer())\n",
        "  session.run(tf.tables_initializer())\n",
        "  history6 = model_gru_2.fit(train_data_elmo, train_label_elmo, validation_data = (val_data_elmo, val_label_elmo), epochs= 5, batch_size = 32)\n",
        "  model_gru_2.save_weights(\"Elmo_gru.h5\")"
      ]
    },
    {
      "cell_type": "code",
      "execution_count": null,
      "metadata": {
        "id": "Y1_RMIQCD1zZ"
      },
      "outputs": [],
      "source": [
        "#prediction on validation set\n",
        "with tf.Session() as session:\n",
        "  K.set_session(session)\n",
        "  session.run(tf.global_variables_initializer())\n",
        "  session.run(tf.tables_initializer())\n",
        "  model_gru_2.load_weights(\"/content/Elmo_gru.h5\")\n",
        "  pred = model_gru_2.predict(val_data_elmo)\n",
        "  "
      ]
    },
    {
      "cell_type": "code",
      "execution_count": null,
      "metadata": {
        "colab": {
          "base_uri": "https://localhost:8080/"
        },
        "id": "yx7pIJtpD73E",
        "outputId": "dd8cd4d1-ee79-4b16-a599-e4181ca4416f"
      },
      "outputs": [
        {
          "name": "stdout",
          "output_type": "stream",
          "text": [
            "203264 203264\n"
          ]
        }
      ],
      "source": [
        "pred = pred.argmax(axis = 2)\n",
        "pred.shape\n",
        "\n",
        "#Flatten the array of true validation tags and pred validation tags to calculate the f1_score\n",
        "val_pred = []\n",
        "val_true = []\n",
        "for i in range(len(pred)):\n",
        "  for j, p in enumerate(pred[i]):\n",
        "    val_pred.append(p)\n",
        "    val_true.append(val_label_elmo[i][j])\n",
        "\n",
        "print(len(val_pred), len(val_true))"
      ]
    },
    {
      "cell_type": "code",
      "execution_count": null,
      "metadata": {
        "id": "tSNbvyALEDs_"
      },
      "outputs": [],
      "source": [
        "#Calculate the f1_score on validation set\n",
        "f1_score_elmo_gru = f1_score(val_true, val_pred, average = \"weighted\")\n",
        "\n",
        "#calculate the accuracy on validation set\n",
        "accuracy_elmo_gru = accuracy_score(val_true, val_pred)"
      ]
    },
    {
      "cell_type": "code",
      "execution_count": null,
      "metadata": {
        "colab": {
          "base_uri": "https://localhost:8080/"
        },
        "id": "L4G01gTBEJ0Z",
        "outputId": "46d2ade2-ecae-4aaf-b54a-d3162f82f99d"
      },
      "outputs": [
        {
          "name": "stdout",
          "output_type": "stream",
          "text": [
            "The f1_score of ELMo GRU model on validation set is 95.71%\n",
            "The accuracy of ELMo GRU model on validation set is 96.66%\n"
          ]
        }
      ],
      "source": [
        "print(f\"The f1_score of ELMo GRU model on validation set is {np.round(f1_score_elmo_gru*100,2)}%\")\n",
        "print(f\"The accuracy of ELMo GRU model on validation set is {np.round(accuracy_elmo_gru*100,2)}%\")"
      ]
    },
    {
      "cell_type": "code",
      "execution_count": null,
      "metadata": {
        "colab": {
          "base_uri": "https://localhost:8080/",
          "height": 405
        },
        "id": "siDDO-UxFFwA",
        "outputId": "80b82a43-f195-4953-9284-a91369f6de7a"
      },
      "outputs": [
        {
          "data": {
            "image/png": "[encoded data removed]",
            "text/plain": [
              "<Figure size 1080x432 with 2 Axes>"
            ]
          },
          "metadata": {
            "needs_background": "light"
          },
          "output_type": "display_data"
        }
      ],
      "source": [
        "model_names = [\"ELMo_RNN\", \"ELMo_LSTM\", \"ELMO_GRU\"]\n",
        "f1_scores = [f1_score_elmo_rnn, f1_score_elmo_lstm, f1_score_elmo_gru]\n",
        "accuracy_list = [accuracy_elmo_rnn, accuracy_elmo_lstm, accuracy_elmo_gru]\n",
        "\n",
        "fig, ax = plt.subplots(1,2,figsize=(15,6))\n",
        "ax[0].bar(model_names, f1_scores, color = \"darkcyan\")\n",
        "for i, v in enumerate(range(3)):\n",
        "    ax[0].text(v-0.1 , 0.97, str(np.round(f1_scores[i],3)),\n",
        "            color = 'k', fontweight = 'bold')\n",
        "    \n",
        "ax[0].set_title(\"F1_score comparisons\",fontweight = \"bold\")\n",
        "ax[0].set_xlabel(\"Models\",fontweight = \"bold\")\n",
        "ax[0].set_ylabel(\"F1 score\",fontweight = \"bold\")\n",
        "\n",
        "ax[1].bar(model_names, accuracy_list, color = \"purple\")\n",
        "for i, v in enumerate(range(3)):\n",
        "    ax[1].text(v-0.1 , 0.97, str(np.round(accuracy_list[i],3)),\n",
        "            color = 'k', fontweight = 'bold')\n",
        "    \n",
        "ax[1].set_title(\"Accuracy comparisons\",fontweight = \"bold\")\n",
        "ax[1].set_xlabel(\"Models\",fontweight = \"bold\")\n",
        "ax[1].set_ylabel(\"Accuracy\",fontweight = \"bold\")\n",
        "\n",
        "plt.show()"
      ]
    },
    {
      "cell_type": "markdown",
      "metadata": {
        "id": "daQkhZ-8-Wtt"
      },
      "source": [
        "#Bert"
      ]
    },
    {
      "cell_type": "code",
      "execution_count": 12,
      "metadata": {
        "id": "ygZCVnaf-V0P"
      },
      "outputs": [],
      "source": [
        "sentences_list = [\" \".join(tokens[i]) for i in range(len(tokens))]\n"
      ]
    },
    {
      "cell_type": "code",
      "execution_count": 13,
      "metadata": {
        "id": "u7Jr8gpG-ZB3"
      },
      "outputs": [],
      "source": [
        "X_train, X_test, y_train, y_test = train_test_split(sentences_list, labels, train_size = 0.85, random_state = 34)"
      ]
    },
    {
      "cell_type": "code",
      "execution_count": 14,
      "metadata": {
        "colab": {
          "base_uri": "https://localhost:8080/"
        },
        "id": "s2GxvOJW-c_r",
        "outputId": "ebdccd5f-730e-4729-d9a8-d779f13b7cbb"
      },
      "outputs": [
        {
          "name": "stdout",
          "output_type": "stream",
          "text": [
            "Looking in indexes: https://pypi.org/simple, https://us-python.pkg.dev/colab-wheels/public/simple/\n",
            "Collecting transformers\n",
            "  Downloading transformers-4.20.0-py3-none-any.whl (4.4 MB)\n",
            "\u001b[K     |████████████████████████████████| 4.4 MB 20.9 MB/s \n",
            "\u001b[?25hRequirement already satisfied: numpy>=1.17 in /usr/local/lib/python3.7/dist-packages (from transformers) (1.21.6)\n",
            "Collecting pyyaml>=5.1\n",
            "  Downloading PyYAML-6.0-cp37-cp37m-manylinux_2_5_x86_64.manylinux1_x86_64.manylinux_2_12_x86_64.manylinux2010_x86_64.whl (596 kB)\n",
            "\u001b[K     |████████████████████████████████| 596 kB 60.6 MB/s \n",
            "\u001b[?25hCollecting huggingface-hub<1.0,>=0.1.0\n",
            "  Downloading huggingface_hub-0.7.0-py3-none-any.whl (86 kB)\n",
            "\u001b[K     |████████████████████████████████| 86 kB 5.7 MB/s \n",
            "\u001b[?25hRequirement already satisfied: packaging>=20.0 in /usr/local/lib/python3.7/dist-packages (from transformers) (21.3)\n",
            "Requirement already satisfied: tqdm>=4.27 in /usr/local/lib/python3.7/dist-packages (from transformers) (4.64.0)\n",
            "Collecting tokenizers!=0.11.3,<0.13,>=0.11.1\n",
            "  Downloading tokenizers-0.12.1-cp37-cp37m-manylinux_2_12_x86_64.manylinux2010_x86_64.whl (6.6 MB)\n",
            "\u001b[K     |████████████████████████████████| 6.6 MB 59.4 MB/s \n",
            "\u001b[?25hRequirement already satisfied: requests in /usr/local/lib/python3.7/dist-packages (from transformers) (2.23.0)\n",
            "Requirement already satisfied: filelock in /usr/local/lib/python3.7/dist-packages (from transformers) (3.7.1)\n",
            "Requirement already satisfied: regex!=2019.12.17 in /usr/local/lib/python3.7/dist-packages (from transformers) (2022.6.2)\n",
            "Requirement already satisfied: importlib-metadata in /usr/local/lib/python3.7/dist-packages (from transformers) (4.11.4)\n",
            "Requirement already satisfied: typing-extensions>=3.7.4.3 in /usr/local/lib/python3.7/dist-packages (from huggingface-hub<1.0,>=0.1.0->transformers) (4.1.1)\n",
            "Requirement already satisfied: pyparsing!=3.0.5,>=2.0.2 in /usr/local/lib/python3.7/dist-packages (from packaging>=20.0->transformers) (3.0.9)\n",
            "Requirement already satisfied: zipp>=0.5 in /usr/local/lib/python3.7/dist-packages (from importlib-metadata->transformers) (3.8.0)\n",
            "Requirement already satisfied: chardet<4,>=3.0.2 in /usr/local/lib/python3.7/dist-packages (from requests->transformers) (3.0.4)\n",
            "Requirement already satisfied: certifi>=2017.4.17 in /usr/local/lib/python3.7/dist-packages (from requests->transformers) (2022.6.15)\n",
            "Requirement already satisfied: urllib3!=1.25.0,!=1.25.1,<1.26,>=1.21.1 in /usr/local/lib/python3.7/dist-packages (from requests->transformers) (1.24.3)\n",
            "Requirement already satisfied: idna<3,>=2.5 in /usr/local/lib/python3.7/dist-packages (from requests->transformers) (2.10)\n",
            "Installing collected packages: pyyaml, tokenizers, huggingface-hub, transformers\n",
            "  Attempting uninstall: pyyaml\n",
            "    Found existing installation: PyYAML 3.13\n",
            "    Uninstalling PyYAML-3.13:\n",
            "      Successfully uninstalled PyYAML-3.13\n",
            "Successfully installed huggingface-hub-0.7.0 pyyaml-6.0 tokenizers-0.12.1 transformers-4.20.0\n"
          ]
        }
      ],
      "source": [
        "!pip install transformers"
      ]
    },
    {
      "cell_type": "code",
      "execution_count": 29,
      "metadata": {
        "id": "MI3jaVCL-ib-"
      },
      "outputs": [],
      "source": [
        "from transformers import AutoTokenizer, TFDistilBertModel, TFTrainer, TFTrainingArguments"
      ]
    },
    {
      "cell_type": "code",
      "execution_count": 16,
      "metadata": {
        "colab": {
          "base_uri": "https://localhost:8080/",
          "height": 177,
          "referenced_widgets": [
            "e1da8ad6ae294ea1b94defb48d154021",
            "190e4dec47d743c6b7e9a511455c2693",
            "114940412a1d478bba7e1b2d4b44f948",
            "5d63ee1a05b243528c7383a750f9c5d4",
            "3764493bd2154816b7c0b1976d125691",
            "b41d2b86338f4ad2acb531be7d3d6770",
            "804cbfd1c73c47a3968d9545ed361642",
            "cf15c5898fab4a348e1b717273730755",
            "8009cd7414244c35b4832f98a380f13b",
            "b34edf581b0c4b738eb466b52a77cb0f",
            "37f57a1aeb284990b441495e3f3ebe82",
            "9d12b448a31c4e5da22619849952aa82",
            "a5e9dea47e544104b9776619611cab86",
            "639f73f6840d4233bfa5a7691ccc041e",
            "d9bcf168565c488386c66b77459bd82e",
            "b503407b84774a04b322eb4b271b515b",
            "e28eb824074d4ae7b2ff86d544627746",
            "b0f762828d3d4530a79ac19b153e8b46",
            "78565695b00347d19504a6770b8d8163",
            "913303e8237a48349f34e1a5e0dfc031",
            "b4e8fda643ae4ba186ec7c4130a21285",
            "ad930f3cf3824622ac9b0611ef6e88e9",
            "f35517bb561a4739b2031854ac7c6a94",
            "b06a9bc993534846bf9a2960c6e706c5",
            "f0490a3888c342dc8387036b7792e92c",
            "6046d69a93f84013a337b4d974ca7f7a",
            "6d26aaf312854857b17aa6fc0a1e2e9e",
            "34e1d4ba28824ef5b7ad5f711462ba84",
            "2ccc9096cf094488a35370728d512237",
            "0730e981d82843648c18af5b0c6ce507",
            "7349646f2080428cad76b0285db5217d",
            "54425b69319242709c88d0fea97bc1f6",
            "1cd6c1cef6ba466b914568a8a3a8c43a",
            "387d040e799a469eb7c434f3213c2093",
            "260a6653f484400581a02e222342e4ae",
            "75527dfcabbf4f1d80a1e137f4e6e7fa",
            "90b281afa94249389853a19f0e5cbb3d",
            "7f3eff1f5dd549b482fcd45fb347244d",
            "4c1b9074b52f4d04ab99b3a67dbce795",
            "e4edda9c611e4e7da96d28395cb49eff",
            "080e1f02f2184c17a8431593eb221a30",
            "7894679c258e4f1799694d56ae5a91d0",
            "e1470eb7818c4d8b966c9e2bcbd378f7",
            "02c7dcea343045108d8499cc68b4d852",
            "b7cbaf1b37164b048cd3d2910237ff73",
            "66b7fc7188174e368e5eddb36cc29b83",
            "fb223c378353454d88aa5e994d60715c",
            "ee130360f6b84d6eb9d059e1903666af",
            "3a456e06479a49ceb2bddb10f302dddc",
            "d4d8922fcb9a48ba871e2487a5cc8c33",
            "c48758fc53e94f74ac80eb78a1a5402c",
            "ab92fd9dad2c4ecfb6ea06530185099a",
            "c880874692dc44c6a291b1ecba003c51",
            "6d5b27e9cda94b78a3e0bf8fec305940",
            "d5eb46e702d34878b8e69adb7437661b"
          ]
        },
        "id": "AEh6PrT4-nB-",
        "outputId": "4244dc09-ed39-4891-ade7-5612ac1f5922"
      },
      "outputs": [
        {
          "data": {
            "application/vnd.jupyter.widget-view+json": {
              "model_id": "e1da8ad6ae294ea1b94defb48d154021",
              "version_major": 2,
              "version_minor": 0
            },
            "text/plain": [
              "Downloading:   0%|          | 0.00/59.0 [00:00<?, ?B/s]"
            ]
          },
          "metadata": {},
          "output_type": "display_data"
        },
        {
          "data": {
            "application/vnd.jupyter.widget-view+json": {
              "model_id": "9d12b448a31c4e5da22619849952aa82",
              "version_major": 2,
              "version_minor": 0
            },
            "text/plain": [
              "Downloading:   0%|          | 0.00/829 [00:00<?, ?B/s]"
            ]
          },
          "metadata": {},
          "output_type": "display_data"
        },
        {
          "data": {
            "application/vnd.jupyter.widget-view+json": {
              "model_id": "f35517bb561a4739b2031854ac7c6a94",
              "version_major": 2,
              "version_minor": 0
            },
            "text/plain": [
              "Downloading:   0%|          | 0.00/208k [00:00<?, ?B/s]"
            ]
          },
          "metadata": {},
          "output_type": "display_data"
        },
        {
          "data": {
            "application/vnd.jupyter.widget-view+json": {
              "model_id": "387d040e799a469eb7c434f3213c2093",
              "version_major": 2,
              "version_minor": 0
            },
            "text/plain": [
              "Downloading:   0%|          | 0.00/2.00 [00:00<?, ?B/s]"
            ]
          },
          "metadata": {},
          "output_type": "display_data"
        },
        {
          "data": {
            "application/vnd.jupyter.widget-view+json": {
              "model_id": "b7cbaf1b37164b048cd3d2910237ff73",
              "version_major": 2,
              "version_minor": 0
            },
            "text/plain": [
              "Downloading:   0%|          | 0.00/112 [00:00<?, ?B/s]"
            ]
          },
          "metadata": {},
          "output_type": "display_data"
        }
      ],
      "source": [
        "tokenizer = AutoTokenizer.from_pretrained(\"dslim/bert-base-NER\")"
      ]
    },
    {
      "cell_type": "code",
      "execution_count": 35,
      "metadata": {
        "id": "PpuusO7I-qoh"
      },
      "outputs": [],
      "source": [
        "train_encodings = tokenizer(X_train, truncation = True, max_length = 794, padding = True,add_special_tokens = True, return_tensors = \"tf\")\n",
        "test_encodings = tokenizer(X_test, max_length = 794, truncation = True ,padding = True,add_special_tokens = True, return_tensors = \"tf\")"
      ]
    },
    {
      "cell_type": "code",
      "execution_count": 30,
      "metadata": {
        "colab": {
          "base_uri": "https://localhost:8080/",
          "height": 176,
          "referenced_widgets": [
            "c6845dd4177f4a96a97ad8c150e35882",
            "c29d42e173e9455e85be1d6bd770b11f",
            "7361fa1298cb4441a8866515f0ede144",
            "a8eaa6dc736945568faaec4f0640a2ac",
            "d89017ab96914c43b9e339a87837edeb",
            "713babd196b14bd69155b2253e8a7efa",
            "45e1ff640232414ca9fa9f49850a6d27",
            "d9e93b3b6b1a4dc9b98238436a4ff8c4",
            "b3cdb4638636405dbd13f529ed3ec091",
            "38452238f4b74068988bd8d27639b205",
            "dc9411a886374fe5b82996f6326228da"
          ]
        },
        "id": "_pOxWuYDABpq",
        "outputId": "15eebbcd-bcef-4c1e-8216-068372549690"
      },
      "outputs": [
        {
          "name": "stderr",
          "output_type": "stream",
          "text": [
            "You are using a model of type bert to instantiate a model of type distilbert. This is not supported for all configurations of models and can yield errors.\n"
          ]
        },
        {
          "data": {
            "application/vnd.jupyter.widget-view+json": {
              "model_id": "c6845dd4177f4a96a97ad8c150e35882",
              "version_major": 2,
              "version_minor": 0
            },
            "text/plain": [
              "Downloading:   0%|          | 0.00/413M [00:00<?, ?B/s]"
            ]
          },
          "metadata": {},
          "output_type": "display_data"
        },
        {
          "name": "stderr",
          "output_type": "stream",
          "text": [
            "Some layers from the model checkpoint at dslim/bert-base-NER were not used when initializing TFDistilBertModel: ['dropout_37', 'classifier', 'bert']\n",
            "- This IS expected if you are initializing TFDistilBertModel from the checkpoint of a model trained on another task or with another architecture (e.g. initializing a BertForSequenceClassification model from a BertForPreTraining model).\n",
            "- This IS NOT expected if you are initializing TFDistilBertModel from the checkpoint of a model that you expect to be exactly identical (initializing a BertForSequenceClassification model from a BertForSequenceClassification model).\n",
            "Some layers of TFDistilBertModel were not initialized from the model checkpoint at dslim/bert-base-NER and are newly initialized: ['distilbert']\n",
            "You should probably TRAIN this model on a down-stream task to be able to use it for predictions and inference.\n"
          ]
        }
      ],
      "source": [
        "Bert = TFDistilBertModel.from_pretrained(\"dslim/bert-base-NER\")"
      ]
    },
    {
      "cell_type": "code",
      "execution_count": 37,
      "metadata": {
        "id": "0pfMydtaA1Ng"
      },
      "outputs": [],
      "source": [
        "input_ids = tf.keras.Input(shape = (794,), dtype = tf.int32, name = \"input_ids\")\n",
        "input_mask = tf.keras.Input(shape = (794,), dtype = tf.int32,  name = \"input_mask\")\n",
        "\n",
        "emb = Bert(input_ids, attention_mask = input_mask)[0]\n",
        "l1 = tf.keras.layers.LSTM(128, return_sequences = True, name = \"LSTM_layer\")(emb)\n",
        "#l2 = tf.keras.layers.GlobalAveragePooling1D()(l1)\n",
        "l3 = tf.keras.layers.Dense(128,activation = \"relu\")(l1)\n",
        "l4 = tf.keras.layers.Dropout(0.2)(l3)\n",
        "output = tf.keras.layers.Dense(63, activation = 'softmax', name = \"output_layer\")(l4)\n",
        "\n",
        "bert_model = tf.keras.Model([input_ids, input_mask], output)\n",
        "bert_model.layers[2].trainable = True"
      ]
    },
    {
      "cell_type": "code",
      "execution_count": 38,
      "metadata": {
        "id": "DCMouC8bCtTb"
      },
      "outputs": [],
      "source": [
        "bert_model.compile(loss = tf.keras.losses.sparse_categorical_crossentropy,\n",
        "                   optimizer = \"adam\",\n",
        "                   metrics = [\"accuracy\"])"
      ]
    },
    {
      "cell_type": "code",
      "execution_count": 39,
      "metadata": {
        "colab": {
          "base_uri": "https://localhost:8080/"
        },
        "id": "TLeWYw2JCwzn",
        "outputId": "dc5eb882-2aaa-434f-b67b-2007b71a8e28"
      },
      "outputs": [
        {
          "name": "stdout",
          "output_type": "stream",
          "text": [
            "Epoch 1/2\n",
            "373/373 [==============================] - 373s 958ms/step - loss: 0.5266 - accuracy: 0.9286 - val_loss: 0.4563 - val_accuracy: 0.9330\n",
            "Epoch 2/2\n",
            "373/373 [==============================] - 354s 948ms/step - loss: 0.4485 - accuracy: 0.9363 - val_loss: 0.4548 - val_accuracy: 0.9330\n"
          ]
        },
        {
          "data": {
            "text/plain": [
              "<keras.callbacks.History at 0x7fc5a71bf510>"
            ]
          },
          "execution_count": 39,
          "metadata": {},
          "output_type": "execute_result"
        }
      ],
      "source": [
        "bert_model.fit(x = {\"input_ids\" : train_encodings[\"input_ids\"], \"input_mask\" : train_encodings[\"attention_mask\"]}, y = y_train, batch_size = 4, epochs = 2,\n",
        "               validation_data = ({\"input_ids\" : test_encodings[\"input_ids\"], \"input_mask\" : test_encodings[\"attention_mask\"]}, y_test))"
      ]
    },
    {
      "cell_type": "code",
      "execution_count": 41,
      "metadata": {
        "colab": {
          "base_uri": "https://localhost:8080/"
        },
        "id": "cTKhxLfKGgSf",
        "outputId": "2a2fbf4d-cc48-4771-c751-8f0a867853de"
      },
      "outputs": [
        {
          "name": "stdout",
          "output_type": "stream",
          "text": [
            "9/9 [==============================] - 18s 2s/step - loss: 0.4548 - accuracy: 0.9330\n",
            "The accuracy of Bert model on test set is 0.9330482482910156\n"
          ]
        }
      ],
      "source": [
        "test_acc=bert_model.evaluate({\"input_ids\" : test_encodings[\"input_ids\"], \"input_mask\" : test_encodings[\"attention_mask\"]}, y_test)[1]\n"
      ]
    },
    {
      "cell_type": "code",
      "execution_count": 42,
      "metadata": {
        "colab": {
          "base_uri": "https://localhost:8080/"
        },
        "id": "rLE_aZAQG9ti",
        "outputId": "566ccbb6-7cae-4846-ecd9-176890db7f84"
      },
      "outputs": [
        {
          "name": "stdout",
          "output_type": "stream",
          "text": [
            "The accuracy of Bert model on test set is 93.3%\n"
          ]
        }
      ],
      "source": [
        "print(f\"The accuracy of Bert model on test set is {np.round(test_acc*100,2)}%\")"
      ]
    },
    {
      "cell_type": "markdown",
      "metadata": {
        "id": "nI5h5zJj2YFl"
      },
      "source": [
        "#Transformers"
      ]
    },
    {
      "cell_type": "code",
      "execution_count": null,
      "metadata": {
        "id": "4-L7YSJq52m-"
      },
      "outputs": [],
      "source": [
        "class TransformerBlock(layers.Layer):\n",
        "    def __init__(self, embed_dim, num_heads, ff_dim, rate=0.1):\n",
        "        super(TransformerBlock, self).__init__()\n",
        "        self.att = layers.MultiHeadAttention(num_heads=num_heads,\n",
        "                                             key_dim=embed_dim)\n",
        "        self.ffn = keras.Sequential([\n",
        "            layers.Dense(ff_dim, activation=\"relu\"),\n",
        "            layers.Dense(embed_dim),\n",
        "        ])\n",
        "        self.layernorm1 = layers.LayerNormalization(epsilon=1e-6)\n",
        "        self.layernorm2 = layers.LayerNormalization(epsilon=1e-6)\n",
        "        self.dropout1 = layers.Dropout(rate)\n",
        "        self.dropout2 = layers.Dropout(rate)\n",
        "\n",
        "    def call(self, inputs, training):\n",
        "        attn_output = self.att(inputs, inputs)  # self-attention layer\n",
        "        attn_output = self.dropout1(attn_output, training=training)\n",
        "        out1 = self.layernorm1(inputs + attn_output)  # layer norm\n",
        "        ffn_output = self.ffn(out1)  #feed-forward layer\n",
        "        ffn_output = self.dropout2(ffn_output, training=training)\n",
        "        return self.layernorm2(out1 + ffn_output)  # layer norm"
      ]
    },
    {
      "cell_type": "code",
      "execution_count": null,
      "metadata": {
        "id": "UtsfJQM02bNJ"
      },
      "outputs": [],
      "source": [
        "embed_dim = 300  # Embedding size for each token\n",
        "num_heads = 5  # Number of attention heads\n",
        "ff_dim = 300  # Hidden layer size in feed forward network inside transformer\n",
        "\n",
        "# model architecture\n",
        "input = tf.keras.Input(shape=[None])\n",
        "\n",
        "emb = tf.keras.layers.Embedding(input_dim = vocab_size+1, output_dim = embed_dim, mask_zero = True)(input)\n",
        "l1 = TransformerBlock(embed_dim, num_heads, ff_dim)(emb)\n",
        "#l2 = tf.keras.layers.GlobalAveragePooling1D()(l1)\n",
        "l3 = tf.keras.layers.Dropout(0.2)(l1)\n",
        "l4 = tf.keras.layers.Dense(128,activation = \"relu\")(l3)\n",
        "l5 = tf.keras.layers.Dropout(0.2)(l4)\n",
        "output = tf.keras.layers.Dense(num_tags, activation = 'softmax', name = \"output_layer\")(l5)\n",
        "\n",
        "transformer_model = tf.keras.Model(input, output)\n"
      ]
    },
    {
      "cell_type": "code",
      "execution_count": null,
      "metadata": {
        "colab": {
          "base_uri": "https://localhost:8080/"
        },
        "id": "HZ1IZfsm7Qg7",
        "outputId": "6503db5b-52ca-4ddb-c3f2-27ac21321bc5"
      },
      "outputs": [
        {
          "name": "stdout",
          "output_type": "stream",
          "text": [
            "Model: \"model\"\n",
            "_________________________________________________________________\n",
            " Layer (type)                Output Shape              Param #   \n",
            "=================================================================\n",
            " input_1 (InputLayer)        [(None, None)]            0         \n",
            "                                                                 \n",
            " embedding (Embedding)       (None, None, 300)         7466700   \n",
            "                                                                 \n",
            " transformer_block (Transfor  (None, None, 300)        1986600   \n",
            " merBlock)                                                       \n",
            "                                                                 \n",
            " dropout_2 (Dropout)         (None, None, 300)         0         \n",
            "                                                                 \n",
            " dense_2 (Dense)             (None, None, 128)         38528     \n",
            "                                                                 \n",
            " dropout_3 (Dropout)         (None, None, 128)         0         \n",
            "                                                                 \n",
            " output_layer (Dense)        (None, None, 63)          8127      \n",
            "                                                                 \n",
            "=================================================================\n",
            "Total params: 9,499,955\n",
            "Trainable params: 9,499,955\n",
            "Non-trainable params: 0\n",
            "_________________________________________________________________\n"
          ]
        }
      ],
      "source": [
        "# model summary\n",
        "transformer_model.summary()"
      ]
    },
    {
      "cell_type": "code",
      "execution_count": null,
      "metadata": {
        "colab": {
          "base_uri": "https://localhost:8080/"
        },
        "id": "Y3Rlc8Ti-T7c",
        "outputId": "5c69631c-369b-41f2-925d-0b4e0c0467a4"
      },
      "outputs": [
        {
          "name": "stdout",
          "output_type": "stream",
          "text": [
            "Epoch 1/10\n",
            "47/47 [==============================] - 18s 284ms/step - loss: 0.5528 - accuracy: 0.9065 - val_loss: 0.2727 - val_accuracy: 0.9428\n",
            "Epoch 2/10\n",
            "47/47 [==============================] - 13s 284ms/step - loss: 0.1809 - accuracy: 0.9581 - val_loss: 0.2036 - val_accuracy: 0.9526\n",
            "Epoch 3/10\n",
            "47/47 [==============================] - 14s 289ms/step - loss: 0.1299 - accuracy: 0.9675 - val_loss: 0.1902 - val_accuracy: 0.9554\n",
            "Epoch 4/10\n",
            "47/47 [==============================] - 14s 295ms/step - loss: 0.1092 - accuracy: 0.9711 - val_loss: 0.1832 - val_accuracy: 0.9563\n",
            "Epoch 5/10\n",
            "47/47 [==============================] - 14s 298ms/step - loss: 0.0997 - accuracy: 0.9726 - val_loss: 0.1844 - val_accuracy: 0.9558\n",
            "Epoch 6/10\n",
            "47/47 [==============================] - 14s 305ms/step - loss: 0.0940 - accuracy: 0.9735 - val_loss: 0.1818 - val_accuracy: 0.9565\n",
            "Epoch 7/10\n",
            "47/47 [==============================] - 15s 315ms/step - loss: 0.0904 - accuracy: 0.9740 - val_loss: 0.1850 - val_accuracy: 0.9571\n",
            "Epoch 8/10\n",
            "47/47 [==============================] - 15s 326ms/step - loss: 0.0879 - accuracy: 0.9743 - val_loss: 0.1819 - val_accuracy: 0.9568\n",
            "Epoch 9/10\n",
            "47/47 [==============================] - 15s 326ms/step - loss: 0.0854 - accuracy: 0.9748 - val_loss: 0.1821 - val_accuracy: 0.9571\n",
            "Epoch 10/10\n",
            "47/47 [==============================] - 15s 317ms/step - loss: 0.0837 - accuracy: 0.9750 - val_loss: 0.1828 - val_accuracy: 0.9571\n"
          ]
        }
      ],
      "source": [
        "transformer_model.compile(loss = tf.keras.losses.sparse_categorical_crossentropy,\n",
        "                          optimizer=\"adam\",\n",
        "                          metrics = [\"accuracy\"])\n",
        "\n",
        "history7 = transformer_model.fit(train_data, train_label, validation_data = (val_data, val_label), epochs = 10, batch_size = 32)"
      ]
    },
    {
      "cell_type": "code",
      "execution_count": null,
      "metadata": {
        "colab": {
          "base_uri": "https://localhost:8080/",
          "height": 369
        },
        "id": "L3GPV99OApF2",
        "outputId": "675d91d5-4a08-4efa-ae9b-a0cbb8fb86e8"
      },
      "outputs": [
        {
          "data": {
            "image/png": "[encoded data removed]",
            "text/plain": [
              "<Figure size 720x360 with 2 Axes>"
            ]
          },
          "metadata": {
            "needs_background": "light"
          },
          "output_type": "display_data"
        }
      ],
      "source": [
        "#Plotting the accuracy and loss curve\n",
        "fig , ax = plt.subplots(1,2,figsize=(10,5))\n",
        "ax[0].plot(range(1,11), history7.history[\"loss\"], label=\"Training_loss\")\n",
        "ax[0].plot(range(1,11), history7.history[\"val_loss\"], label=\"Validation_loss\")\n",
        "ax[0].set_xlabel(\"Epochs\")\n",
        "ax[0].set_ylabel(\"Loss\")\n",
        "ax[0].set_title(\"Loss curve\")\n",
        "ax[0].legend()\n",
        "\n",
        "\n",
        "ax[1].plot(range(1,11), history7.history[\"accuracy\"], label=\"Training_accuracy\")\n",
        "ax[1].plot(range(1,11), history7.history[\"val_accuracy\"], label=\"Validation_accuracy\")\n",
        "ax[1].set_xlabel(\"Epochs\")\n",
        "ax[1].set_ylabel(\"Accuracy\")\n",
        "ax[1].set_title(\"Accuracy curve\")\n",
        "ax[1].legend()\n",
        "\n",
        "fig.tight_layout()\n",
        "plt.show()"
      ]
    },
    {
      "cell_type": "code",
      "execution_count": null,
      "metadata": {
        "id": "vASkaV1jB4Uz"
      },
      "outputs": [],
      "source": [
        "# creating a function to make prediction\n",
        "def prediction(model, data):\n",
        "  data = data.split(\" \")\n",
        "  d = clean_tokens([data],tokenizer)[0]\n",
        "  len_sen = len(d)\n",
        "  tokens_list = tf.keras.preprocessing.sequence.pad_sequences([d], padding=\"post\",maxlen = 794).reshape(794,1)\n",
        "  pred = model.predict(tokens_list)\n",
        "  pred = [i[0] for i in pred.argmax(axis = 2)]\n",
        "  ent_list = []\n",
        "  for i in range(len_sen):\n",
        "    ent_list.append(id_to_tag[pred[i]])\n",
        "  df = pd.DataFrame({\"Words\" : data, \"Entity\" : ent_list})\n",
        "  return df"
      ]
    },
    {
      "cell_type": "markdown",
      "metadata": {
        "id": "01c30GqcZ4Qc"
      },
      "source": [
        "###### Custom prediction"
      ]
    },
    {
      "cell_type": "code",
      "execution_count": null,
      "metadata": {
        "id": "RtdUVuG1U1Ph"
      },
      "outputs": [],
      "source": [
        "sentence = \"Pavlos Protopapas is the Scientific Program director and has had a long and distinguished career as a scientist and data science educator, and currently teaches the CS109 course series for basic and advanced data science at Harvard University, as well as the capstone course (industry-sponsored data science projects) for the IACS master’s program at Harvard.\" "
      ]
    },
    {
      "cell_type": "code",
      "execution_count": null,
      "metadata": {
        "id": "MCHxBsguVn8M"
      },
      "outputs": [],
      "source": [
        "pred = prediction(transformer_model, sentence)"
      ]
    },
    {
      "cell_type": "code",
      "execution_count": null,
      "metadata": {
        "colab": {
          "base_uri": "https://localhost:8080/",
          "height": 1000
        },
        "id": "dtsH2Y0vaDZN",
        "outputId": "05eeacc4-892e-4a2a-fd2c-40ce36389e2d"
      },
      "outputs": [
        {
          "data": {
            "text/html": [
              "\n",
              "  <div id=\"df-d74b642a-734f-459e-952c-e1eb8fa807ab\">\n",
              "    <div class=\"colab-df-container\">\n",
              "      <div>\n",
              "<style scoped>\n",
              "    .dataframe tbody tr th:only-of-type {\n",
              "        vertical-align: middle;\n",
              "    }\n",
              "\n",
              "    .dataframe tbody tr th {\n",
              "        vertical-align: top;\n",
              "    }\n",
              "\n",
              "    .dataframe thead th {\n",
              "        text-align: right;\n",
              "    }\n",
              "</style>\n",
              "<table border=\"1\" class=\"dataframe\">\n",
              "  <thead>\n",
              "    <tr style=\"text-align: right;\">\n",
              "      <th></th>\n",
              "      <th>Words</th>\n",
              "      <th>Entity</th>\n",
              "    </tr>\n",
              "  </thead>\n",
              "  <tbody>\n",
              "    <tr>\n",
              "      <th>0</th>\n",
              "      <td>Pavlos</td>\n",
              "      <td>I-Person</td>\n",
              "    </tr>\n",
              "    <tr>\n",
              "      <th>1</th>\n",
              "      <td>Protopapas</td>\n",
              "      <td>I-Person</td>\n",
              "    </tr>\n",
              "    <tr>\n",
              "      <th>2</th>\n",
              "      <td>is</td>\n",
              "      <td>O</td>\n",
              "    </tr>\n",
              "    <tr>\n",
              "      <th>3</th>\n",
              "      <td>the</td>\n",
              "      <td>O</td>\n",
              "    </tr>\n",
              "    <tr>\n",
              "      <th>4</th>\n",
              "      <td>Scientific</td>\n",
              "      <td>I-Organization</td>\n",
              "    </tr>\n",
              "    <tr>\n",
              "      <th>5</th>\n",
              "      <td>Program</td>\n",
              "      <td>I-Grant</td>\n",
              "    </tr>\n",
              "    <tr>\n",
              "      <th>6</th>\n",
              "      <td>director</td>\n",
              "      <td>B-Organization</td>\n",
              "    </tr>\n",
              "    <tr>\n",
              "      <th>7</th>\n",
              "      <td>and</td>\n",
              "      <td>O</td>\n",
              "    </tr>\n",
              "    <tr>\n",
              "      <th>8</th>\n",
              "      <td>has</td>\n",
              "      <td>O</td>\n",
              "    </tr>\n",
              "    <tr>\n",
              "      <th>9</th>\n",
              "      <td>had</td>\n",
              "      <td>O</td>\n",
              "    </tr>\n",
              "    <tr>\n",
              "      <th>10</th>\n",
              "      <td>a</td>\n",
              "      <td>O</td>\n",
              "    </tr>\n",
              "    <tr>\n",
              "      <th>11</th>\n",
              "      <td>long</td>\n",
              "      <td>O</td>\n",
              "    </tr>\n",
              "    <tr>\n",
              "      <th>12</th>\n",
              "      <td>and</td>\n",
              "      <td>O</td>\n",
              "    </tr>\n",
              "    <tr>\n",
              "      <th>13</th>\n",
              "      <td>distinguished</td>\n",
              "      <td>B-Fellowship</td>\n",
              "    </tr>\n",
              "    <tr>\n",
              "      <th>14</th>\n",
              "      <td>career</td>\n",
              "      <td>B-Grant</td>\n",
              "    </tr>\n",
              "    <tr>\n",
              "      <th>15</th>\n",
              "      <td>as</td>\n",
              "      <td>O</td>\n",
              "    </tr>\n",
              "    <tr>\n",
              "      <th>16</th>\n",
              "      <td>a</td>\n",
              "      <td>O</td>\n",
              "    </tr>\n",
              "    <tr>\n",
              "      <th>17</th>\n",
              "      <td>scientist</td>\n",
              "      <td>I-Grant</td>\n",
              "    </tr>\n",
              "    <tr>\n",
              "      <th>18</th>\n",
              "      <td>and</td>\n",
              "      <td>O</td>\n",
              "    </tr>\n",
              "    <tr>\n",
              "      <th>19</th>\n",
              "      <td>data</td>\n",
              "      <td>I-Organization</td>\n",
              "    </tr>\n",
              "    <tr>\n",
              "      <th>20</th>\n",
              "      <td>science</td>\n",
              "      <td>I-Organization</td>\n",
              "    </tr>\n",
              "    <tr>\n",
              "      <th>21</th>\n",
              "      <td>educator,</td>\n",
              "      <td>I-Person</td>\n",
              "    </tr>\n",
              "    <tr>\n",
              "      <th>22</th>\n",
              "      <td>and</td>\n",
              "      <td>O</td>\n",
              "    </tr>\n",
              "    <tr>\n",
              "      <th>23</th>\n",
              "      <td>currently</td>\n",
              "      <td>O</td>\n",
              "    </tr>\n",
              "    <tr>\n",
              "      <th>24</th>\n",
              "      <td>teaches</td>\n",
              "      <td>I-Person</td>\n",
              "    </tr>\n",
              "    <tr>\n",
              "      <th>25</th>\n",
              "      <td>the</td>\n",
              "      <td>O</td>\n",
              "    </tr>\n",
              "    <tr>\n",
              "      <th>26</th>\n",
              "      <td>CS109</td>\n",
              "      <td>I-Person</td>\n",
              "    </tr>\n",
              "    <tr>\n",
              "      <th>27</th>\n",
              "      <td>course</td>\n",
              "      <td>O</td>\n",
              "    </tr>\n",
              "    <tr>\n",
              "      <th>28</th>\n",
              "      <td>series</td>\n",
              "      <td>O</td>\n",
              "    </tr>\n",
              "    <tr>\n",
              "      <th>29</th>\n",
              "      <td>for</td>\n",
              "      <td>O</td>\n",
              "    </tr>\n",
              "    <tr>\n",
              "      <th>30</th>\n",
              "      <td>basic</td>\n",
              "      <td>I-Organization</td>\n",
              "    </tr>\n",
              "    <tr>\n",
              "      <th>31</th>\n",
              "      <td>and</td>\n",
              "      <td>O</td>\n",
              "    </tr>\n",
              "    <tr>\n",
              "      <th>32</th>\n",
              "      <td>advanced</td>\n",
              "      <td>I-Organization</td>\n",
              "    </tr>\n",
              "    <tr>\n",
              "      <th>33</th>\n",
              "      <td>data</td>\n",
              "      <td>I-Organization</td>\n",
              "    </tr>\n",
              "    <tr>\n",
              "      <th>34</th>\n",
              "      <td>science</td>\n",
              "      <td>I-Organization</td>\n",
              "    </tr>\n",
              "    <tr>\n",
              "      <th>35</th>\n",
              "      <td>at</td>\n",
              "      <td>O</td>\n",
              "    </tr>\n",
              "    <tr>\n",
              "      <th>36</th>\n",
              "      <td>Harvard</td>\n",
              "      <td>B-Organization</td>\n",
              "    </tr>\n",
              "    <tr>\n",
              "      <th>37</th>\n",
              "      <td>University,</td>\n",
              "      <td>I-Organization</td>\n",
              "    </tr>\n",
              "    <tr>\n",
              "      <th>38</th>\n",
              "      <td>as</td>\n",
              "      <td>O</td>\n",
              "    </tr>\n",
              "    <tr>\n",
              "      <th>39</th>\n",
              "      <td>well</td>\n",
              "      <td>O</td>\n",
              "    </tr>\n",
              "    <tr>\n",
              "      <th>40</th>\n",
              "      <td>as</td>\n",
              "      <td>O</td>\n",
              "    </tr>\n",
              "    <tr>\n",
              "      <th>41</th>\n",
              "      <td>the</td>\n",
              "      <td>O</td>\n",
              "    </tr>\n",
              "    <tr>\n",
              "      <th>42</th>\n",
              "      <td>capstone</td>\n",
              "      <td>I-Person</td>\n",
              "    </tr>\n",
              "    <tr>\n",
              "      <th>43</th>\n",
              "      <td>course</td>\n",
              "      <td>O</td>\n",
              "    </tr>\n",
              "    <tr>\n",
              "      <th>44</th>\n",
              "      <td>(industry-sponsored</td>\n",
              "      <td>I-Person</td>\n",
              "    </tr>\n",
              "    <tr>\n",
              "      <th>45</th>\n",
              "      <td>data</td>\n",
              "      <td>I-Organization</td>\n",
              "    </tr>\n",
              "    <tr>\n",
              "      <th>46</th>\n",
              "      <td>science</td>\n",
              "      <td>I-Organization</td>\n",
              "    </tr>\n",
              "    <tr>\n",
              "      <th>47</th>\n",
              "      <td>projects)</td>\n",
              "      <td>I-Grant</td>\n",
              "    </tr>\n",
              "    <tr>\n",
              "      <th>48</th>\n",
              "      <td>for</td>\n",
              "      <td>O</td>\n",
              "    </tr>\n",
              "    <tr>\n",
              "      <th>49</th>\n",
              "      <td>the</td>\n",
              "      <td>O</td>\n",
              "    </tr>\n",
              "    <tr>\n",
              "      <th>50</th>\n",
              "      <td>IACS</td>\n",
              "      <td>I-Person</td>\n",
              "    </tr>\n",
              "    <tr>\n",
              "      <th>51</th>\n",
              "      <td>master’s</td>\n",
              "      <td>I-Person</td>\n",
              "    </tr>\n",
              "    <tr>\n",
              "      <th>52</th>\n",
              "      <td>program</td>\n",
              "      <td>I-Grant</td>\n",
              "    </tr>\n",
              "    <tr>\n",
              "      <th>53</th>\n",
              "      <td>at</td>\n",
              "      <td>O</td>\n",
              "    </tr>\n",
              "    <tr>\n",
              "      <th>54</th>\n",
              "      <td>Harvard.</td>\n",
              "      <td>B-Organization</td>\n",
              "    </tr>\n",
              "  </tbody>\n",
              "</table>\n",
              "</div>\n",
              "      <button class=\"colab-df-convert\" onclick=\"convertToInteractive('df-d74b642a-734f-459e-952c-e1eb8fa807ab')\"\n",
              "              title=\"Convert this dataframe to an interactive table.\"\n",
              "              style=\"display:none;\">\n",
              "        \n",
              "  <svg xmlns=\"http://www.w3.org/2000/svg\" height=\"24px\"viewBox=\"0 0 24 24\"\n",
              "       width=\"24px\">\n",
              "    <path d=\"M0 0h24v24H0V0z\" fill=\"none\"/>\n",
              "    <path d=\"M18.56 5.44l.94 2.06.94-2.06 2.06-.94-2.06-.94-.94-2.06-.94 2.06-2.06.94zm-11 1L8.5 8.5l.94-2.06 2.06-.94-2.06-.94L8.5 2.5l-.94 2.06-2.06.94zm10 10l.94 2.06.94-2.06 2.06-.94-2.06-.94-.94-2.06-.94 2.06-2.06.94z\"/><path d=\"M17.41 7.96l-1.37-1.37c-.4-.4-.92-.59-1.43-.59-.52 0-1.04.2-1.43.59L10.3 9.45l-7.72 7.72c-.78.78-.78 2.05 0 2.83L4 21.41c.39.39.9.59 1.41.59.51 0 1.02-.2 1.41-.59l7.78-7.78 2.81-2.81c.8-.78.8-2.07 0-2.86zM5.41 20L4 18.59l7.72-7.72 1.47 1.35L5.41 20z\"/>\n",
              "  </svg>\n",
              "      </button>\n",
              "      \n",
              "  <style>\n",
              "    .colab-df-container {\n",
              "      display:flex;\n",
              "      flex-wrap:wrap;\n",
              "      gap: 12px;\n",
              "    }\n",
              "\n",
              "    .colab-df-convert {\n",
              "      background-color: #E8F0FE;\n",
              "      border: none;\n",
              "      border-radius: 50%;\n",
              "      cursor: pointer;\n",
              "      display: none;\n",
              "      fill: #1967D2;\n",
              "      height: 32px;\n",
              "      padding: 0 0 0 0;\n",
              "      width: 32px;\n",
              "    }\n",
              "\n",
              "    .colab-df-convert:hover {\n",
              "      background-color: #E2EBFA;\n",
              "      box-shadow: 0px 1px 2px rgba(60, 64, 67, 0.3), 0px 1px 3px 1px rgba(60, 64, 67, 0.15);\n",
              "      fill: #174EA6;\n",
              "    }\n",
              "\n",
              "    [theme=dark] .colab-df-convert {\n",
              "      background-color: #3B4455;\n",
              "      fill: #D2E3FC;\n",
              "    }\n",
              "\n",
              "    [theme=dark] .colab-df-convert:hover {\n",
              "      background-color: #434B5C;\n",
              "      box-shadow: 0px 1px 3px 1px rgba(0, 0, 0, 0.15);\n",
              "      filter: drop-shadow(0px 1px 2px rgba(0, 0, 0, 0.3));\n",
              "      fill: #FFFFFF;\n",
              "    }\n",
              "  </style>\n",
              "\n",
              "      <script>\n",
              "        const buttonEl =\n",
              "          document.querySelector('#df-d74b642a-734f-459e-952c-e1eb8fa807ab button.colab-df-convert');\n",
              "        buttonEl.style.display =\n",
              "          google.colab.kernel.accessAllowed ? 'block' : 'none';\n",
              "\n",
              "        async function convertToInteractive(key) {\n",
              "          const element = document.querySelector('#df-d74b642a-734f-459e-952c-e1eb8fa807ab');\n",
              "          const dataTable =\n",
              "            await google.colab.kernel.invokeFunction('convertToInteractive',\n",
              "                                                     [key], {});\n",
              "          if (!dataTable) return;\n",
              "\n",
              "          const docLinkHtml = 'Like what you see? Visit the ' +\n",
              "            '<a target=\"_blank\" href=https://colab.research.google.com/notebooks/data_table.ipynb>data table notebook</a>'\n",
              "            + ' to learn more about interactive tables.';\n",
              "          element.innerHTML = '';\n",
              "          dataTable['output_type'] = 'display_data';\n",
              "          await google.colab.output.renderOutput(dataTable, element);\n",
              "          const docLink = document.createElement('div');\n",
              "          docLink.innerHTML = docLinkHtml;\n",
              "          element.appendChild(docLink);\n",
              "        }\n",
              "      </script>\n",
              "    </div>\n",
              "  </div>\n",
              "  "
            ],
            "text/plain": [
              "                  Words          Entity\n",
              "0                Pavlos        I-Person\n",
              "1            Protopapas        I-Person\n",
              "2                    is               O\n",
              "3                   the               O\n",
              "4            Scientific  I-Organization\n",
              "5               Program         I-Grant\n",
              "6              director  B-Organization\n",
              "7                   and               O\n",
              "8                   has               O\n",
              "9                   had               O\n",
              "10                    a               O\n",
              "11                 long               O\n",
              "12                  and               O\n",
              "13        distinguished    B-Fellowship\n",
              "14               career         B-Grant\n",
              "15                   as               O\n",
              "16                    a               O\n",
              "17            scientist         I-Grant\n",
              "18                  and               O\n",
              "19                 data  I-Organization\n",
              "20              science  I-Organization\n",
              "21            educator,        I-Person\n",
              "22                  and               O\n",
              "23            currently               O\n",
              "24              teaches        I-Person\n",
              "25                  the               O\n",
              "26                CS109        I-Person\n",
              "27               course               O\n",
              "28               series               O\n",
              "29                  for               O\n",
              "30                basic  I-Organization\n",
              "31                  and               O\n",
              "32             advanced  I-Organization\n",
              "33                 data  I-Organization\n",
              "34              science  I-Organization\n",
              "35                   at               O\n",
              "36              Harvard  B-Organization\n",
              "37          University,  I-Organization\n",
              "38                   as               O\n",
              "39                 well               O\n",
              "40                   as               O\n",
              "41                  the               O\n",
              "42             capstone        I-Person\n",
              "43               course               O\n",
              "44  (industry-sponsored        I-Person\n",
              "45                 data  I-Organization\n",
              "46              science  I-Organization\n",
              "47            projects)         I-Grant\n",
              "48                  for               O\n",
              "49                  the               O\n",
              "50                 IACS        I-Person\n",
              "51             master’s        I-Person\n",
              "52              program         I-Grant\n",
              "53                   at               O\n",
              "54             Harvard.  B-Organization"
            ]
          },
          "execution_count": 24,
          "metadata": {},
          "output_type": "execute_result"
        }
      ],
      "source": [
        "pred"
      ]
    }
  ],
  "metadata": {
    "accelerator": "GPU",
    "colab": {
      "collapsed_sections": [],
      "name": "NER(Named Entity Recognition).ipynb",
      "provenance": []
    },
    "gpuClass": "standard",
    "kernelspec": {
      "display_name": "Python 3",
      "name": "python3"
    },
    "language_info": {
      "name": "python"
    },
    "widgets": {
      "application/vnd.jupyter.widget-state+json": {
        "02c7dcea343045108d8499cc68b4d852": {
          "model_module": "@jupyter-widgets/controls",
          "model_module_version": "1.5.0",
          "model_name": "DescriptionStyleModel",
          "state": {
            "_model_module": "@jupyter-widgets/controls",
            "_model_module_version": "1.5.0",
            "_model_name": "DescriptionStyleModel",
            "_view_count": null,
            "_view_module": "@jupyter-widgets/base",
            "_view_module_version": "1.2.0",
            "_view_name": "StyleView",
            "description_width": ""
          }
        },
        "0730e981d82843648c18af5b0c6ce507": {
          "model_module": "@jupyter-widgets/base",
          "model_module_version": "1.2.0",
          "model_name": "LayoutModel",
          "state": {
            "_model_module": "@jupyter-widgets/base",
            "_model_module_version": "1.2.0",
            "_model_name": "LayoutModel",
            "_view_count": null,
            "_view_module": "@jupyter-widgets/base",
            "_view_module_version": "1.2.0",
            "_view_name": "LayoutView",
            "align_content": null,
            "align_items": null,
            "align_self": null,
            "border": null,
            "bottom": null,
            "display": null,
            "flex": null,
            "flex_flow": null,
            "grid_area": null,
            "grid_auto_columns": null,
            "grid_auto_flow": null,
            "grid_auto_rows": null,
            "grid_column": null,
            "grid_gap": null,
            "grid_row": null,
            "grid_template_areas": null,
            "grid_template_columns": null,
            "grid_template_rows": null,
            "height": null,
            "justify_content": null,
            "justify_items": null,
            "left": null,
            "margin": null,
            "max_height": null,
            "max_width": null,
            "min_height": null,
            "min_width": null,
            "object_fit": null,
            "object_position": null,
            "order": null,
            "overflow": null,
            "overflow_x": null,
            "overflow_y": null,
            "padding": null,
            "right": null,
            "top": null,
            "visibility": null,
            "width": null
          }
        },
        "080e1f02f2184c17a8431593eb221a30": {
          "model_module": "@jupyter-widgets/base",
          "model_module_version": "1.2.0",
          "model_name": "LayoutModel",
          "state": {
            "_model_module": "@jupyter-widgets/base",
            "_model_module_version": "1.2.0",
            "_model_name": "LayoutModel",
            "_view_count": null,
            "_view_module": "@jupyter-widgets/base",
            "_view_module_version": "1.2.0",
            "_view_name": "LayoutView",
            "align_content": null,
            "align_items": null,
            "align_self": null,
            "border": null,
            "bottom": null,
            "display": null,
            "flex": null,
            "flex_flow": null,
            "grid_area": null,
            "grid_auto_columns": null,
            "grid_auto_flow": null,
            "grid_auto_rows": null,
            "grid_column": null,
            "grid_gap": null,
            "grid_row": null,
            "grid_template_areas": null,
            "grid_template_columns": null,
            "grid_template_rows": null,
            "height": null,
            "justify_content": null,
            "justify_items": null,
            "left": null,
            "margin": null,
            "max_height": null,
            "max_width": null,
            "min_height": null,
            "min_width": null,
            "object_fit": null,
            "object_position": null,
            "order": null,
            "overflow": null,
            "overflow_x": null,
            "overflow_y": null,
            "padding": null,
            "right": null,
            "top": null,
            "visibility": null,
            "width": null
          }
        },
        "114940412a1d478bba7e1b2d4b44f948": {
          "model_module": "@jupyter-widgets/controls",
          "model_module_version": "1.5.0",
          "model_name": "FloatProgressModel",
          "state": {
            "_dom_classes": [],
            "_model_module": "@jupyter-widgets/controls",
            "_model_module_version": "1.5.0",
            "_model_name": "FloatProgressModel",
            "_view_count": null,
            "_view_module": "@jupyter-widgets/controls",
            "_view_module_version": "1.5.0",
            "_view_name": "ProgressView",
            "bar_style": "success",
            "description": "",
            "description_tooltip": null,
            "layout": "IPY_MODEL_cf15c5898fab4a348e1b717273730755",
            "max": 59,
            "min": 0,
            "orientation": "horizontal",
            "style": "IPY_MODEL_8009cd7414244c35b4832f98a380f13b",
            "value": 59
          }
        },
        "190e4dec47d743c6b7e9a511455c2693": {
          "model_module": "@jupyter-widgets/controls",
          "model_module_version": "1.5.0",
          "model_name": "HTMLModel",
          "state": {
            "_dom_classes": [],
            "_model_module": "@jupyter-widgets/controls",
            "_model_module_version": "1.5.0",
            "_model_name": "HTMLModel",
            "_view_count": null,
            "_view_module": "@jupyter-widgets/controls",
            "_view_module_version": "1.5.0",
            "_view_name": "HTMLView",
            "description": "",
            "description_tooltip": null,
            "layout": "IPY_MODEL_b41d2b86338f4ad2acb531be7d3d6770",
            "placeholder": "​",
            "style": "IPY_MODEL_804cbfd1c73c47a3968d9545ed361642",
            "value": "Downloading: 100%"
          }
        },
        "1cd6c1cef6ba466b914568a8a3a8c43a": {
          "model_module": "@jupyter-widgets/controls",
          "model_module_version": "1.5.0",
          "model_name": "DescriptionStyleModel",
          "state": {
            "_model_module": "@jupyter-widgets/controls",
            "_model_module_version": "1.5.0",
            "_model_name": "DescriptionStyleModel",
            "_view_count": null,
            "_view_module": "@jupyter-widgets/base",
            "_view_module_version": "1.2.0",
            "_view_name": "StyleView",
            "description_width": ""
          }
        },
        "260a6653f484400581a02e222342e4ae": {
          "model_module": "@jupyter-widgets/controls",
          "model_module_version": "1.5.0",
          "model_name": "HTMLModel",
          "state": {
            "_dom_classes": [],
            "_model_module": "@jupyter-widgets/controls",
            "_model_module_version": "1.5.0",
            "_model_name": "HTMLModel",
            "_view_count": null,
            "_view_module": "@jupyter-widgets/controls",
            "_view_module_version": "1.5.0",
            "_view_name": "HTMLView",
            "description": "",
            "description_tooltip": null,
            "layout": "IPY_MODEL_4c1b9074b52f4d04ab99b3a67dbce795",
            "placeholder": "​",
            "style": "IPY_MODEL_e4edda9c611e4e7da96d28395cb49eff",
            "value": "Downloading: 100%"
          }
        },
        "2ccc9096cf094488a35370728d512237": {
          "model_module": "@jupyter-widgets/controls",
          "model_module_version": "1.5.0",
          "model_name": "DescriptionStyleModel",
          "state": {
            "_model_module": "@jupyter-widgets/controls",
            "_model_module_version": "1.5.0",
            "_model_name": "DescriptionStyleModel",
            "_view_count": null,
            "_view_module": "@jupyter-widgets/base",
            "_view_module_version": "1.2.0",
            "_view_name": "StyleView",
            "description_width": ""
          }
        },
        "34e1d4ba28824ef5b7ad5f711462ba84": {
          "model_module": "@jupyter-widgets/base",
          "model_module_version": "1.2.0",
          "model_name": "LayoutModel",
          "state": {
            "_model_module": "@jupyter-widgets/base",
            "_model_module_version": "1.2.0",
            "_model_name": "LayoutModel",
            "_view_count": null,
            "_view_module": "@jupyter-widgets/base",
            "_view_module_version": "1.2.0",
            "_view_name": "LayoutView",
            "align_content": null,
            "align_items": null,
            "align_self": null,
            "border": null,
            "bottom": null,
            "display": null,
            "flex": null,
            "flex_flow": null,
            "grid_area": null,
            "grid_auto_columns": null,
            "grid_auto_flow": null,
            "grid_auto_rows": null,
            "grid_column": null,
            "grid_gap": null,
            "grid_row": null,
            "grid_template_areas": null,
            "grid_template_columns": null,
            "grid_template_rows": null,
            "height": null,
            "justify_content": null,
            "justify_items": null,
            "left": null,
            "margin": null,
            "max_height": null,
            "max_width": null,
            "min_height": null,
            "min_width": null,
            "object_fit": null,
            "object_position": null,
            "order": null,
            "overflow": null,
            "overflow_x": null,
            "overflow_y": null,
            "padding": null,
            "right": null,
            "top": null,
            "visibility": null,
            "width": null
          }
        },
        "3764493bd2154816b7c0b1976d125691": {
          "model_module": "@jupyter-widgets/base",
          "model_module_version": "1.2.0",
          "model_name": "LayoutModel",
          "state": {
            "_model_module": "@jupyter-widgets/base",
            "_model_module_version": "1.2.0",
            "_model_name": "LayoutModel",
            "_view_count": null,
            "_view_module": "@jupyter-widgets/base",
            "_view_module_version": "1.2.0",
            "_view_name": "LayoutView",
            "align_content": null,
            "align_items": null,
            "align_self": null,
            "border": null,
            "bottom": null,
            "display": null,
            "flex": null,
            "flex_flow": null,
            "grid_area": null,
            "grid_auto_columns": null,
            "grid_auto_flow": null,
            "grid_auto_rows": null,
            "grid_column": null,
            "grid_gap": null,
            "grid_row": null,
            "grid_template_areas": null,
            "grid_template_columns": null,
            "grid_template_rows": null,
            "height": null,
            "justify_content": null,
            "justify_items": null,
            "left": null,
            "margin": null,
            "max_height": null,
            "max_width": null,
            "min_height": null,
            "min_width": null,
            "object_fit": null,
            "object_position": null,
            "order": null,
            "overflow": null,
            "overflow_x": null,
            "overflow_y": null,
            "padding": null,
            "right": null,
            "top": null,
            "visibility": null,
            "width": null
          }
        },
        "37f57a1aeb284990b441495e3f3ebe82": {
          "model_module": "@jupyter-widgets/controls",
          "model_module_version": "1.5.0",
          "model_name": "DescriptionStyleModel",
          "state": {
            "_model_module": "@jupyter-widgets/controls",
            "_model_module_version": "1.5.0",
            "_model_name": "DescriptionStyleModel",
            "_view_count": null,
            "_view_module": "@jupyter-widgets/base",
            "_view_module_version": "1.2.0",
            "_view_name": "StyleView",
            "description_width": ""
          }
        },
        "38452238f4b74068988bd8d27639b205": {
          "model_module": "@jupyter-widgets/base",
          "model_module_version": "1.2.0",
          "model_name": "LayoutModel",
          "state": {
            "_model_module": "@jupyter-widgets/base",
            "_model_module_version": "1.2.0",
            "_model_name": "LayoutModel",
            "_view_count": null,
            "_view_module": "@jupyter-widgets/base",
            "_view_module_version": "1.2.0",
            "_view_name": "LayoutView",
            "align_content": null,
            "align_items": null,
            "align_self": null,
            "border": null,
            "bottom": null,
            "display": null,
            "flex": null,
            "flex_flow": null,
            "grid_area": null,
            "grid_auto_columns": null,
            "grid_auto_flow": null,
            "grid_auto_rows": null,
            "grid_column": null,
            "grid_gap": null,
            "grid_row": null,
            "grid_template_areas": null,
            "grid_template_columns": null,
            "grid_template_rows": null,
            "height": null,
            "justify_content": null,
            "justify_items": null,
            "left": null,
            "margin": null,
            "max_height": null,
            "max_width": null,
            "min_height": null,
            "min_width": null,
            "object_fit": null,
            "object_position": null,
            "order": null,
            "overflow": null,
            "overflow_x": null,
            "overflow_y": null,
            "padding": null,
            "right": null,
            "top": null,
            "visibility": null,
            "width": null
          }
        },
        "387d040e799a469eb7c434f3213c2093": {
          "model_module": "@jupyter-widgets/controls",
          "model_module_version": "1.5.0",
          "model_name": "HBoxModel",
          "state": {
            "_dom_classes": [],
            "_model_module": "@jupyter-widgets/controls",
            "_model_module_version": "1.5.0",
            "_model_name": "HBoxModel",
            "_view_count": null,
            "_view_module": "@jupyter-widgets/controls",
            "_view_module_version": "1.5.0",
            "_view_name": "HBoxView",
            "box_style": "",
            "children": [
              "IPY_MODEL_260a6653f484400581a02e222342e4ae",
              "IPY_MODEL_75527dfcabbf4f1d80a1e137f4e6e7fa",
              "IPY_MODEL_90b281afa94249389853a19f0e5cbb3d"
            ],
            "layout": "IPY_MODEL_7f3eff1f5dd549b482fcd45fb347244d"
          }
        },
        "3a456e06479a49ceb2bddb10f302dddc": {
          "model_module": "@jupyter-widgets/base",
          "model_module_version": "1.2.0",
          "model_name": "LayoutModel",
          "state": {
            "_model_module": "@jupyter-widgets/base",
            "_model_module_version": "1.2.0",
            "_model_name": "LayoutModel",
            "_view_count": null,
            "_view_module": "@jupyter-widgets/base",
            "_view_module_version": "1.2.0",
            "_view_name": "LayoutView",
            "align_content": null,
            "align_items": null,
            "align_self": null,
            "border": null,
            "bottom": null,
            "display": null,
            "flex": null,
            "flex_flow": null,
            "grid_area": null,
            "grid_auto_columns": null,
            "grid_auto_flow": null,
            "grid_auto_rows": null,
            "grid_column": null,
            "grid_gap": null,
            "grid_row": null,
            "grid_template_areas": null,
            "grid_template_columns": null,
            "grid_template_rows": null,
            "height": null,
            "justify_content": null,
            "justify_items": null,
            "left": null,
            "margin": null,
            "max_height": null,
            "max_width": null,
            "min_height": null,
            "min_width": null,
            "object_fit": null,
            "object_position": null,
            "order": null,
            "overflow": null,
            "overflow_x": null,
            "overflow_y": null,
            "padding": null,
            "right": null,
            "top": null,
            "visibility": null,
            "width": null
          }
        },
        "45e1ff640232414ca9fa9f49850a6d27": {
          "model_module": "@jupyter-widgets/controls",
          "model_module_version": "1.5.0",
          "model_name": "DescriptionStyleModel",
          "state": {
            "_model_module": "@jupyter-widgets/controls",
            "_model_module_version": "1.5.0",
            "_model_name": "DescriptionStyleModel",
            "_view_count": null,
            "_view_module": "@jupyter-widgets/base",
            "_view_module_version": "1.2.0",
            "_view_name": "StyleView",
            "description_width": ""
          }
        },
        "4c1b9074b52f4d04ab99b3a67dbce795": {
          "model_module": "@jupyter-widgets/base",
          "model_module_version": "1.2.0",
          "model_name": "LayoutModel",
          "state": {
            "_model_module": "@jupyter-widgets/base",
            "_model_module_version": "1.2.0",
            "_model_name": "LayoutModel",
            "_view_count": null,
            "_view_module": "@jupyter-widgets/base",
            "_view_module_version": "1.2.0",
            "_view_name": "LayoutView",
            "align_content": null,
            "align_items": null,
            "align_self": null,
            "border": null,
            "bottom": null,
            "display": null,
            "flex": null,
            "flex_flow": null,
            "grid_area": null,
            "grid_auto_columns": null,
            "grid_auto_flow": null,
            "grid_auto_rows": null,
            "grid_column": null,
            "grid_gap": null,
            "grid_row": null,
            "grid_template_areas": null,
            "grid_template_columns": null,
            "grid_template_rows": null,
            "height": null,
            "justify_content": null,
            "justify_items": null,
            "left": null,
            "margin": null,
            "max_height": null,
            "max_width": null,
            "min_height": null,
            "min_width": null,
            "object_fit": null,
            "object_position": null,
            "order": null,
            "overflow": null,
            "overflow_x": null,
            "overflow_y": null,
            "padding": null,
            "right": null,
            "top": null,
            "visibility": null,
            "width": null
          }
        },
        "54425b69319242709c88d0fea97bc1f6": {
          "model_module": "@jupyter-widgets/base",
          "model_module_version": "1.2.0",
          "model_name": "LayoutModel",
          "state": {
            "_model_module": "@jupyter-widgets/base",
            "_model_module_version": "1.2.0",
            "_model_name": "LayoutModel",
            "_view_count": null,
            "_view_module": "@jupyter-widgets/base",
            "_view_module_version": "1.2.0",
            "_view_name": "LayoutView",
            "align_content": null,
            "align_items": null,
            "align_self": null,
            "border": null,
            "bottom": null,
            "display": null,
            "flex": null,
            "flex_flow": null,
            "grid_area": null,
            "grid_auto_columns": null,
            "grid_auto_flow": null,
            "grid_auto_rows": null,
            "grid_column": null,
            "grid_gap": null,
            "grid_row": null,
            "grid_template_areas": null,
            "grid_template_columns": null,
            "grid_template_rows": null,
            "height": null,
            "justify_content": null,
            "justify_items": null,
            "left": null,
            "margin": null,
            "max_height": null,
            "max_width": null,
            "min_height": null,
            "min_width": null,
            "object_fit": null,
            "object_position": null,
            "order": null,
            "overflow": null,
            "overflow_x": null,
            "overflow_y": null,
            "padding": null,
            "right": null,
            "top": null,
            "visibility": null,
            "width": null
          }
        },
        "5d63ee1a05b243528c7383a750f9c5d4": {
          "model_module": "@jupyter-widgets/controls",
          "model_module_version": "1.5.0",
          "model_name": "HTMLModel",
          "state": {
            "_dom_classes": [],
            "_model_module": "@jupyter-widgets/controls",
            "_model_module_version": "1.5.0",
            "_model_name": "HTMLModel",
            "_view_count": null,
            "_view_module": "@jupyter-widgets/controls",
            "_view_module_version": "1.5.0",
            "_view_name": "HTMLView",
            "description": "",
            "description_tooltip": null,
            "layout": "IPY_MODEL_b34edf581b0c4b738eb466b52a77cb0f",
            "placeholder": "​",
            "style": "IPY_MODEL_37f57a1aeb284990b441495e3f3ebe82",
            "value": " 59.0/59.0 [00:00&lt;00:00, 1.57kB/s]"
          }
        },
        "6046d69a93f84013a337b4d974ca7f7a": {
          "model_module": "@jupyter-widgets/controls",
          "model_module_version": "1.5.0",
          "model_name": "HTMLModel",
          "state": {
            "_dom_classes": [],
            "_model_module": "@jupyter-widgets/controls",
            "_model_module_version": "1.5.0",
            "_model_name": "HTMLModel",
            "_view_count": null,
            "_view_module": "@jupyter-widgets/controls",
            "_view_module_version": "1.5.0",
            "_view_name": "HTMLView",
            "description": "",
            "description_tooltip": null,
            "layout": "IPY_MODEL_54425b69319242709c88d0fea97bc1f6",
            "placeholder": "​",
            "style": "IPY_MODEL_1cd6c1cef6ba466b914568a8a3a8c43a",
            "value": " 208k/208k [00:00&lt;00:00, 205kB/s]"
          }
        },
        "639f73f6840d4233bfa5a7691ccc041e": {
          "model_module": "@jupyter-widgets/controls",
          "model_module_version": "1.5.0",
          "model_name": "FloatProgressModel",
          "state": {
            "_dom_classes": [],
            "_model_module": "@jupyter-widgets/controls",
            "_model_module_version": "1.5.0",
            "_model_name": "FloatProgressModel",
            "_view_count": null,
            "_view_module": "@jupyter-widgets/controls",
            "_view_module_version": "1.5.0",
            "_view_name": "ProgressView",
            "bar_style": "success",
            "description": "",
            "description_tooltip": null,
            "layout": "IPY_MODEL_78565695b00347d19504a6770b8d8163",
            "max": 829,
            "min": 0,
            "orientation": "horizontal",
            "style": "IPY_MODEL_913303e8237a48349f34e1a5e0dfc031",
            "value": 829
          }
        },
        "66b7fc7188174e368e5eddb36cc29b83": {
          "model_module": "@jupyter-widgets/controls",
          "model_module_version": "1.5.0",
          "model_name": "HTMLModel",
          "state": {
            "_dom_classes": [],
            "_model_module": "@jupyter-widgets/controls",
            "_model_module_version": "1.5.0",
            "_model_name": "HTMLModel",
            "_view_count": null,
            "_view_module": "@jupyter-widgets/controls",
            "_view_module_version": "1.5.0",
            "_view_name": "HTMLView",
            "description": "",
            "description_tooltip": null,
            "layout": "IPY_MODEL_d4d8922fcb9a48ba871e2487a5cc8c33",
            "placeholder": "​",
            "style": "IPY_MODEL_c48758fc53e94f74ac80eb78a1a5402c",
            "value": "Downloading: 100%"
          }
        },
        "6d26aaf312854857b17aa6fc0a1e2e9e": {
          "model_module": "@jupyter-widgets/base",
          "model_module_version": "1.2.0",
          "model_name": "LayoutModel",
          "state": {
            "_model_module": "@jupyter-widgets/base",
            "_model_module_version": "1.2.0",
            "_model_name": "LayoutModel",
            "_view_count": null,
            "_view_module": "@jupyter-widgets/base",
            "_view_module_version": "1.2.0",
            "_view_name": "LayoutView",
            "align_content": null,
            "align_items": null,
            "align_self": null,
            "border": null,
            "bottom": null,
            "display": null,
            "flex": null,
            "flex_flow": null,
            "grid_area": null,
            "grid_auto_columns": null,
            "grid_auto_flow": null,
            "grid_auto_rows": null,
            "grid_column": null,
            "grid_gap": null,
            "grid_row": null,
            "grid_template_areas": null,
            "grid_template_columns": null,
            "grid_template_rows": null,
            "height": null,
            "justify_content": null,
            "justify_items": null,
            "left": null,
            "margin": null,
            "max_height": null,
            "max_width": null,
            "min_height": null,
            "min_width": null,
            "object_fit": null,
            "object_position": null,
            "order": null,
            "overflow": null,
            "overflow_x": null,
            "overflow_y": null,
            "padding": null,
            "right": null,
            "top": null,
            "visibility": null,
            "width": null
          }
        },
        "6d5b27e9cda94b78a3e0bf8fec305940": {
          "model_module": "@jupyter-widgets/base",
          "model_module_version": "1.2.0",
          "model_name": "LayoutModel",
          "state": {
            "_model_module": "@jupyter-widgets/base",
            "_model_module_version": "1.2.0",
            "_model_name": "LayoutModel",
            "_view_count": null,
            "_view_module": "@jupyter-widgets/base",
            "_view_module_version": "1.2.0",
            "_view_name": "LayoutView",
            "align_content": null,
            "align_items": null,
            "align_self": null,
            "border": null,
            "bottom": null,
            "display": null,
            "flex": null,
            "flex_flow": null,
            "grid_area": null,
            "grid_auto_columns": null,
            "grid_auto_flow": null,
            "grid_auto_rows": null,
            "grid_column": null,
            "grid_gap": null,
            "grid_row": null,
            "grid_template_areas": null,
            "grid_template_columns": null,
            "grid_template_rows": null,
            "height": null,
            "justify_content": null,
            "justify_items": null,
            "left": null,
            "margin": null,
            "max_height": null,
            "max_width": null,
            "min_height": null,
            "min_width": null,
            "object_fit": null,
            "object_position": null,
            "order": null,
            "overflow": null,
            "overflow_x": null,
            "overflow_y": null,
            "padding": null,
            "right": null,
            "top": null,
            "visibility": null,
            "width": null
          }
        },
        "713babd196b14bd69155b2253e8a7efa": {
          "model_module": "@jupyter-widgets/base",
          "model_module_version": "1.2.0",
          "model_name": "LayoutModel",
          "state": {
            "_model_module": "@jupyter-widgets/base",
            "_model_module_version": "1.2.0",
            "_model_name": "LayoutModel",
            "_view_count": null,
            "_view_module": "@jupyter-widgets/base",
            "_view_module_version": "1.2.0",
            "_view_name": "LayoutView",
            "align_content": null,
            "align_items": null,
            "align_self": null,
            "border": null,
            "bottom": null,
            "display": null,
            "flex": null,
            "flex_flow": null,
            "grid_area": null,
            "grid_auto_columns": null,
            "grid_auto_flow": null,
            "grid_auto_rows": null,
            "grid_column": null,
            "grid_gap": null,
            "grid_row": null,
            "grid_template_areas": null,
            "grid_template_columns": null,
            "grid_template_rows": null,
            "height": null,
            "justify_content": null,
            "justify_items": null,
            "left": null,
            "margin": null,
            "max_height": null,
            "max_width": null,
            "min_height": null,
            "min_width": null,
            "object_fit": null,
            "object_position": null,
            "order": null,
            "overflow": null,
            "overflow_x": null,
            "overflow_y": null,
            "padding": null,
            "right": null,
            "top": null,
            "visibility": null,
            "width": null
          }
        },
        "7349646f2080428cad76b0285db5217d": {
          "model_module": "@jupyter-widgets/controls",
          "model_module_version": "1.5.0",
          "model_name": "ProgressStyleModel",
          "state": {
            "_model_module": "@jupyter-widgets/controls",
            "_model_module_version": "1.5.0",
            "_model_name": "ProgressStyleModel",
            "_view_count": null,
            "_view_module": "@jupyter-widgets/base",
            "_view_module_version": "1.2.0",
            "_view_name": "StyleView",
            "bar_color": null,
            "description_width": ""
          }
        },
        "7361fa1298cb4441a8866515f0ede144": {
          "model_module": "@jupyter-widgets/controls",
          "model_module_version": "1.5.0",
          "model_name": "FloatProgressModel",
          "state": {
            "_dom_classes": [],
            "_model_module": "@jupyter-widgets/controls",
            "_model_module_version": "1.5.0",
            "_model_name": "FloatProgressModel",
            "_view_count": null,
            "_view_module": "@jupyter-widgets/controls",
            "_view_module_version": "1.5.0",
            "_view_name": "ProgressView",
            "bar_style": "success",
            "description": "",
            "description_tooltip": null,
            "layout": "IPY_MODEL_d9e93b3b6b1a4dc9b98238436a4ff8c4",
            "max": 433538860,
            "min": 0,
            "orientation": "horizontal",
            "style": "IPY_MODEL_b3cdb4638636405dbd13f529ed3ec091",
            "value": 433538860
          }
        },
        "75527dfcabbf4f1d80a1e137f4e6e7fa": {
          "model_module": "@jupyter-widgets/controls",
          "model_module_version": "1.5.0",
          "model_name": "FloatProgressModel",
          "state": {
            "_dom_classes": [],
            "_model_module": "@jupyter-widgets/controls",
            "_model_module_version": "1.5.0",
            "_model_name": "FloatProgressModel",
            "_view_count": null,
            "_view_module": "@jupyter-widgets/controls",
            "_view_module_version": "1.5.0",
            "_view_name": "ProgressView",
            "bar_style": "success",
            "description": "",
            "description_tooltip": null,
            "layout": "IPY_MODEL_080e1f02f2184c17a8431593eb221a30",
            "max": 2,
            "min": 0,
            "orientation": "horizontal",
            "style": "IPY_MODEL_7894679c258e4f1799694d56ae5a91d0",
            "value": 2
          }
        },
        "78565695b00347d19504a6770b8d8163": {
          "model_module": "@jupyter-widgets/base",
          "model_module_version": "1.2.0",
          "model_name": "LayoutModel",
          "state": {
            "_model_module": "@jupyter-widgets/base",
            "_model_module_version": "1.2.0",
            "_model_name": "LayoutModel",
            "_view_count": null,
            "_view_module": "@jupyter-widgets/base",
            "_view_module_version": "1.2.0",
            "_view_name": "LayoutView",
            "align_content": null,
            "align_items": null,
            "align_self": null,
            "border": null,
            "bottom": null,
            "display": null,
            "flex": null,
            "flex_flow": null,
            "grid_area": null,
            "grid_auto_columns": null,
            "grid_auto_flow": null,
            "grid_auto_rows": null,
            "grid_column": null,
            "grid_gap": null,
            "grid_row": null,
            "grid_template_areas": null,
            "grid_template_columns": null,
            "grid_template_rows": null,
            "height": null,
            "justify_content": null,
            "justify_items": null,
            "left": null,
            "margin": null,
            "max_height": null,
            "max_width": null,
            "min_height": null,
            "min_width": null,
            "object_fit": null,
            "object_position": null,
            "order": null,
            "overflow": null,
            "overflow_x": null,
            "overflow_y": null,
            "padding": null,
            "right": null,
            "top": null,
            "visibility": null,
            "width": null
          }
        },
        "7894679c258e4f1799694d56ae5a91d0": {
          "model_module": "@jupyter-widgets/controls",
          "model_module_version": "1.5.0",
          "model_name": "ProgressStyleModel",
          "state": {
            "_model_module": "@jupyter-widgets/controls",
            "_model_module_version": "1.5.0",
            "_model_name": "ProgressStyleModel",
            "_view_count": null,
            "_view_module": "@jupyter-widgets/base",
            "_view_module_version": "1.2.0",
            "_view_name": "StyleView",
            "bar_color": null,
            "description_width": ""
          }
        },
        "7f3eff1f5dd549b482fcd45fb347244d": {
          "model_module": "@jupyter-widgets/base",
          "model_module_version": "1.2.0",
          "model_name": "LayoutModel",
          "state": {
            "_model_module": "@jupyter-widgets/base",
            "_model_module_version": "1.2.0",
            "_model_name": "LayoutModel",
            "_view_count": null,
            "_view_module": "@jupyter-widgets/base",
            "_view_module_version": "1.2.0",
            "_view_name": "LayoutView",
            "align_content": null,
            "align_items": null,
            "align_self": null,
            "border": null,
            "bottom": null,
            "display": null,
            "flex": null,
            "flex_flow": null,
            "grid_area": null,
            "grid_auto_columns": null,
            "grid_auto_flow": null,
            "grid_auto_rows": null,
            "grid_column": null,
            "grid_gap": null,
            "grid_row": null,
            "grid_template_areas": null,
            "grid_template_columns": null,
            "grid_template_rows": null,
            "height": null,
            "justify_content": null,
            "justify_items": null,
            "left": null,
            "margin": null,
            "max_height": null,
            "max_width": null,
            "min_height": null,
            "min_width": null,
            "object_fit": null,
            "object_position": null,
            "order": null,
            "overflow": null,
            "overflow_x": null,
            "overflow_y": null,
            "padding": null,
            "right": null,
            "top": null,
            "visibility": null,
            "width": null
          }
        },
        "8009cd7414244c35b4832f98a380f13b": {
          "model_module": "@jupyter-widgets/controls",
          "model_module_version": "1.5.0",
          "model_name": "ProgressStyleModel",
          "state": {
            "_model_module": "@jupyter-widgets/controls",
            "_model_module_version": "1.5.0",
            "_model_name": "ProgressStyleModel",
            "_view_count": null,
            "_view_module": "@jupyter-widgets/base",
            "_view_module_version": "1.2.0",
            "_view_name": "StyleView",
            "bar_color": null,
            "description_width": ""
          }
        },
        "804cbfd1c73c47a3968d9545ed361642": {
          "model_module": "@jupyter-widgets/controls",
          "model_module_version": "1.5.0",
          "model_name": "DescriptionStyleModel",
          "state": {
            "_model_module": "@jupyter-widgets/controls",
            "_model_module_version": "1.5.0",
            "_model_name": "DescriptionStyleModel",
            "_view_count": null,
            "_view_module": "@jupyter-widgets/base",
            "_view_module_version": "1.2.0",
            "_view_name": "StyleView",
            "description_width": ""
          }
        },
        "90b281afa94249389853a19f0e5cbb3d": {
          "model_module": "@jupyter-widgets/controls",
          "model_module_version": "1.5.0",
          "model_name": "HTMLModel",
          "state": {
            "_dom_classes": [],
            "_model_module": "@jupyter-widgets/controls",
            "_model_module_version": "1.5.0",
            "_model_name": "HTMLModel",
            "_view_count": null,
            "_view_module": "@jupyter-widgets/controls",
            "_view_module_version": "1.5.0",
            "_view_name": "HTMLView",
            "description": "",
            "description_tooltip": null,
            "layout": "IPY_MODEL_e1470eb7818c4d8b966c9e2bcbd378f7",
            "placeholder": "​",
            "style": "IPY_MODEL_02c7dcea343045108d8499cc68b4d852",
            "value": " 2.00/2.00 [00:00&lt;00:00, 17.0B/s]"
          }
        },
        "913303e8237a48349f34e1a5e0dfc031": {
          "model_module": "@jupyter-widgets/controls",
          "model_module_version": "1.5.0",
          "model_name": "ProgressStyleModel",
          "state": {
            "_model_module": "@jupyter-widgets/controls",
            "_model_module_version": "1.5.0",
            "_model_name": "ProgressStyleModel",
            "_view_count": null,
            "_view_module": "@jupyter-widgets/base",
            "_view_module_version": "1.2.0",
            "_view_name": "StyleView",
            "bar_color": null,
            "description_width": ""
          }
        },
        "9d12b448a31c4e5da22619849952aa82": {
          "model_module": "@jupyter-widgets/controls",
          "model_module_version": "1.5.0",
          "model_name": "HBoxModel",
          "state": {
            "_dom_classes": [],
            "_model_module": "@jupyter-widgets/controls",
            "_model_module_version": "1.5.0",
            "_model_name": "HBoxModel",
            "_view_count": null,
            "_view_module": "@jupyter-widgets/controls",
            "_view_module_version": "1.5.0",
            "_view_name": "HBoxView",
            "box_style": "",
            "children": [
              "IPY_MODEL_a5e9dea47e544104b9776619611cab86",
              "IPY_MODEL_639f73f6840d4233bfa5a7691ccc041e",
              "IPY_MODEL_d9bcf168565c488386c66b77459bd82e"
            ],
            "layout": "IPY_MODEL_b503407b84774a04b322eb4b271b515b"
          }
        },
        "a5e9dea47e544104b9776619611cab86": {
          "model_module": "@jupyter-widgets/controls",
          "model_module_version": "1.5.0",
          "model_name": "HTMLModel",
          "state": {
            "_dom_classes": [],
            "_model_module": "@jupyter-widgets/controls",
            "_model_module_version": "1.5.0",
            "_model_name": "HTMLModel",
            "_view_count": null,
            "_view_module": "@jupyter-widgets/controls",
            "_view_module_version": "1.5.0",
            "_view_name": "HTMLView",
            "description": "",
            "description_tooltip": null,
            "layout": "IPY_MODEL_e28eb824074d4ae7b2ff86d544627746",
            "placeholder": "​",
            "style": "IPY_MODEL_b0f762828d3d4530a79ac19b153e8b46",
            "value": "Downloading: 100%"
          }
        },
        "a8eaa6dc736945568faaec4f0640a2ac": {
          "model_module": "@jupyter-widgets/controls",
          "model_module_version": "1.5.0",
          "model_name": "HTMLModel",
          "state": {
            "_dom_classes": [],
            "_model_module": "@jupyter-widgets/controls",
            "_model_module_version": "1.5.0",
            "_model_name": "HTMLModel",
            "_view_count": null,
            "_view_module": "@jupyter-widgets/controls",
            "_view_module_version": "1.5.0",
            "_view_name": "HTMLView",
            "description": "",
            "description_tooltip": null,
            "layout": "IPY_MODEL_38452238f4b74068988bd8d27639b205",
            "placeholder": "​",
            "style": "IPY_MODEL_dc9411a886374fe5b82996f6326228da",
            "value": " 413M/413M [00:29&lt;00:00, 16.8MB/s]"
          }
        },
        "ab92fd9dad2c4ecfb6ea06530185099a": {
          "model_module": "@jupyter-widgets/base",
          "model_module_version": "1.2.0",
          "model_name": "LayoutModel",
          "state": {
            "_model_module": "@jupyter-widgets/base",
            "_model_module_version": "1.2.0",
            "_model_name": "LayoutModel",
            "_view_count": null,
            "_view_module": "@jupyter-widgets/base",
            "_view_module_version": "1.2.0",
            "_view_name": "LayoutView",
            "align_content": null,
            "align_items": null,
            "align_self": null,
            "border": null,
            "bottom": null,
            "display": null,
            "flex": null,
            "flex_flow": null,
            "grid_area": null,
            "grid_auto_columns": null,
            "grid_auto_flow": null,
            "grid_auto_rows": null,
            "grid_column": null,
            "grid_gap": null,
            "grid_row": null,
            "grid_template_areas": null,
            "grid_template_columns": null,
            "grid_template_rows": null,
            "height": null,
            "justify_content": null,
            "justify_items": null,
            "left": null,
            "margin": null,
            "max_height": null,
            "max_width": null,
            "min_height": null,
            "min_width": null,
            "object_fit": null,
            "object_position": null,
            "order": null,
            "overflow": null,
            "overflow_x": null,
            "overflow_y": null,
            "padding": null,
            "right": null,
            "top": null,
            "visibility": null,
            "width": null
          }
        },
        "ad930f3cf3824622ac9b0611ef6e88e9": {
          "model_module": "@jupyter-widgets/controls",
          "model_module_version": "1.5.0",
          "model_name": "DescriptionStyleModel",
          "state": {
            "_model_module": "@jupyter-widgets/controls",
            "_model_module_version": "1.5.0",
            "_model_name": "DescriptionStyleModel",
            "_view_count": null,
            "_view_module": "@jupyter-widgets/base",
            "_view_module_version": "1.2.0",
            "_view_name": "StyleView",
            "description_width": ""
          }
        },
        "b06a9bc993534846bf9a2960c6e706c5": {
          "model_module": "@jupyter-widgets/controls",
          "model_module_version": "1.5.0",
          "model_name": "HTMLModel",
          "state": {
            "_dom_classes": [],
            "_model_module": "@jupyter-widgets/controls",
            "_model_module_version": "1.5.0",
            "_model_name": "HTMLModel",
            "_view_count": null,
            "_view_module": "@jupyter-widgets/controls",
            "_view_module_version": "1.5.0",
            "_view_name": "HTMLView",
            "description": "",
            "description_tooltip": null,
            "layout": "IPY_MODEL_34e1d4ba28824ef5b7ad5f711462ba84",
            "placeholder": "​",
            "style": "IPY_MODEL_2ccc9096cf094488a35370728d512237",
            "value": "Downloading: 100%"
          }
        },
        "b0f762828d3d4530a79ac19b153e8b46": {
          "model_module": "@jupyter-widgets/controls",
          "model_module_version": "1.5.0",
          "model_name": "DescriptionStyleModel",
          "state": {
            "_model_module": "@jupyter-widgets/controls",
            "_model_module_version": "1.5.0",
            "_model_name": "DescriptionStyleModel",
            "_view_count": null,
            "_view_module": "@jupyter-widgets/base",
            "_view_module_version": "1.2.0",
            "_view_name": "StyleView",
            "description_width": ""
          }
        },
        "b34edf581b0c4b738eb466b52a77cb0f": {
          "model_module": "@jupyter-widgets/base",
          "model_module_version": "1.2.0",
          "model_name": "LayoutModel",
          "state": {
            "_model_module": "@jupyter-widgets/base",
            "_model_module_version": "1.2.0",
            "_model_name": "LayoutModel",
            "_view_count": null,
            "_view_module": "@jupyter-widgets/base",
            "_view_module_version": "1.2.0",
            "_view_name": "LayoutView",
            "align_content": null,
            "align_items": null,
            "align_self": null,
            "border": null,
            "bottom": null,
            "display": null,
            "flex": null,
            "flex_flow": null,
            "grid_area": null,
            "grid_auto_columns": null,
            "grid_auto_flow": null,
            "grid_auto_rows": null,
            "grid_column": null,
            "grid_gap": null,
            "grid_row": null,
            "grid_template_areas": null,
            "grid_template_columns": null,
            "grid_template_rows": null,
            "height": null,
            "justify_content": null,
            "justify_items": null,
            "left": null,
            "margin": null,
            "max_height": null,
            "max_width": null,
            "min_height": null,
            "min_width": null,
            "object_fit": null,
            "object_position": null,
            "order": null,
            "overflow": null,
            "overflow_x": null,
            "overflow_y": null,
            "padding": null,
            "right": null,
            "top": null,
            "visibility": null,
            "width": null
          }
        },
        "b3cdb4638636405dbd13f529ed3ec091": {
          "model_module": "@jupyter-widgets/controls",
          "model_module_version": "1.5.0",
          "model_name": "ProgressStyleModel",
          "state": {
            "_model_module": "@jupyter-widgets/controls",
            "_model_module_version": "1.5.0",
            "_model_name": "ProgressStyleModel",
            "_view_count": null,
            "_view_module": "@jupyter-widgets/base",
            "_view_module_version": "1.2.0",
            "_view_name": "StyleView",
            "bar_color": null,
            "description_width": ""
          }
        },
        "b41d2b86338f4ad2acb531be7d3d6770": {
          "model_module": "@jupyter-widgets/base",
          "model_module_version": "1.2.0",
          "model_name": "LayoutModel",
          "state": {
            "_model_module": "@jupyter-widgets/base",
            "_model_module_version": "1.2.0",
            "_model_name": "LayoutModel",
            "_view_count": null,
            "_view_module": "@jupyter-widgets/base",
            "_view_module_version": "1.2.0",
            "_view_name": "LayoutView",
            "align_content": null,
            "align_items": null,
            "align_self": null,
            "border": null,
            "bottom": null,
            "display": null,
            "flex": null,
            "flex_flow": null,
            "grid_area": null,
            "grid_auto_columns": null,
            "grid_auto_flow": null,
            "grid_auto_rows": null,
            "grid_column": null,
            "grid_gap": null,
            "grid_row": null,
            "grid_template_areas": null,
            "grid_template_columns": null,
            "grid_template_rows": null,
            "height": null,
            "justify_content": null,
            "justify_items": null,
            "left": null,
            "margin": null,
            "max_height": null,
            "max_width": null,
            "min_height": null,
            "min_width": null,
            "object_fit": null,
            "object_position": null,
            "order": null,
            "overflow": null,
            "overflow_x": null,
            "overflow_y": null,
            "padding": null,
            "right": null,
            "top": null,
            "visibility": null,
            "width": null
          }
        },
        "b4e8fda643ae4ba186ec7c4130a21285": {
          "model_module": "@jupyter-widgets/base",
          "model_module_version": "1.2.0",
          "model_name": "LayoutModel",
          "state": {
            "_model_module": "@jupyter-widgets/base",
            "_model_module_version": "1.2.0",
            "_model_name": "LayoutModel",
            "_view_count": null,
            "_view_module": "@jupyter-widgets/base",
            "_view_module_version": "1.2.0",
            "_view_name": "LayoutView",
            "align_content": null,
            "align_items": null,
            "align_self": null,
            "border": null,
            "bottom": null,
            "display": null,
            "flex": null,
            "flex_flow": null,
            "grid_area": null,
            "grid_auto_columns": null,
            "grid_auto_flow": null,
            "grid_auto_rows": null,
            "grid_column": null,
            "grid_gap": null,
            "grid_row": null,
            "grid_template_areas": null,
            "grid_template_columns": null,
            "grid_template_rows": null,
            "height": null,
            "justify_content": null,
            "justify_items": null,
            "left": null,
            "margin": null,
            "max_height": null,
            "max_width": null,
            "min_height": null,
            "min_width": null,
            "object_fit": null,
            "object_position": null,
            "order": null,
            "overflow": null,
            "overflow_x": null,
            "overflow_y": null,
            "padding": null,
            "right": null,
            "top": null,
            "visibility": null,
            "width": null
          }
        },
        "b503407b84774a04b322eb4b271b515b": {
          "model_module": "@jupyter-widgets/base",
          "model_module_version": "1.2.0",
          "model_name": "LayoutModel",
          "state": {
            "_model_module": "@jupyter-widgets/base",
            "_model_module_version": "1.2.0",
            "_model_name": "LayoutModel",
            "_view_count": null,
            "_view_module": "@jupyter-widgets/base",
            "_view_module_version": "1.2.0",
            "_view_name": "LayoutView",
            "align_content": null,
            "align_items": null,
            "align_self": null,
            "border": null,
            "bottom": null,
            "display": null,
            "flex": null,
            "flex_flow": null,
            "grid_area": null,
            "grid_auto_columns": null,
            "grid_auto_flow": null,
            "grid_auto_rows": null,
            "grid_column": null,
            "grid_gap": null,
            "grid_row": null,
            "grid_template_areas": null,
            "grid_template_columns": null,
            "grid_template_rows": null,
            "height": null,
            "justify_content": null,
            "justify_items": null,
            "left": null,
            "margin": null,
            "max_height": null,
            "max_width": null,
            "min_height": null,
            "min_width": null,
            "object_fit": null,
            "object_position": null,
            "order": null,
            "overflow": null,
            "overflow_x": null,
            "overflow_y": null,
            "padding": null,
            "right": null,
            "top": null,
            "visibility": null,
            "width": null
          }
        },
        "b7cbaf1b37164b048cd3d2910237ff73": {
          "model_module": "@jupyter-widgets/controls",
          "model_module_version": "1.5.0",
          "model_name": "HBoxModel",
          "state": {
            "_dom_classes": [],
            "_model_module": "@jupyter-widgets/controls",
            "_model_module_version": "1.5.0",
            "_model_name": "HBoxModel",
            "_view_count": null,
            "_view_module": "@jupyter-widgets/controls",
            "_view_module_version": "1.5.0",
            "_view_name": "HBoxView",
            "box_style": "",
            "children": [
              "IPY_MODEL_66b7fc7188174e368e5eddb36cc29b83",
              "IPY_MODEL_fb223c378353454d88aa5e994d60715c",
              "IPY_MODEL_ee130360f6b84d6eb9d059e1903666af"
            ],
            "layout": "IPY_MODEL_3a456e06479a49ceb2bddb10f302dddc"
          }
        },
        "c29d42e173e9455e85be1d6bd770b11f": {
          "model_module": "@jupyter-widgets/controls",
          "model_module_version": "1.5.0",
          "model_name": "HTMLModel",
          "state": {
            "_dom_classes": [],
            "_model_module": "@jupyter-widgets/controls",
            "_model_module_version": "1.5.0",
            "_model_name": "HTMLModel",
            "_view_count": null,
            "_view_module": "@jupyter-widgets/controls",
            "_view_module_version": "1.5.0",
            "_view_name": "HTMLView",
            "description": "",
            "description_tooltip": null,
            "layout": "IPY_MODEL_713babd196b14bd69155b2253e8a7efa",
            "placeholder": "​",
            "style": "IPY_MODEL_45e1ff640232414ca9fa9f49850a6d27",
            "value": "Downloading: 100%"
          }
        },
        "c48758fc53e94f74ac80eb78a1a5402c": {
          "model_module": "@jupyter-widgets/controls",
          "model_module_version": "1.5.0",
          "model_name": "DescriptionStyleModel",
          "state": {
            "_model_module": "@jupyter-widgets/controls",
            "_model_module_version": "1.5.0",
            "_model_name": "DescriptionStyleModel",
            "_view_count": null,
            "_view_module": "@jupyter-widgets/base",
            "_view_module_version": "1.2.0",
            "_view_name": "StyleView",
            "description_width": ""
          }
        },
        "c6845dd4177f4a96a97ad8c150e35882": {
          "model_module": "@jupyter-widgets/controls",
          "model_module_version": "1.5.0",
          "model_name": "HBoxModel",
          "state": {
            "_dom_classes": [],
            "_model_module": "@jupyter-widgets/controls",
            "_model_module_version": "1.5.0",
            "_model_name": "HBoxModel",
            "_view_count": null,
            "_view_module": "@jupyter-widgets/controls",
            "_view_module_version": "1.5.0",
            "_view_name": "HBoxView",
            "box_style": "",
            "children": [
              "IPY_MODEL_c29d42e173e9455e85be1d6bd770b11f",
              "IPY_MODEL_7361fa1298cb4441a8866515f0ede144",
              "IPY_MODEL_a8eaa6dc736945568faaec4f0640a2ac"
            ],
            "layout": "IPY_MODEL_d89017ab96914c43b9e339a87837edeb"
          }
        },
        "c880874692dc44c6a291b1ecba003c51": {
          "model_module": "@jupyter-widgets/controls",
          "model_module_version": "1.5.0",
          "model_name": "ProgressStyleModel",
          "state": {
            "_model_module": "@jupyter-widgets/controls",
            "_model_module_version": "1.5.0",
            "_model_name": "ProgressStyleModel",
            "_view_count": null,
            "_view_module": "@jupyter-widgets/base",
            "_view_module_version": "1.2.0",
            "_view_name": "StyleView",
            "bar_color": null,
            "description_width": ""
          }
        },
        "cf15c5898fab4a348e1b717273730755": {
          "model_module": "@jupyter-widgets/base",
          "model_module_version": "1.2.0",
          "model_name": "LayoutModel",
          "state": {
            "_model_module": "@jupyter-widgets/base",
            "_model_module_version": "1.2.0",
            "_model_name": "LayoutModel",
            "_view_count": null,
            "_view_module": "@jupyter-widgets/base",
            "_view_module_version": "1.2.0",
            "_view_name": "LayoutView",
            "align_content": null,
            "align_items": null,
            "align_self": null,
            "border": null,
            "bottom": null,
            "display": null,
            "flex": null,
            "flex_flow": null,
            "grid_area": null,
            "grid_auto_columns": null,
            "grid_auto_flow": null,
            "grid_auto_rows": null,
            "grid_column": null,
            "grid_gap": null,
            "grid_row": null,
            "grid_template_areas": null,
            "grid_template_columns": null,
            "grid_template_rows": null,
            "height": null,
            "justify_content": null,
            "justify_items": null,
            "left": null,
            "margin": null,
            "max_height": null,
            "max_width": null,
            "min_height": null,
            "min_width": null,
            "object_fit": null,
            "object_position": null,
            "order": null,
            "overflow": null,
            "overflow_x": null,
            "overflow_y": null,
            "padding": null,
            "right": null,
            "top": null,
            "visibility": null,
            "width": null
          }
        },
        "d4d8922fcb9a48ba871e2487a5cc8c33": {
          "model_module": "@jupyter-widgets/base",
          "model_module_version": "1.2.0",
          "model_name": "LayoutModel",
          "state": {
            "_model_module": "@jupyter-widgets/base",
            "_model_module_version": "1.2.0",
            "_model_name": "LayoutModel",
            "_view_count": null,
            "_view_module": "@jupyter-widgets/base",
            "_view_module_version": "1.2.0",
            "_view_name": "LayoutView",
            "align_content": null,
            "align_items": null,
            "align_self": null,
            "border": null,
            "bottom": null,
            "display": null,
            "flex": null,
            "flex_flow": null,
            "grid_area": null,
            "grid_auto_columns": null,
            "grid_auto_flow": null,
            "grid_auto_rows": null,
            "grid_column": null,
            "grid_gap": null,
            "grid_row": null,
            "grid_template_areas": null,
            "grid_template_columns": null,
            "grid_template_rows": null,
            "height": null,
            "justify_content": null,
            "justify_items": null,
            "left": null,
            "margin": null,
            "max_height": null,
            "max_width": null,
            "min_height": null,
            "min_width": null,
            "object_fit": null,
            "object_position": null,
            "order": null,
            "overflow": null,
            "overflow_x": null,
            "overflow_y": null,
            "padding": null,
            "right": null,
            "top": null,
            "visibility": null,
            "width": null
          }
        },
        "d5eb46e702d34878b8e69adb7437661b": {
          "model_module": "@jupyter-widgets/controls",
          "model_module_version": "1.5.0",
          "model_name": "DescriptionStyleModel",
          "state": {
            "_model_module": "@jupyter-widgets/controls",
            "_model_module_version": "1.5.0",
            "_model_name": "DescriptionStyleModel",
            "_view_count": null,
            "_view_module": "@jupyter-widgets/base",
            "_view_module_version": "1.2.0",
            "_view_name": "StyleView",
            "description_width": ""
          }
        },
        "d89017ab96914c43b9e339a87837edeb": {
          "model_module": "@jupyter-widgets/base",
          "model_module_version": "1.2.0",
          "model_name": "LayoutModel",
          "state": {
            "_model_module": "@jupyter-widgets/base",
            "_model_module_version": "1.2.0",
            "_model_name": "LayoutModel",
            "_view_count": null,
            "_view_module": "@jupyter-widgets/base",
            "_view_module_version": "1.2.0",
            "_view_name": "LayoutView",
            "align_content": null,
            "align_items": null,
            "align_self": null,
            "border": null,
            "bottom": null,
            "display": null,
            "flex": null,
            "flex_flow": null,
            "grid_area": null,
            "grid_auto_columns": null,
            "grid_auto_flow": null,
            "grid_auto_rows": null,
            "grid_column": null,
            "grid_gap": null,
            "grid_row": null,
            "grid_template_areas": null,
            "grid_template_columns": null,
            "grid_template_rows": null,
            "height": null,
            "justify_content": null,
            "justify_items": null,
            "left": null,
            "margin": null,
            "max_height": null,
            "max_width": null,
            "min_height": null,
            "min_width": null,
            "object_fit": null,
            "object_position": null,
            "order": null,
            "overflow": null,
            "overflow_x": null,
            "overflow_y": null,
            "padding": null,
            "right": null,
            "top": null,
            "visibility": null,
            "width": null
          }
        },
        "d9bcf168565c488386c66b77459bd82e": {
          "model_module": "@jupyter-widgets/controls",
          "model_module_version": "1.5.0",
          "model_name": "HTMLModel",
          "state": {
            "_dom_classes": [],
            "_model_module": "@jupyter-widgets/controls",
            "_model_module_version": "1.5.0",
            "_model_name": "HTMLModel",
            "_view_count": null,
            "_view_module": "@jupyter-widgets/controls",
            "_view_module_version": "1.5.0",
            "_view_name": "HTMLView",
            "description": "",
            "description_tooltip": null,
            "layout": "IPY_MODEL_b4e8fda643ae4ba186ec7c4130a21285",
            "placeholder": "​",
            "style": "IPY_MODEL_ad930f3cf3824622ac9b0611ef6e88e9",
            "value": " 829/829 [00:00&lt;00:00, 27.4kB/s]"
          }
        },
        "d9e93b3b6b1a4dc9b98238436a4ff8c4": {
          "model_module": "@jupyter-widgets/base",
          "model_module_version": "1.2.0",
          "model_name": "LayoutModel",
          "state": {
            "_model_module": "@jupyter-widgets/base",
            "_model_module_version": "1.2.0",
            "_model_name": "LayoutModel",
            "_view_count": null,
            "_view_module": "@jupyter-widgets/base",
            "_view_module_version": "1.2.0",
            "_view_name": "LayoutView",
            "align_content": null,
            "align_items": null,
            "align_self": null,
            "border": null,
            "bottom": null,
            "display": null,
            "flex": null,
            "flex_flow": null,
            "grid_area": null,
            "grid_auto_columns": null,
            "grid_auto_flow": null,
            "grid_auto_rows": null,
            "grid_column": null,
            "grid_gap": null,
            "grid_row": null,
            "grid_template_areas": null,
            "grid_template_columns": null,
            "grid_template_rows": null,
            "height": null,
            "justify_content": null,
            "justify_items": null,
            "left": null,
            "margin": null,
            "max_height": null,
            "max_width": null,
            "min_height": null,
            "min_width": null,
            "object_fit": null,
            "object_position": null,
            "order": null,
            "overflow": null,
            "overflow_x": null,
            "overflow_y": null,
            "padding": null,
            "right": null,
            "top": null,
            "visibility": null,
            "width": null
          }
        },
        "dc9411a886374fe5b82996f6326228da": {
          "model_module": "@jupyter-widgets/controls",
          "model_module_version": "1.5.0",
          "model_name": "DescriptionStyleModel",
          "state": {
            "_model_module": "@jupyter-widgets/controls",
            "_model_module_version": "1.5.0",
            "_model_name": "DescriptionStyleModel",
            "_view_count": null,
            "_view_module": "@jupyter-widgets/base",
            "_view_module_version": "1.2.0",
            "_view_name": "StyleView",
            "description_width": ""
          }
        },
        "e1470eb7818c4d8b966c9e2bcbd378f7": {
          "model_module": "@jupyter-widgets/base",
          "model_module_version": "1.2.0",
          "model_name": "LayoutModel",
          "state": {
            "_model_module": "@jupyter-widgets/base",
            "_model_module_version": "1.2.0",
            "_model_name": "LayoutModel",
            "_view_count": null,
            "_view_module": "@jupyter-widgets/base",
            "_view_module_version": "1.2.0",
            "_view_name": "LayoutView",
            "align_content": null,
            "align_items": null,
            "align_self": null,
            "border": null,
            "bottom": null,
            "display": null,
            "flex": null,
            "flex_flow": null,
            "grid_area": null,
            "grid_auto_columns": null,
            "grid_auto_flow": null,
            "grid_auto_rows": null,
            "grid_column": null,
            "grid_gap": null,
            "grid_row": null,
            "grid_template_areas": null,
            "grid_template_columns": null,
            "grid_template_rows": null,
            "height": null,
            "justify_content": null,
            "justify_items": null,
            "left": null,
            "margin": null,
            "max_height": null,
            "max_width": null,
            "min_height": null,
            "min_width": null,
            "object_fit": null,
            "object_position": null,
            "order": null,
            "overflow": null,
            "overflow_x": null,
            "overflow_y": null,
            "padding": null,
            "right": null,
            "top": null,
            "visibility": null,
            "width": null
          }
        },
        "e1da8ad6ae294ea1b94defb48d154021": {
          "model_module": "@jupyter-widgets/controls",
          "model_module_version": "1.5.0",
          "model_name": "HBoxModel",
          "state": {
            "_dom_classes": [],
            "_model_module": "@jupyter-widgets/controls",
            "_model_module_version": "1.5.0",
            "_model_name": "HBoxModel",
            "_view_count": null,
            "_view_module": "@jupyter-widgets/controls",
            "_view_module_version": "1.5.0",
            "_view_name": "HBoxView",
            "box_style": "",
            "children": [
              "IPY_MODEL_190e4dec47d743c6b7e9a511455c2693",
              "IPY_MODEL_114940412a1d478bba7e1b2d4b44f948",
              "IPY_MODEL_5d63ee1a05b243528c7383a750f9c5d4"
            ],
            "layout": "IPY_MODEL_3764493bd2154816b7c0b1976d125691"
          }
        },
        "e28eb824074d4ae7b2ff86d544627746": {
          "model_module": "@jupyter-widgets/base",
          "model_module_version": "1.2.0",
          "model_name": "LayoutModel",
          "state": {
            "_model_module": "@jupyter-widgets/base",
            "_model_module_version": "1.2.0",
            "_model_name": "LayoutModel",
            "_view_count": null,
            "_view_module": "@jupyter-widgets/base",
            "_view_module_version": "1.2.0",
            "_view_name": "LayoutView",
            "align_content": null,
            "align_items": null,
            "align_self": null,
            "border": null,
            "bottom": null,
            "display": null,
            "flex": null,
            "flex_flow": null,
            "grid_area": null,
            "grid_auto_columns": null,
            "grid_auto_flow": null,
            "grid_auto_rows": null,
            "grid_column": null,
            "grid_gap": null,
            "grid_row": null,
            "grid_template_areas": null,
            "grid_template_columns": null,
            "grid_template_rows": null,
            "height": null,
            "justify_content": null,
            "justify_items": null,
            "left": null,
            "margin": null,
            "max_height": null,
            "max_width": null,
            "min_height": null,
            "min_width": null,
            "object_fit": null,
            "object_position": null,
            "order": null,
            "overflow": null,
            "overflow_x": null,
            "overflow_y": null,
            "padding": null,
            "right": null,
            "top": null,
            "visibility": null,
            "width": null
          }
        },
        "e4edda9c611e4e7da96d28395cb49eff": {
          "model_module": "@jupyter-widgets/controls",
          "model_module_version": "1.5.0",
          "model_name": "DescriptionStyleModel",
          "state": {
            "_model_module": "@jupyter-widgets/controls",
            "_model_module_version": "1.5.0",
            "_model_name": "DescriptionStyleModel",
            "_view_count": null,
            "_view_module": "@jupyter-widgets/base",
            "_view_module_version": "1.2.0",
            "_view_name": "StyleView",
            "description_width": ""
          }
        },
        "ee130360f6b84d6eb9d059e1903666af": {
          "model_module": "@jupyter-widgets/controls",
          "model_module_version": "1.5.0",
          "model_name": "HTMLModel",
          "state": {
            "_dom_classes": [],
            "_model_module": "@jupyter-widgets/controls",
            "_model_module_version": "1.5.0",
            "_model_name": "HTMLModel",
            "_view_count": null,
            "_view_module": "@jupyter-widgets/controls",
            "_view_module_version": "1.5.0",
            "_view_name": "HTMLView",
            "description": "",
            "description_tooltip": null,
            "layout": "IPY_MODEL_6d5b27e9cda94b78a3e0bf8fec305940",
            "placeholder": "​",
            "style": "IPY_MODEL_d5eb46e702d34878b8e69adb7437661b",
            "value": " 112/112 [00:00&lt;00:00, 1.10kB/s]"
          }
        },
        "f0490a3888c342dc8387036b7792e92c": {
          "model_module": "@jupyter-widgets/controls",
          "model_module_version": "1.5.0",
          "model_name": "FloatProgressModel",
          "state": {
            "_dom_classes": [],
            "_model_module": "@jupyter-widgets/controls",
            "_model_module_version": "1.5.0",
            "_model_name": "FloatProgressModel",
            "_view_count": null,
            "_view_module": "@jupyter-widgets/controls",
            "_view_module_version": "1.5.0",
            "_view_name": "ProgressView",
            "bar_style": "success",
            "description": "",
            "description_tooltip": null,
            "layout": "IPY_MODEL_0730e981d82843648c18af5b0c6ce507",
            "max": 213450,
            "min": 0,
            "orientation": "horizontal",
            "style": "IPY_MODEL_7349646f2080428cad76b0285db5217d",
            "value": 213450
          }
        },
        "f35517bb561a4739b2031854ac7c6a94": {
          "model_module": "@jupyter-widgets/controls",
          "model_module_version": "1.5.0",
          "model_name": "HBoxModel",
          "state": {
            "_dom_classes": [],
            "_model_module": "@jupyter-widgets/controls",
            "_model_module_version": "1.5.0",
            "_model_name": "HBoxModel",
            "_view_count": null,
            "_view_module": "@jupyter-widgets/controls",
            "_view_module_version": "1.5.0",
            "_view_name": "HBoxView",
            "box_style": "",
            "children": [
              "IPY_MODEL_b06a9bc993534846bf9a2960c6e706c5",
              "IPY_MODEL_f0490a3888c342dc8387036b7792e92c",
              "IPY_MODEL_6046d69a93f84013a337b4d974ca7f7a"
            ],
            "layout": "IPY_MODEL_6d26aaf312854857b17aa6fc0a1e2e9e"
          }
        },
        "fb223c378353454d88aa5e994d60715c": {
          "model_module": "@jupyter-widgets/controls",
          "model_module_version": "1.5.0",
          "model_name": "FloatProgressModel",
          "state": {
            "_dom_classes": [],
            "_model_module": "@jupyter-widgets/controls",
            "_model_module_version": "1.5.0",
            "_model_name": "FloatProgressModel",
            "_view_count": null,
            "_view_module": "@jupyter-widgets/controls",
            "_view_module_version": "1.5.0",
            "_view_name": "ProgressView",
            "bar_style": "success",
            "description": "",
            "description_tooltip": null,
            "layout": "IPY_MODEL_ab92fd9dad2c4ecfb6ea06530185099a",
            "max": 112,
            "min": 0,
            "orientation": "horizontal",
            "style": "IPY_MODEL_c880874692dc44c6a291b1ecba003c51",
            "value": 112
          }
        }
      }
    }
  },
  "nbformat": 4,
  "nbformat_minor": 0
}
